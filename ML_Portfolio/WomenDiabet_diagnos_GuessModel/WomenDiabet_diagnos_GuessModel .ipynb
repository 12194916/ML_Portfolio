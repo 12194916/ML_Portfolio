{
  "nbformat": 4,
  "nbformat_minor": 0,
  "metadata": {
    "colab": {
      "name": "WomenDiabet_diagnos_GuessModel.ipynb",
      "provenance": [],
      "collapsed_sections": []
    },
    "kernelspec": {
      "name": "python3",
      "display_name": "Python 3"
    },
    "language_info": {
      "name": "python"
    }
  },
  "cells": [
    {
      "cell_type": "code",
      "execution_count": 75,
      "metadata": {
        "id": "nF9rRdStfiyA"
      },
      "outputs": [],
      "source": [
        "import seaborn as sns\n",
        "import matplotlib.pyplot as plt \n",
        "%matplotlib inline\n",
        "import pandas as pd\n",
        "import numpy as np"
      ]
    },
    {
      "cell_type": "code",
      "source": [
        "dfi=pd.read_csv('/content/diabetes.csv')\n",
        "dfi.head()"
      ],
      "metadata": {
        "colab": {
          "base_uri": "https://localhost:8080/",
          "height": 206
        },
        "id": "SamI64M3fyAZ",
        "outputId": "10071078-0793-4340-ea77-56b02e236335"
      },
      "execution_count": 76,
      "outputs": [
        {
          "output_type": "execute_result",
          "data": {
            "text/plain": [
              "   Pregnancies  Glucose  BloodPressure  SkinThickness  Insulin   BMI  \\\n",
              "0            6      148             72             35        0  33.6   \n",
              "1            1       85             66             29        0  26.6   \n",
              "2            8      183             64              0        0  23.3   \n",
              "3            1       89             66             23       94  28.1   \n",
              "4            0      137             40             35      168  43.1   \n",
              "\n",
              "   DiabetesPedigreeFunction  Age  Outcome  \n",
              "0                     0.627   50        1  \n",
              "1                     0.351   31        0  \n",
              "2                     0.672   32        1  \n",
              "3                     0.167   21        0  \n",
              "4                     2.288   33        1  "
            ],
            "text/html": [
              "\n",
              "  <div id=\"df-bcfb0fd2-9e84-4dd4-add7-d95c507f7b58\">\n",
              "    <div class=\"colab-df-container\">\n",
              "      <div>\n",
              "<style scoped>\n",
              "    .dataframe tbody tr th:only-of-type {\n",
              "        vertical-align: middle;\n",
              "    }\n",
              "\n",
              "    .dataframe tbody tr th {\n",
              "        vertical-align: top;\n",
              "    }\n",
              "\n",
              "    .dataframe thead th {\n",
              "        text-align: right;\n",
              "    }\n",
              "</style>\n",
              "<table border=\"1\" class=\"dataframe\">\n",
              "  <thead>\n",
              "    <tr style=\"text-align: right;\">\n",
              "      <th></th>\n",
              "      <th>Pregnancies</th>\n",
              "      <th>Glucose</th>\n",
              "      <th>BloodPressure</th>\n",
              "      <th>SkinThickness</th>\n",
              "      <th>Insulin</th>\n",
              "      <th>BMI</th>\n",
              "      <th>DiabetesPedigreeFunction</th>\n",
              "      <th>Age</th>\n",
              "      <th>Outcome</th>\n",
              "    </tr>\n",
              "  </thead>\n",
              "  <tbody>\n",
              "    <tr>\n",
              "      <th>0</th>\n",
              "      <td>6</td>\n",
              "      <td>148</td>\n",
              "      <td>72</td>\n",
              "      <td>35</td>\n",
              "      <td>0</td>\n",
              "      <td>33.6</td>\n",
              "      <td>0.627</td>\n",
              "      <td>50</td>\n",
              "      <td>1</td>\n",
              "    </tr>\n",
              "    <tr>\n",
              "      <th>1</th>\n",
              "      <td>1</td>\n",
              "      <td>85</td>\n",
              "      <td>66</td>\n",
              "      <td>29</td>\n",
              "      <td>0</td>\n",
              "      <td>26.6</td>\n",
              "      <td>0.351</td>\n",
              "      <td>31</td>\n",
              "      <td>0</td>\n",
              "    </tr>\n",
              "    <tr>\n",
              "      <th>2</th>\n",
              "      <td>8</td>\n",
              "      <td>183</td>\n",
              "      <td>64</td>\n",
              "      <td>0</td>\n",
              "      <td>0</td>\n",
              "      <td>23.3</td>\n",
              "      <td>0.672</td>\n",
              "      <td>32</td>\n",
              "      <td>1</td>\n",
              "    </tr>\n",
              "    <tr>\n",
              "      <th>3</th>\n",
              "      <td>1</td>\n",
              "      <td>89</td>\n",
              "      <td>66</td>\n",
              "      <td>23</td>\n",
              "      <td>94</td>\n",
              "      <td>28.1</td>\n",
              "      <td>0.167</td>\n",
              "      <td>21</td>\n",
              "      <td>0</td>\n",
              "    </tr>\n",
              "    <tr>\n",
              "      <th>4</th>\n",
              "      <td>0</td>\n",
              "      <td>137</td>\n",
              "      <td>40</td>\n",
              "      <td>35</td>\n",
              "      <td>168</td>\n",
              "      <td>43.1</td>\n",
              "      <td>2.288</td>\n",
              "      <td>33</td>\n",
              "      <td>1</td>\n",
              "    </tr>\n",
              "  </tbody>\n",
              "</table>\n",
              "</div>\n",
              "      <button class=\"colab-df-convert\" onclick=\"convertToInteractive('df-bcfb0fd2-9e84-4dd4-add7-d95c507f7b58')\"\n",
              "              title=\"Convert this dataframe to an interactive table.\"\n",
              "              style=\"display:none;\">\n",
              "        \n",
              "  <svg xmlns=\"http://www.w3.org/2000/svg\" height=\"24px\"viewBox=\"0 0 24 24\"\n",
              "       width=\"24px\">\n",
              "    <path d=\"M0 0h24v24H0V0z\" fill=\"none\"/>\n",
              "    <path d=\"M18.56 5.44l.94 2.06.94-2.06 2.06-.94-2.06-.94-.94-2.06-.94 2.06-2.06.94zm-11 1L8.5 8.5l.94-2.06 2.06-.94-2.06-.94L8.5 2.5l-.94 2.06-2.06.94zm10 10l.94 2.06.94-2.06 2.06-.94-2.06-.94-.94-2.06-.94 2.06-2.06.94z\"/><path d=\"M17.41 7.96l-1.37-1.37c-.4-.4-.92-.59-1.43-.59-.52 0-1.04.2-1.43.59L10.3 9.45l-7.72 7.72c-.78.78-.78 2.05 0 2.83L4 21.41c.39.39.9.59 1.41.59.51 0 1.02-.2 1.41-.59l7.78-7.78 2.81-2.81c.8-.78.8-2.07 0-2.86zM5.41 20L4 18.59l7.72-7.72 1.47 1.35L5.41 20z\"/>\n",
              "  </svg>\n",
              "      </button>\n",
              "      \n",
              "  <style>\n",
              "    .colab-df-container {\n",
              "      display:flex;\n",
              "      flex-wrap:wrap;\n",
              "      gap: 12px;\n",
              "    }\n",
              "\n",
              "    .colab-df-convert {\n",
              "      background-color: #E8F0FE;\n",
              "      border: none;\n",
              "      border-radius: 50%;\n",
              "      cursor: pointer;\n",
              "      display: none;\n",
              "      fill: #1967D2;\n",
              "      height: 32px;\n",
              "      padding: 0 0 0 0;\n",
              "      width: 32px;\n",
              "    }\n",
              "\n",
              "    .colab-df-convert:hover {\n",
              "      background-color: #E2EBFA;\n",
              "      box-shadow: 0px 1px 2px rgba(60, 64, 67, 0.3), 0px 1px 3px 1px rgba(60, 64, 67, 0.15);\n",
              "      fill: #174EA6;\n",
              "    }\n",
              "\n",
              "    [theme=dark] .colab-df-convert {\n",
              "      background-color: #3B4455;\n",
              "      fill: #D2E3FC;\n",
              "    }\n",
              "\n",
              "    [theme=dark] .colab-df-convert:hover {\n",
              "      background-color: #434B5C;\n",
              "      box-shadow: 0px 1px 3px 1px rgba(0, 0, 0, 0.15);\n",
              "      filter: drop-shadow(0px 1px 2px rgba(0, 0, 0, 0.3));\n",
              "      fill: #FFFFFF;\n",
              "    }\n",
              "  </style>\n",
              "\n",
              "      <script>\n",
              "        const buttonEl =\n",
              "          document.querySelector('#df-bcfb0fd2-9e84-4dd4-add7-d95c507f7b58 button.colab-df-convert');\n",
              "        buttonEl.style.display =\n",
              "          google.colab.kernel.accessAllowed ? 'block' : 'none';\n",
              "\n",
              "        async function convertToInteractive(key) {\n",
              "          const element = document.querySelector('#df-bcfb0fd2-9e84-4dd4-add7-d95c507f7b58');\n",
              "          const dataTable =\n",
              "            await google.colab.kernel.invokeFunction('convertToInteractive',\n",
              "                                                     [key], {});\n",
              "          if (!dataTable) return;\n",
              "\n",
              "          const docLinkHtml = 'Like what you see? Visit the ' +\n",
              "            '<a target=\"_blank\" href=https://colab.research.google.com/notebooks/data_table.ipynb>data table notebook</a>'\n",
              "            + ' to learn more about interactive tables.';\n",
              "          element.innerHTML = '';\n",
              "          dataTable['output_type'] = 'display_data';\n",
              "          await google.colab.output.renderOutput(dataTable, element);\n",
              "          const docLink = document.createElement('div');\n",
              "          docLink.innerHTML = docLinkHtml;\n",
              "          element.appendChild(docLink);\n",
              "        }\n",
              "      </script>\n",
              "    </div>\n",
              "  </div>\n",
              "  "
            ]
          },
          "metadata": {},
          "execution_count": 76
        }
      ]
    },
    {
      "cell_type": "code",
      "source": [
        "dfi.shape"
      ],
      "metadata": {
        "colab": {
          "base_uri": "https://localhost:8080/"
        },
        "id": "u5_3RRQriFza",
        "outputId": "e6ce5a32-3952-42f1-d0c4-ea0175a03ea8"
      },
      "execution_count": 77,
      "outputs": [
        {
          "output_type": "execute_result",
          "data": {
            "text/plain": [
              "(768, 9)"
            ]
          },
          "metadata": {},
          "execution_count": 77
        }
      ]
    },
    {
      "cell_type": "code",
      "source": [
        "dfi['Outcome'].value_counts()"
      ],
      "metadata": {
        "colab": {
          "base_uri": "https://localhost:8080/"
        },
        "id": "giNE2MTIl9Ib",
        "outputId": "1e23491f-d44f-4724-9ea1-11056952326a"
      },
      "execution_count": 78,
      "outputs": [
        {
          "output_type": "execute_result",
          "data": {
            "text/plain": [
              "0    500\n",
              "1    268\n",
              "Name: Outcome, dtype: int64"
            ]
          },
          "metadata": {},
          "execution_count": 78
        }
      ]
    },
    {
      "cell_type": "code",
      "source": [
        "df=dfi.sample(300)"
      ],
      "metadata": {
        "id": "-582EYUVmIEj"
      },
      "execution_count": 79,
      "outputs": []
    },
    {
      "cell_type": "code",
      "source": [
        "corrm=df.corr().abs()\n",
        "corrm.style.background_gradient(cmap='coolwarm')"
      ],
      "metadata": {
        "colab": {
          "base_uri": "https://localhost:8080/",
          "height": 331
        },
        "id": "oehs6sXwk0qL",
        "outputId": "eae168b7-f27a-4617-e3f3-0654732d8567"
      },
      "execution_count": 80,
      "outputs": [
        {
          "output_type": "execute_result",
          "data": {
            "text/plain": [
              "<pandas.io.formats.style.Styler at 0x7f1042f42ed0>"
            ],
            "text/html": [
              "<style type=\"text/css\">\n",
              "#T_0d05b_row0_col0, #T_0d05b_row1_col1, #T_0d05b_row2_col2, #T_0d05b_row3_col3, #T_0d05b_row4_col4, #T_0d05b_row5_col5, #T_0d05b_row6_col6, #T_0d05b_row7_col7, #T_0d05b_row8_col8 {\n",
              "  background-color: #b40426;\n",
              "  color: #f1f1f1;\n",
              "}\n",
              "#T_0d05b_row0_col1, #T_0d05b_row2_col1, #T_0d05b_row3_col6, #T_0d05b_row6_col7 {\n",
              "  background-color: #5470de;\n",
              "  color: #f1f1f1;\n",
              "}\n",
              "#T_0d05b_row0_col2 {\n",
              "  background-color: #6687ed;\n",
              "  color: #f1f1f1;\n",
              "}\n",
              "#T_0d05b_row0_col3, #T_0d05b_row0_col4, #T_0d05b_row0_col6, #T_0d05b_row2_col8, #T_0d05b_row3_col0, #T_0d05b_row3_col1, #T_0d05b_row5_col7, #T_0d05b_row7_col5, #T_0d05b_row8_col2 {\n",
              "  background-color: #3b4cc0;\n",
              "  color: #f1f1f1;\n",
              "}\n",
              "#T_0d05b_row0_col5, #T_0d05b_row4_col7 {\n",
              "  background-color: #4b64d5;\n",
              "  color: #f1f1f1;\n",
              "}\n",
              "#T_0d05b_row0_col7 {\n",
              "  background-color: #e1dad6;\n",
              "  color: #000000;\n",
              "}\n",
              "#T_0d05b_row0_col8 {\n",
              "  background-color: #7b9ff9;\n",
              "  color: #f1f1f1;\n",
              "}\n",
              "#T_0d05b_row1_col0, #T_0d05b_row4_col6, #T_0d05b_row6_col5 {\n",
              "  background-color: #5875e1;\n",
              "  color: #f1f1f1;\n",
              "}\n",
              "#T_0d05b_row1_col2 {\n",
              "  background-color: #5673e0;\n",
              "  color: #f1f1f1;\n",
              "}\n",
              "#T_0d05b_row1_col3 {\n",
              "  background-color: #3e51c5;\n",
              "  color: #f1f1f1;\n",
              "}\n",
              "#T_0d05b_row1_col4 {\n",
              "  background-color: #9fbfff;\n",
              "  color: #000000;\n",
              "}\n",
              "#T_0d05b_row1_col5 {\n",
              "  background-color: #89acfd;\n",
              "  color: #000000;\n",
              "}\n",
              "#T_0d05b_row1_col6 {\n",
              "  background-color: #4a63d3;\n",
              "  color: #f1f1f1;\n",
              "}\n",
              "#T_0d05b_row1_col7, #T_0d05b_row4_col5 {\n",
              "  background-color: #85a8fc;\n",
              "  color: #f1f1f1;\n",
              "}\n",
              "#T_0d05b_row1_col8 {\n",
              "  background-color: #cbd8ee;\n",
              "  color: #000000;\n",
              "}\n",
              "#T_0d05b_row2_col0 {\n",
              "  background-color: #688aef;\n",
              "  color: #f1f1f1;\n",
              "}\n",
              "#T_0d05b_row2_col3 {\n",
              "  background-color: #94b6ff;\n",
              "  color: #000000;\n",
              "}\n",
              "#T_0d05b_row2_col4 {\n",
              "  background-color: #6282ea;\n",
              "  color: #f1f1f1;\n",
              "}\n",
              "#T_0d05b_row2_col5, #T_0d05b_row5_col2 {\n",
              "  background-color: #9dbdff;\n",
              "  color: #000000;\n",
              "}\n",
              "#T_0d05b_row2_col6 {\n",
              "  background-color: #4f69d9;\n",
              "  color: #f1f1f1;\n",
              "}\n",
              "#T_0d05b_row2_col7, #T_0d05b_row7_col2, #T_0d05b_row8_col4 {\n",
              "  background-color: #7396f5;\n",
              "  color: #f1f1f1;\n",
              "}\n",
              "#T_0d05b_row3_col2 {\n",
              "  background-color: #92b4fe;\n",
              "  color: #000000;\n",
              "}\n",
              "#T_0d05b_row3_col4 {\n",
              "  background-color: #d4dbe6;\n",
              "  color: #000000;\n",
              "}\n",
              "#T_0d05b_row3_col5 {\n",
              "  background-color: #bcd2f7;\n",
              "  color: #000000;\n",
              "}\n",
              "#T_0d05b_row3_col7 {\n",
              "  background-color: #6788ee;\n",
              "  color: #f1f1f1;\n",
              "}\n",
              "#T_0d05b_row3_col8, #T_0d05b_row6_col4 {\n",
              "  background-color: #5a78e4;\n",
              "  color: #f1f1f1;\n",
              "}\n",
              "#T_0d05b_row4_col0 {\n",
              "  background-color: #3f53c6;\n",
              "  color: #f1f1f1;\n",
              "}\n",
              "#T_0d05b_row4_col1 {\n",
              "  background-color: #a1c0ff;\n",
              "  color: #000000;\n",
              "}\n",
              "#T_0d05b_row4_col2 {\n",
              "  background-color: #6485ec;\n",
              "  color: #f1f1f1;\n",
              "}\n",
              "#T_0d05b_row4_col3 {\n",
              "  background-color: #d7dce3;\n",
              "  color: #000000;\n",
              "}\n",
              "#T_0d05b_row4_col8 {\n",
              "  background-color: #7699f6;\n",
              "  color: #f1f1f1;\n",
              "}\n",
              "#T_0d05b_row5_col0, #T_0d05b_row6_col1, #T_0d05b_row7_col6 {\n",
              "  background-color: #4e68d8;\n",
              "  color: #f1f1f1;\n",
              "}\n",
              "#T_0d05b_row5_col1 {\n",
              "  background-color: #88abfd;\n",
              "  color: #000000;\n",
              "}\n",
              "#T_0d05b_row5_col3 {\n",
              "  background-color: #bed2f6;\n",
              "  color: #000000;\n",
              "}\n",
              "#T_0d05b_row5_col4, #T_0d05b_row7_col1 {\n",
              "  background-color: #82a6fb;\n",
              "  color: #f1f1f1;\n",
              "}\n",
              "#T_0d05b_row5_col6 {\n",
              "  background-color: #516ddb;\n",
              "  color: #f1f1f1;\n",
              "}\n",
              "#T_0d05b_row5_col8, #T_0d05b_row8_col5 {\n",
              "  background-color: #98b9ff;\n",
              "  color: #000000;\n",
              "}\n",
              "#T_0d05b_row6_col0 {\n",
              "  background-color: #4358cb;\n",
              "  color: #f1f1f1;\n",
              "}\n",
              "#T_0d05b_row6_col2 {\n",
              "  background-color: #5572df;\n",
              "  color: #f1f1f1;\n",
              "}\n",
              "#T_0d05b_row6_col3 {\n",
              "  background-color: #5d7ce6;\n",
              "  color: #f1f1f1;\n",
              "}\n",
              "#T_0d05b_row6_col8 {\n",
              "  background-color: #7597f6;\n",
              "  color: #f1f1f1;\n",
              "}\n",
              "#T_0d05b_row7_col0 {\n",
              "  background-color: #e2dad5;\n",
              "  color: #000000;\n",
              "}\n",
              "#T_0d05b_row7_col3 {\n",
              "  background-color: #6a8bef;\n",
              "  color: #f1f1f1;\n",
              "}\n",
              "#T_0d05b_row7_col4 {\n",
              "  background-color: #4961d2;\n",
              "  color: #f1f1f1;\n",
              "}\n",
              "#T_0d05b_row7_col8, #T_0d05b_row8_col7 {\n",
              "  background-color: #7295f4;\n",
              "  color: #f1f1f1;\n",
              "}\n",
              "#T_0d05b_row8_col0 {\n",
              "  background-color: #7da0f9;\n",
              "  color: #f1f1f1;\n",
              "}\n",
              "#T_0d05b_row8_col1 {\n",
              "  background-color: #cad8ef;\n",
              "  color: #000000;\n",
              "}\n",
              "#T_0d05b_row8_col3 {\n",
              "  background-color: #5e7de7;\n",
              "  color: #f1f1f1;\n",
              "}\n",
              "#T_0d05b_row8_col6 {\n",
              "  background-color: #6f92f3;\n",
              "  color: #f1f1f1;\n",
              "}\n",
              "</style>\n",
              "<table id=\"T_0d05b_\" class=\"dataframe\">\n",
              "  <thead>\n",
              "    <tr>\n",
              "      <th class=\"blank level0\" >&nbsp;</th>\n",
              "      <th class=\"col_heading level0 col0\" >Pregnancies</th>\n",
              "      <th class=\"col_heading level0 col1\" >Glucose</th>\n",
              "      <th class=\"col_heading level0 col2\" >BloodPressure</th>\n",
              "      <th class=\"col_heading level0 col3\" >SkinThickness</th>\n",
              "      <th class=\"col_heading level0 col4\" >Insulin</th>\n",
              "      <th class=\"col_heading level0 col5\" >BMI</th>\n",
              "      <th class=\"col_heading level0 col6\" >DiabetesPedigreeFunction</th>\n",
              "      <th class=\"col_heading level0 col7\" >Age</th>\n",
              "      <th class=\"col_heading level0 col8\" >Outcome</th>\n",
              "    </tr>\n",
              "  </thead>\n",
              "  <tbody>\n",
              "    <tr>\n",
              "      <th id=\"T_0d05b_level0_row0\" class=\"row_heading level0 row0\" >Pregnancies</th>\n",
              "      <td id=\"T_0d05b_row0_col0\" class=\"data row0 col0\" >1.000000</td>\n",
              "      <td id=\"T_0d05b_row0_col1\" class=\"data row0 col1\" >0.102621</td>\n",
              "      <td id=\"T_0d05b_row0_col2\" class=\"data row0 col2\" >0.150638</td>\n",
              "      <td id=\"T_0d05b_row0_col3\" class=\"data row0 col3\" >0.006682</td>\n",
              "      <td id=\"T_0d05b_row0_col4\" class=\"data row0 col4\" >0.024742</td>\n",
              "      <td id=\"T_0d05b_row0_col5\" class=\"data row0 col5\" >0.072335</td>\n",
              "      <td id=\"T_0d05b_row0_col6\" class=\"data row0 col6\" >0.034740</td>\n",
              "      <td id=\"T_0d05b_row0_col7\" class=\"data row0 col7\" >0.525953</td>\n",
              "      <td id=\"T_0d05b_row0_col8\" class=\"data row0 col8\" >0.212065</td>\n",
              "    </tr>\n",
              "    <tr>\n",
              "      <th id=\"T_0d05b_level0_row1\" class=\"row_heading level0 row1\" >Glucose</th>\n",
              "      <td id=\"T_0d05b_row1_col0\" class=\"data row1 col0\" >0.102621</td>\n",
              "      <td id=\"T_0d05b_row1_col1\" class=\"data row1 col1\" >1.000000</td>\n",
              "      <td id=\"T_0d05b_row1_col2\" class=\"data row1 col2\" >0.104346</td>\n",
              "      <td id=\"T_0d05b_row1_col3\" class=\"data row1 col3\" >0.021667</td>\n",
              "      <td id=\"T_0d05b_row1_col4\" class=\"data row1 col4\" >0.320269</td>\n",
              "      <td id=\"T_0d05b_row1_col5\" class=\"data row1 col5\" >0.251474</td>\n",
              "      <td id=\"T_0d05b_row1_col6\" class=\"data row1 col6\" >0.085725</td>\n",
              "      <td id=\"T_0d05b_row1_col7\" class=\"data row1 col7\" >0.238466</td>\n",
              "      <td id=\"T_0d05b_row1_col8\" class=\"data row1 col8\" >0.443307</td>\n",
              "    </tr>\n",
              "    <tr>\n",
              "      <th id=\"T_0d05b_level0_row2\" class=\"row_heading level0 row2\" >BloodPressure</th>\n",
              "      <td id=\"T_0d05b_row2_col0\" class=\"data row2 col0\" >0.150638</td>\n",
              "      <td id=\"T_0d05b_row2_col1\" class=\"data row2 col1\" >0.104346</td>\n",
              "      <td id=\"T_0d05b_row2_col2\" class=\"data row2 col2\" >1.000000</td>\n",
              "      <td id=\"T_0d05b_row2_col3\" class=\"data row2 col3\" >0.275200</td>\n",
              "      <td id=\"T_0d05b_row2_col4\" class=\"data row2 col4\" >0.148753</td>\n",
              "      <td id=\"T_0d05b_row2_col5\" class=\"data row2 col5\" >0.304645</td>\n",
              "      <td id=\"T_0d05b_row2_col6\" class=\"data row2 col6\" >0.101680</td>\n",
              "      <td id=\"T_0d05b_row2_col7\" class=\"data row2 col7\" >0.190323</td>\n",
              "      <td id=\"T_0d05b_row2_col8\" class=\"data row2 col8\" >0.015857</td>\n",
              "    </tr>\n",
              "    <tr>\n",
              "      <th id=\"T_0d05b_level0_row3\" class=\"row_heading level0 row3\" >SkinThickness</th>\n",
              "      <td id=\"T_0d05b_row3_col0\" class=\"data row3 col0\" >0.006682</td>\n",
              "      <td id=\"T_0d05b_row3_col1\" class=\"data row3 col1\" >0.021667</td>\n",
              "      <td id=\"T_0d05b_row3_col2\" class=\"data row3 col2\" >0.275200</td>\n",
              "      <td id=\"T_0d05b_row3_col3\" class=\"data row3 col3\" >1.000000</td>\n",
              "      <td id=\"T_0d05b_row3_col4\" class=\"data row3 col4\" >0.480548</td>\n",
              "      <td id=\"T_0d05b_row3_col5\" class=\"data row3 col5\" >0.397063</td>\n",
              "      <td id=\"T_0d05b_row3_col6\" class=\"data row3 col6\" >0.117487</td>\n",
              "      <td id=\"T_0d05b_row3_col7\" class=\"data row3 col7\" >0.156635</td>\n",
              "      <td id=\"T_0d05b_row3_col8\" class=\"data row3 col8\" >0.119463</td>\n",
              "    </tr>\n",
              "    <tr>\n",
              "      <th id=\"T_0d05b_level0_row4\" class=\"row_heading level0 row4\" >Insulin</th>\n",
              "      <td id=\"T_0d05b_row4_col0\" class=\"data row4 col0\" >0.024742</td>\n",
              "      <td id=\"T_0d05b_row4_col1\" class=\"data row4 col1\" >0.320269</td>\n",
              "      <td id=\"T_0d05b_row4_col2\" class=\"data row4 col2\" >0.148753</td>\n",
              "      <td id=\"T_0d05b_row4_col3\" class=\"data row4 col3\" >0.480548</td>\n",
              "      <td id=\"T_0d05b_row4_col4\" class=\"data row4 col4\" >1.000000</td>\n",
              "      <td id=\"T_0d05b_row4_col5\" class=\"data row4 col5\" >0.240678</td>\n",
              "      <td id=\"T_0d05b_row4_col6\" class=\"data row4 col6\" >0.126962</td>\n",
              "      <td id=\"T_0d05b_row4_col7\" class=\"data row4 col7\" >0.070859</td>\n",
              "      <td id=\"T_0d05b_row4_col8\" class=\"data row4 col8\" >0.199412</td>\n",
              "    </tr>\n",
              "    <tr>\n",
              "      <th id=\"T_0d05b_level0_row5\" class=\"row_heading level0 row5\" >BMI</th>\n",
              "      <td id=\"T_0d05b_row5_col0\" class=\"data row5 col0\" >0.072335</td>\n",
              "      <td id=\"T_0d05b_row5_col1\" class=\"data row5 col1\" >0.251474</td>\n",
              "      <td id=\"T_0d05b_row5_col2\" class=\"data row5 col2\" >0.304645</td>\n",
              "      <td id=\"T_0d05b_row5_col3\" class=\"data row5 col3\" >0.397063</td>\n",
              "      <td id=\"T_0d05b_row5_col4\" class=\"data row5 col4\" >0.240678</td>\n",
              "      <td id=\"T_0d05b_row5_col5\" class=\"data row5 col5\" >1.000000</td>\n",
              "      <td id=\"T_0d05b_row5_col6\" class=\"data row5 col6\" >0.107305</td>\n",
              "      <td id=\"T_0d05b_row5_col7\" class=\"data row5 col7\" >0.014824</td>\n",
              "      <td id=\"T_0d05b_row5_col8\" class=\"data row5 col8\" >0.293722</td>\n",
              "    </tr>\n",
              "    <tr>\n",
              "      <th id=\"T_0d05b_level0_row6\" class=\"row_heading level0 row6\" >DiabetesPedigreeFunction</th>\n",
              "      <td id=\"T_0d05b_row6_col0\" class=\"data row6 col0\" >0.034740</td>\n",
              "      <td id=\"T_0d05b_row6_col1\" class=\"data row6 col1\" >0.085725</td>\n",
              "      <td id=\"T_0d05b_row6_col2\" class=\"data row6 col2\" >0.101680</td>\n",
              "      <td id=\"T_0d05b_row6_col3\" class=\"data row6 col3\" >0.117487</td>\n",
              "      <td id=\"T_0d05b_row6_col4\" class=\"data row6 col4\" >0.126962</td>\n",
              "      <td id=\"T_0d05b_row6_col5\" class=\"data row6 col5\" >0.107305</td>\n",
              "      <td id=\"T_0d05b_row6_col6\" class=\"data row6 col6\" >1.000000</td>\n",
              "      <td id=\"T_0d05b_row6_col7\" class=\"data row6 col7\" >0.098629</td>\n",
              "      <td id=\"T_0d05b_row6_col8\" class=\"data row6 col8\" >0.194327</td>\n",
              "    </tr>\n",
              "    <tr>\n",
              "      <th id=\"T_0d05b_level0_row7\" class=\"row_heading level0 row7\" >Age</th>\n",
              "      <td id=\"T_0d05b_row7_col0\" class=\"data row7 col0\" >0.525953</td>\n",
              "      <td id=\"T_0d05b_row7_col1\" class=\"data row7 col1\" >0.238466</td>\n",
              "      <td id=\"T_0d05b_row7_col2\" class=\"data row7 col2\" >0.190323</td>\n",
              "      <td id=\"T_0d05b_row7_col3\" class=\"data row7 col3\" >0.156635</td>\n",
              "      <td id=\"T_0d05b_row7_col4\" class=\"data row7 col4\" >0.070859</td>\n",
              "      <td id=\"T_0d05b_row7_col5\" class=\"data row7 col5\" >0.014824</td>\n",
              "      <td id=\"T_0d05b_row7_col6\" class=\"data row7 col6\" >0.098629</td>\n",
              "      <td id=\"T_0d05b_row7_col7\" class=\"data row7 col7\" >1.000000</td>\n",
              "      <td id=\"T_0d05b_row7_col8\" class=\"data row7 col8\" >0.186270</td>\n",
              "    </tr>\n",
              "    <tr>\n",
              "      <th id=\"T_0d05b_level0_row8\" class=\"row_heading level0 row8\" >Outcome</th>\n",
              "      <td id=\"T_0d05b_row8_col0\" class=\"data row8 col0\" >0.212065</td>\n",
              "      <td id=\"T_0d05b_row8_col1\" class=\"data row8 col1\" >0.443307</td>\n",
              "      <td id=\"T_0d05b_row8_col2\" class=\"data row8 col2\" >0.015857</td>\n",
              "      <td id=\"T_0d05b_row8_col3\" class=\"data row8 col3\" >0.119463</td>\n",
              "      <td id=\"T_0d05b_row8_col4\" class=\"data row8 col4\" >0.199412</td>\n",
              "      <td id=\"T_0d05b_row8_col5\" class=\"data row8 col5\" >0.293722</td>\n",
              "      <td id=\"T_0d05b_row8_col6\" class=\"data row8 col6\" >0.194327</td>\n",
              "      <td id=\"T_0d05b_row8_col7\" class=\"data row8 col7\" >0.186270</td>\n",
              "      <td id=\"T_0d05b_row8_col8\" class=\"data row8 col8\" >1.000000</td>\n",
              "    </tr>\n",
              "  </tbody>\n",
              "</table>\n"
            ]
          },
          "metadata": {},
          "execution_count": 80
        }
      ]
    },
    {
      "cell_type": "code",
      "source": [
        "df.corrwith(df['Outcome']).abs().sort_values(ascending=False)"
      ],
      "metadata": {
        "colab": {
          "base_uri": "https://localhost:8080/"
        },
        "id": "FzvBGoUxlO0l",
        "outputId": "e5c2ad61-03f9-4508-f709-f28eb02c811e"
      },
      "execution_count": 81,
      "outputs": [
        {
          "output_type": "execute_result",
          "data": {
            "text/plain": [
              "Outcome                     1.000000\n",
              "Glucose                     0.443307\n",
              "BMI                         0.293722\n",
              "Pregnancies                 0.212065\n",
              "Insulin                     0.199412\n",
              "DiabetesPedigreeFunction    0.194327\n",
              "Age                         0.186270\n",
              "SkinThickness               0.119463\n",
              "BloodPressure               0.015857\n",
              "dtype: float64"
            ]
          },
          "metadata": {},
          "execution_count": 81
        }
      ]
    },
    {
      "cell_type": "code",
      "source": [
        "X=df.drop('Outcome',axis=1)\n",
        "y=df['Outcome'].copy()"
      ],
      "metadata": {
        "id": "4sMquZP5iMlj"
      },
      "execution_count": 82,
      "outputs": []
    },
    {
      "cell_type": "code",
      "source": [
        "from sklearn.preprocessing import StandardScaler\n",
        "sscaler=StandardScaler()\n",
        "X=sscaler.fit_transform(X)"
      ],
      "metadata": {
        "id": "nRwCdlbTisda"
      },
      "execution_count": 83,
      "outputs": []
    },
    {
      "cell_type": "code",
      "source": [
        "from sklearn.model_selection import train_test_split\n",
        "X_train,X_test,y_train,y_test=train_test_split(X,y,test_size=0.1,random_state=42)"
      ],
      "metadata": {
        "id": "yqbNTSGVgBAY"
      },
      "execution_count": 84,
      "outputs": []
    },
    {
      "cell_type": "code",
      "source": [
        "from sklearn.neighbors import KNeighborsClassifier\n",
        "knn=KNeighborsClassifier(n_neighbors=3)\n",
        "knn.fit(X_train,y_train)"
      ],
      "metadata": {
        "colab": {
          "base_uri": "https://localhost:8080/"
        },
        "id": "b08P427miE20",
        "outputId": "dd806138-7a67-4477-ec8c-94df8ccc0eef"
      },
      "execution_count": 85,
      "outputs": [
        {
          "output_type": "execute_result",
          "data": {
            "text/plain": [
              "KNeighborsClassifier(n_neighbors=3)"
            ]
          },
          "metadata": {},
          "execution_count": 85
        }
      ]
    },
    {
      "cell_type": "code",
      "source": [
        "y_predicted=knn.predict(X_test)"
      ],
      "metadata": {
        "id": "HA-JfKLGhuno"
      },
      "execution_count": 86,
      "outputs": []
    },
    {
      "cell_type": "code",
      "source": [
        "from sklearn.metrics import jaccard_score\n",
        "jaccard_score(y_test,y_predicted)"
      ],
      "metadata": {
        "colab": {
          "base_uri": "https://localhost:8080/"
        },
        "id": "QR95reOcj-EJ",
        "outputId": "af1a46f5-0c57-4e58-af85-25d4ecce045d"
      },
      "execution_count": 87,
      "outputs": [
        {
          "output_type": "execute_result",
          "data": {
            "text/plain": [
              "0.5"
            ]
          },
          "metadata": {},
          "execution_count": 87
        }
      ]
    },
    {
      "cell_type": "code",
      "source": [
        "from sklearn.metrics import confusion_matrix\n",
        "sns.heatmap(confusion_matrix(y_test,y_predicted))\n",
        "sns.heatmap(confusion_matrix(y_test,y_predicted),annot=True,fmt='g')\n",
        "plt.show()"
      ],
      "metadata": {
        "colab": {
          "base_uri": "https://localhost:8080/",
          "height": 269
        },
        "id": "8Q_udC4DkTNR",
        "outputId": "a1bd2102-0f69-486b-8fa5-1d2aa5e2950d"
      },
      "execution_count": 88,
      "outputs": [
        {
          "output_type": "display_data",
          "data": {
            "text/plain": [
              "<Figure size 432x288 with 3 Axes>"
            ],
            "image/png": "[encoded data removed]"
          },
          "metadata": {
            "needs_background": "light"
          }
        }
      ]
    },
    {
      "cell_type": "code",
      "source": [
        "from sklearn.metrics import classification_report\n",
        "print(classification_report(y_test,y_predicted))"
      ],
      "metadata": {
        "colab": {
          "base_uri": "https://localhost:8080/"
        },
        "id": "-6Zh0jEDl3sA",
        "outputId": "1a16bd03-c86b-4c8a-8cb7-0ae29bfb80ba"
      },
      "execution_count": 89,
      "outputs": [
        {
          "output_type": "stream",
          "name": "stdout",
          "text": [
            "              precision    recall  f1-score   support\n",
            "\n",
            "           0       0.95      0.83      0.89        24\n",
            "           1       0.56      0.83      0.67         6\n",
            "\n",
            "    accuracy                           0.83        30\n",
            "   macro avg       0.75      0.83      0.78        30\n",
            "weighted avg       0.87      0.83      0.84        30\n",
            "\n"
          ]
        }
      ]
    },
    {
      "cell_type": "code",
      "source": [
        "from numpy.core.numeric import cross\n",
        "from sklearn.model_selection import cross_val_predict\n",
        "predict=cross_val_predict(estimator=knn, X = X, y = y, cv = 3)\n",
        "print(classification_report(y_test,y_predicted))"
      ],
      "metadata": {
        "colab": {
          "base_uri": "https://localhost:8080/"
        },
        "id": "ueTLhQMMn1vC",
        "outputId": "f43751dc-c3d1-4114-acc5-868053b39338"
      },
      "execution_count": 90,
      "outputs": [
        {
          "output_type": "stream",
          "name": "stdout",
          "text": [
            "              precision    recall  f1-score   support\n",
            "\n",
            "           0       0.95      0.83      0.89        24\n",
            "           1       0.56      0.83      0.67         6\n",
            "\n",
            "    accuracy                           0.83        30\n",
            "   macro avg       0.75      0.83      0.78        30\n",
            "weighted avg       0.87      0.83      0.84        30\n",
            "\n"
          ]
        }
      ]
    },
    {
      "cell_type": "code",
      "source": [
        "from sklearn.model_selection import GridSearchCV\n",
        "param_grid = {'n_neighbors': np.arange(1, 25)}\n",
        "knn_gscv = GridSearchCV(knn, param_grid, cv=3)\n",
        "knn_gscv.fit(X, y)"
      ],
      "metadata": {
        "colab": {
          "base_uri": "https://localhost:8080/"
        },
        "id": "8DYDLyDIoPLS",
        "outputId": "3dddf40c-b43d-4a6b-c095-069dd5aaf7fc"
      },
      "execution_count": 91,
      "outputs": [
        {
          "output_type": "execute_result",
          "data": {
            "text/plain": [
              "GridSearchCV(cv=3, estimator=KNeighborsClassifier(n_neighbors=3),\n",
              "             param_grid={'n_neighbors': array([ 1,  2,  3,  4,  5,  6,  7,  8,  9, 10, 11, 12, 13, 14, 15, 16, 17,\n",
              "       18, 19, 20, 21, 22, 23, 24])})"
            ]
          },
          "metadata": {},
          "execution_count": 91
        }
      ]
    },
    {
      "cell_type": "code",
      "source": [
        "knn_gscv.cv_results_['rank_test_score']"
      ],
      "metadata": {
        "colab": {
          "base_uri": "https://localhost:8080/"
        },
        "id": "1c475EIrotBR",
        "outputId": "7631d701-9643-4212-a648-a924d264754a"
      },
      "execution_count": 92,
      "outputs": [
        {
          "output_type": "execute_result",
          "data": {
            "text/plain": [
              "array([15, 22, 24, 18, 21, 23, 15, 12, 13, 18, 10, 20, 13, 15,  4, 10,  4,\n",
              "        4,  7,  9,  8,  3,  1,  1], dtype=int32)"
            ]
          },
          "metadata": {},
          "execution_count": 92
        }
      ]
    },
    {
      "cell_type": "code",
      "source": [
        "knn_gscv.best_params_"
      ],
      "metadata": {
        "colab": {
          "base_uri": "https://localhost:8080/"
        },
        "id": "qEnrfr6LqZTj",
        "outputId": "a3f1fd09-99fb-4a3b-a364-27d25491bcd2"
      },
      "execution_count": 93,
      "outputs": [
        {
          "output_type": "execute_result",
          "data": {
            "text/plain": [
              "{'n_neighbors': 23}"
            ]
          },
          "metadata": {},
          "execution_count": 93
        }
      ]
    },
    {
      "cell_type": "code",
      "source": [
        "knn_gscv.best_score_"
      ],
      "metadata": {
        "colab": {
          "base_uri": "https://localhost:8080/"
        },
        "id": "Ny9MLiXUqaoc",
        "outputId": "09aa2f4e-0983-4cb9-c97e-5c23e986aa65"
      },
      "execution_count": 94,
      "outputs": [
        {
          "output_type": "execute_result",
          "data": {
            "text/plain": [
              "0.7333333333333334"
            ]
          },
          "metadata": {},
          "execution_count": 94
        }
      ]
    },
    {
      "cell_type": "code",
      "source": [
        "import matplotlib.pyplot as plt\n",
        "%matplotlib inline\n",
        "plt.figure(figsize=(10,6))\n",
        "plt.plot(param_grid['n_neighbors'], knn_gscv.cv_results_['rank_test_score'])\n",
        "plt.xticks(param_grid['n_neighbors'])\n",
        "plt.xlabel(\"k\")\n",
        "plt.ylabel(\"Xatolik reytingi\")\n",
        "plt.grid()\n",
        "plt.show()"
      ],
      "metadata": {
        "colab": {
          "base_uri": "https://localhost:8080/",
          "height": 390
        },
        "id": "KHTTcYrQpLJA",
        "outputId": "3bf5bac8-ec38-4e27-e1c3-b73c486d4ad4"
      },
      "execution_count": 95,
      "outputs": [
        {
          "output_type": "display_data",
          "data": {
            "text/plain": [
              "<Figure size 720x432 with 1 Axes>"
            ],
            "image/png": "[encoded data removed]"
          },
          "metadata": {
            "needs_background": "light"
          }
        }
      ]
    }
  ]
}