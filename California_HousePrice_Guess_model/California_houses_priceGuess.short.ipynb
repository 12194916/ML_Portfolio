{
 "cells": [
  {
   "cell_type": "code",
   "execution_count": 2,
   "id": "8a6edee7",
   "metadata": {},
   "outputs": [],
   "source": [
    "import pandas as pd\n",
    "import numpy as np\n",
    "import sklearn"
   ]
  },
  {
   "cell_type": "code",
   "execution_count": 3,
   "id": "04be6c80",
   "metadata": {},
   "outputs": [],
   "source": [
    "URL = \"https://github.com/ageron/handson-ml2/blob/master/datasets/housing/housing.csv?raw=true\"\n",
    "df = pd.read_csv(URL)"
   ]
  },
  {
   "cell_type": "code",
   "execution_count": 4,
   "id": "27b6cfe8",
   "metadata": {},
   "outputs": [],
   "source": [
    "from sklearn.model_selection import train_test_split\n",
    "train_set, test_set=train_test_split(df, test_size=0.2, random_state=42)\n",
    "housing=train_set.drop('median_house_value', axis=1)\n",
    "housing_labels=train_set['median_house_value'].copy()\n",
    "housing_num=housing.drop('ocean_proximity', axis=1)"
   ]
  },
  {
   "cell_type": "code",
   "execution_count": 5,
   "id": "da414c1d",
   "metadata": {},
   "outputs": [],
   "source": [
    "from sklearn.base import BaseEstimator, TransformerMixin\n",
    "rooms_ix, bedrooms_ix, population_ix, households_ix = 3, 4, 5, 6\n",
    "\n",
    "class CombinedAttributesAdder(BaseEstimator, TransformerMixin):\n",
    "    def __init__(self, add_bedrooms_per_room = True):\n",
    "        self.add_bedrooms_per_room = add_bedrooms_per_room\n",
    "    def fit(self, X, y=None):\n",
    "        return self\n",
    "    def transform(self, X):\n",
    "        rooms_per_household = X[:, rooms_ix] / X[:, households_ix]\n",
    "        population_per_household = X[:, population_ix] / X[:, households_ix]\n",
    "        if self.add_bedrooms_per_room:\n",
    "            bedrooms_per_room = X[:, bedrooms_ix] / X[:, rooms_ix]\n",
    "            return np.c_[X, rooms_per_household, population_per_household, bedrooms_per_room]\n",
    "        else:\n",
    "            return np.c_[X, rooms_per_household, population_per_household]"
   ]
  },
  {
   "cell_type": "code",
   "execution_count": 6,
   "id": "c9ac8ebe",
   "metadata": {},
   "outputs": [
    {
     "data": {
      "text/plain": [
       "array([[ 1.27258656, -1.3728112 ,  0.34849025, ..., -0.17491646,\n",
       "         0.05137609, -0.2117846 ],\n",
       "       [ 0.70916212, -0.87669601,  1.61811813, ..., -0.40283542,\n",
       "        -0.11736222,  0.34218528],\n",
       "       [-0.44760309, -0.46014647, -1.95271028, ...,  0.08821601,\n",
       "        -0.03227969, -0.66165785],\n",
       "       ...,\n",
       "       [ 0.59946887, -0.75500738,  0.58654547, ..., -0.60675918,\n",
       "         0.02030568,  0.99951387],\n",
       "       [-1.18553953,  0.90651045, -1.07984112, ...,  0.40217517,\n",
       "         0.00707608, -0.79086209],\n",
       "       [-1.41489815,  0.99543676,  1.85617335, ..., -0.85144571,\n",
       "        -0.08535429,  1.69520292]])"
      ]
     },
     "execution_count": 6,
     "metadata": {},
     "output_type": "execute_result"
    }
   ],
   "source": [
    "from sklearn.pipeline import Pipeline\n",
    "from sklearn.impute import SimpleImputer\n",
    "from sklearn.preprocessing import OneHotEncoder, StandardScaler\n",
    "\n",
    "num_pipeline = Pipeline([\n",
    "          ('imputer', SimpleImputer(strategy='median')),\n",
    "          ('attribs_adder', CombinedAttributesAdder(add_bedrooms_per_room = True)),\n",
    "          ('std_scaler', StandardScaler())             \n",
    "])\n",
    "num_pipeline.fit_transform(housing_num)"
   ]
  },
  {
   "cell_type": "code",
   "execution_count": 30,
   "id": "8a447e64",
   "metadata": {},
   "outputs": [],
   "source": [
    "from sklearn.compose import ColumnTransformer\n",
    "\n",
    "num_attribs=list(housing_num)\n",
    "cat_attribs=['ocean_proximity']\n",
    "full_pipeline=ColumnTransformer([\n",
    "    ('num',num_pipeline,num_attribs),\n",
    "    ('cat',OneHotEncoder(),cat_attribs)\n",
    "])\n",
    "\n",
    "housing_prepared=full_pipeline.fit_transform(housing)"
   ]
  },
  {
   "cell_type": "code",
   "execution_count": 31,
   "id": "9cbb5830",
   "metadata": {},
   "outputs": [
    {
     "data": {
      "text/plain": [
       "array([[ 1.27258656, -1.3728112 ,  0.34849025,  0.22256942,  0.21122752,\n",
       "         0.76827628,  0.32290591, -0.326196  , -0.17491646,  0.05137609,\n",
       "        -0.2117846 ,  0.        ,  0.        ,  0.        ,  0.        ,\n",
       "         1.        ],\n",
       "       [ 0.70916212, -0.87669601,  1.61811813,  0.34029326,  0.59309419,\n",
       "        -0.09890135,  0.6720272 , -0.03584338, -0.40283542, -0.11736222,\n",
       "         0.34218528,  0.        ,  0.        ,  0.        ,  0.        ,\n",
       "         1.        ],\n",
       "       [-0.44760309, -0.46014647, -1.95271028, -0.34259695, -0.49522582,\n",
       "        -0.44981806, -0.43046109,  0.14470145,  0.08821601, -0.03227969,\n",
       "        -0.66165785,  0.        ,  0.        ,  0.        ,  0.        ,\n",
       "         1.        ],\n",
       "       [ 1.23269811, -1.38217186,  0.58654547, -0.56148971, -0.40930582,\n",
       "        -0.00743434, -0.38058662, -1.01786438, -0.60001532,  0.07750687,\n",
       "         0.78303162,  0.        ,  0.        ,  0.        ,  0.        ,\n",
       "         1.        ],\n",
       "       [-0.10855122,  0.5320839 ,  1.14200767, -0.11956547, -0.25655915,\n",
       "        -0.48587717, -0.31496232, -0.17148831,  0.3490073 , -0.06883176,\n",
       "        -0.55036364,  0.        ,  1.        ,  0.        ,  0.        ,\n",
       "         0.        ]])"
      ]
     },
     "execution_count": 31,
     "metadata": {},
     "output_type": "execute_result"
    }
   ],
   "source": [
    "housing_prepared[0:5,:]"
   ]
  },
  {
   "cell_type": "code",
   "execution_count": 32,
   "id": "162cd5be",
   "metadata": {},
   "outputs": [
    {
     "data": {
      "text/plain": [
       "LinearRegression()"
      ]
     },
     "execution_count": 32,
     "metadata": {},
     "output_type": "execute_result"
    }
   ],
   "source": [
    "from sklearn.linear_model import LinearRegression\n",
    "LR_model=LinearRegression()\n",
    "LR_model.fit(housing_prepared,housing_labels)\n"
   ]
  },
  {
   "cell_type": "code",
   "execution_count": 33,
   "id": "08f0b09c",
   "metadata": {},
   "outputs": [],
   "source": [
    "test_data=housing.sample(10)"
   ]
  },
  {
   "cell_type": "code",
   "execution_count": 34,
   "id": "026c9c7f",
   "metadata": {},
   "outputs": [
    {
     "data": {
      "text/plain": [
       "10716    296200.0\n",
       "2718      93800.0\n",
       "11363    207200.0\n",
       "19347    201700.0\n",
       "1352      95300.0\n",
       "13579     79500.0\n",
       "1361     156900.0\n",
       "10605    296600.0\n",
       "9156     253700.0\n",
       "7889     313800.0\n",
       "Name: median_house_value, dtype: float64"
      ]
     },
     "execution_count": 34,
     "metadata": {},
     "output_type": "execute_result"
    }
   ],
   "source": [
    "test_label = housing_labels.loc[test_data.index]\n",
    "test_label"
   ]
  },
  {
   "cell_type": "code",
   "execution_count": 35,
   "id": "79e76ff5",
   "metadata": {},
   "outputs": [
    {
     "data": {
      "text/plain": [
       "array([[ 0.873702  , -0.92817967, -1.95271028, -0.75003178, -0.81265249,\n",
       "        -0.80513222, -0.79270724,  2.12208213, -0.1378855 , -0.04457899,\n",
       "        -0.29334731,  1.        ,  0.        ,  0.        ,  0.        ,\n",
       "         0.        ],\n",
       "       [ 2.00055088, -1.33068821, -1.00048937, -0.16831049,  0.13246752,\n",
       "        -0.21323511,  0.03415898, -1.05331166, -0.41829128, -0.06814149,\n",
       "         0.82985328,  0.        ,  1.        ,  0.        ,  0.        ,\n",
       "         0.        ],\n",
       "       [ 0.81885538, -0.89073701, -0.36567544,  0.73853091,  0.71958753,\n",
       "         1.48769951,  0.78227603,  0.1793085 , -0.04688419,  0.0699844 ,\n",
       "        -0.26068139,  1.        ,  0.        ,  0.        ,  0.        ,\n",
       "         0.        ],\n",
       "       [-1.61434043,  1.38858464,  0.98330419,  0.03586678, -0.08949249,\n",
       "        -0.38649474, -0.35696187,  0.07806056,  0.85338678, -0.0332881 ,\n",
       "        -0.49430938,  1.        ,  0.        ,  0.        ,  0.        ,\n",
       "         0.        ],\n",
       "       [-1.18553953,  1.11244506,  0.50719373,  0.02253088,  0.00836085,\n",
       "        -0.01534975,  0.0131592 , -0.45412131, -0.0446203 , -0.026503  ,\n",
       "        -0.19736407,  0.        ,  1.        ,  0.        ,  0.        ,\n",
       "         0.        ],\n",
       "       [ 1.13796302, -0.70820406,  1.85617335, -0.36007158, -0.34247916,\n",
       "        -0.40320506, -0.43833601, -1.40599899,  0.06172136, -0.01641456,\n",
       "        -0.00652048,  0.        ,  1.        ,  0.        ,  0.        ,\n",
       "         0.        ],\n",
       "       [-1.21545587,  1.11244506,  1.22135941, -0.54125592, -0.69570583,\n",
       "        -0.53600813, -0.69033333,  0.51912978,  0.31257017,  0.0302543 ,\n",
       "        -0.7631405 ,  0.        ,  0.        ,  0.        ,  1.        ,\n",
       "         0.        ],\n",
       "       [ 0.88367412, -0.92349933, -1.55595157,  0.29292781, -0.02027915,\n",
       "         0.01807089,  0.02628406,  1.87862495,  0.41644354, -0.02243025,\n",
       "        -0.88325778,  1.        ,  0.        ,  0.        ,  0.        ,\n",
       "         0.        ],\n",
       "       [ 0.53465013, -0.56779411, -1.07984112,  2.69844881,  1.71721421,\n",
       "         2.02858617,  1.9241389 ,  1.16973182,  0.61434623, -0.00599273,\n",
       "        -1.12136249,  1.        ,  0.        ,  0.        ,  0.        ,\n",
       "         0.        ],\n",
       "       [ 0.76400875, -0.82989269, -0.84178589,  1.05123485,  0.55968086,\n",
       "         1.34170409,  0.66677726,  1.05278205,  0.46101152,  0.07066249,\n",
       "        -0.96560955,  1.        ,  0.        ,  0.        ,  0.        ,\n",
       "         0.        ]])"
      ]
     },
     "execution_count": 35,
     "metadata": {},
     "output_type": "execute_result"
    }
   ],
   "source": [
    "test_data_prepared=full_pipeline.transform(test_data)\n",
    "test_data_prepared"
   ]
  },
  {
   "cell_type": "code",
   "execution_count": 36,
   "id": "c0a05808",
   "metadata": {},
   "outputs": [
    {
     "data": {
      "text/plain": [
       "array([352376.27023983,  70694.50659669, 197846.80148814, 252220.19764857,\n",
       "       156285.44711791,  72311.77409825, 256400.01779375, 337471.54206272,\n",
       "       291888.71088796, 254852.13504273])"
      ]
     },
     "execution_count": 36,
     "metadata": {},
     "output_type": "execute_result"
    }
   ],
   "source": [
    "predicted_labels=LR_model.predict(test_data_prepared)\n",
    "predicted_labels"
   ]
  },
  {
   "cell_type": "code",
   "execution_count": 37,
   "id": "1fa94e55",
   "metadata": {},
   "outputs": [
    {
     "data": {
      "text/html": [
       "<div>\n",
       "<style scoped>\n",
       "    .dataframe tbody tr th:only-of-type {\n",
       "        vertical-align: middle;\n",
       "    }\n",
       "\n",
       "    .dataframe tbody tr th {\n",
       "        vertical-align: top;\n",
       "    }\n",
       "\n",
       "    .dataframe thead th {\n",
       "        text-align: right;\n",
       "    }\n",
       "</style>\n",
       "<table border=\"1\" class=\"dataframe\">\n",
       "  <thead>\n",
       "    <tr style=\"text-align: right;\">\n",
       "      <th></th>\n",
       "      <th>Prognoz</th>\n",
       "      <th>Real_price</th>\n",
       "    </tr>\n",
       "  </thead>\n",
       "  <tbody>\n",
       "    <tr>\n",
       "      <th>10716</th>\n",
       "      <td>352376.270240</td>\n",
       "      <td>296200.0</td>\n",
       "    </tr>\n",
       "    <tr>\n",
       "      <th>2718</th>\n",
       "      <td>70694.506597</td>\n",
       "      <td>93800.0</td>\n",
       "    </tr>\n",
       "    <tr>\n",
       "      <th>11363</th>\n",
       "      <td>197846.801488</td>\n",
       "      <td>207200.0</td>\n",
       "    </tr>\n",
       "    <tr>\n",
       "      <th>19347</th>\n",
       "      <td>252220.197649</td>\n",
       "      <td>201700.0</td>\n",
       "    </tr>\n",
       "    <tr>\n",
       "      <th>1352</th>\n",
       "      <td>156285.447118</td>\n",
       "      <td>95300.0</td>\n",
       "    </tr>\n",
       "    <tr>\n",
       "      <th>13579</th>\n",
       "      <td>72311.774098</td>\n",
       "      <td>79500.0</td>\n",
       "    </tr>\n",
       "    <tr>\n",
       "      <th>1361</th>\n",
       "      <td>256400.017794</td>\n",
       "      <td>156900.0</td>\n",
       "    </tr>\n",
       "    <tr>\n",
       "      <th>10605</th>\n",
       "      <td>337471.542063</td>\n",
       "      <td>296600.0</td>\n",
       "    </tr>\n",
       "    <tr>\n",
       "      <th>9156</th>\n",
       "      <td>291888.710888</td>\n",
       "      <td>253700.0</td>\n",
       "    </tr>\n",
       "    <tr>\n",
       "      <th>7889</th>\n",
       "      <td>254852.135043</td>\n",
       "      <td>313800.0</td>\n",
       "    </tr>\n",
       "  </tbody>\n",
       "</table>\n",
       "</div>"
      ],
      "text/plain": [
       "             Prognoz  Real_price\n",
       "10716  352376.270240    296200.0\n",
       "2718    70694.506597     93800.0\n",
       "11363  197846.801488    207200.0\n",
       "19347  252220.197649    201700.0\n",
       "1352   156285.447118     95300.0\n",
       "13579   72311.774098     79500.0\n",
       "1361   256400.017794    156900.0\n",
       "10605  337471.542063    296600.0\n",
       "9156   291888.710888    253700.0\n",
       "7889   254852.135043    313800.0"
      ]
     },
     "execution_count": 37,
     "metadata": {},
     "output_type": "execute_result"
    }
   ],
   "source": [
    "pd.DataFrame({'Prognoz':predicted_labels, 'Real_price':test_label})"
   ]
  },
  {
   "cell_type": "code",
   "execution_count": 38,
   "id": "c2065cf7",
   "metadata": {},
   "outputs": [
    {
     "data": {
      "text/html": [
       "<div>\n",
       "<style scoped>\n",
       "    .dataframe tbody tr th:only-of-type {\n",
       "        vertical-align: middle;\n",
       "    }\n",
       "\n",
       "    .dataframe tbody tr th {\n",
       "        vertical-align: top;\n",
       "    }\n",
       "\n",
       "    .dataframe thead th {\n",
       "        text-align: right;\n",
       "    }\n",
       "</style>\n",
       "<table border=\"1\" class=\"dataframe\">\n",
       "  <thead>\n",
       "    <tr style=\"text-align: right;\">\n",
       "      <th></th>\n",
       "      <th>longitude</th>\n",
       "      <th>latitude</th>\n",
       "      <th>housing_median_age</th>\n",
       "      <th>total_rooms</th>\n",
       "      <th>total_bedrooms</th>\n",
       "      <th>population</th>\n",
       "      <th>households</th>\n",
       "      <th>median_income</th>\n",
       "      <th>median_house_value</th>\n",
       "      <th>ocean_proximity</th>\n",
       "    </tr>\n",
       "  </thead>\n",
       "  <tbody>\n",
       "    <tr>\n",
       "      <th>20046</th>\n",
       "      <td>-119.01</td>\n",
       "      <td>36.06</td>\n",
       "      <td>25.0</td>\n",
       "      <td>1505.0</td>\n",
       "      <td>NaN</td>\n",
       "      <td>1392.0</td>\n",
       "      <td>359.0</td>\n",
       "      <td>1.6812</td>\n",
       "      <td>47700.0</td>\n",
       "      <td>INLAND</td>\n",
       "    </tr>\n",
       "    <tr>\n",
       "      <th>3024</th>\n",
       "      <td>-119.46</td>\n",
       "      <td>35.14</td>\n",
       "      <td>30.0</td>\n",
       "      <td>2943.0</td>\n",
       "      <td>NaN</td>\n",
       "      <td>1565.0</td>\n",
       "      <td>584.0</td>\n",
       "      <td>2.5313</td>\n",
       "      <td>45800.0</td>\n",
       "      <td>INLAND</td>\n",
       "    </tr>\n",
       "    <tr>\n",
       "      <th>15663</th>\n",
       "      <td>-122.44</td>\n",
       "      <td>37.80</td>\n",
       "      <td>52.0</td>\n",
       "      <td>3830.0</td>\n",
       "      <td>NaN</td>\n",
       "      <td>1310.0</td>\n",
       "      <td>963.0</td>\n",
       "      <td>3.4801</td>\n",
       "      <td>500001.0</td>\n",
       "      <td>NEAR BAY</td>\n",
       "    </tr>\n",
       "    <tr>\n",
       "      <th>20484</th>\n",
       "      <td>-118.72</td>\n",
       "      <td>34.28</td>\n",
       "      <td>17.0</td>\n",
       "      <td>3051.0</td>\n",
       "      <td>NaN</td>\n",
       "      <td>1705.0</td>\n",
       "      <td>495.0</td>\n",
       "      <td>5.7376</td>\n",
       "      <td>218600.0</td>\n",
       "      <td>&lt;1H OCEAN</td>\n",
       "    </tr>\n",
       "    <tr>\n",
       "      <th>9814</th>\n",
       "      <td>-121.93</td>\n",
       "      <td>36.62</td>\n",
       "      <td>34.0</td>\n",
       "      <td>2351.0</td>\n",
       "      <td>NaN</td>\n",
       "      <td>1063.0</td>\n",
       "      <td>428.0</td>\n",
       "      <td>3.7250</td>\n",
       "      <td>278000.0</td>\n",
       "      <td>NEAR OCEAN</td>\n",
       "    </tr>\n",
       "    <tr>\n",
       "      <th>...</th>\n",
       "      <td>...</td>\n",
       "      <td>...</td>\n",
       "      <td>...</td>\n",
       "      <td>...</td>\n",
       "      <td>...</td>\n",
       "      <td>...</td>\n",
       "      <td>...</td>\n",
       "      <td>...</td>\n",
       "      <td>...</td>\n",
       "      <td>...</td>\n",
       "    </tr>\n",
       "    <tr>\n",
       "      <th>15362</th>\n",
       "      <td>-117.22</td>\n",
       "      <td>33.36</td>\n",
       "      <td>16.0</td>\n",
       "      <td>3165.0</td>\n",
       "      <td>482.0</td>\n",
       "      <td>1351.0</td>\n",
       "      <td>452.0</td>\n",
       "      <td>4.6050</td>\n",
       "      <td>263300.0</td>\n",
       "      <td>&lt;1H OCEAN</td>\n",
       "    </tr>\n",
       "    <tr>\n",
       "      <th>16623</th>\n",
       "      <td>-120.83</td>\n",
       "      <td>35.36</td>\n",
       "      <td>28.0</td>\n",
       "      <td>4323.0</td>\n",
       "      <td>886.0</td>\n",
       "      <td>1650.0</td>\n",
       "      <td>705.0</td>\n",
       "      <td>2.7266</td>\n",
       "      <td>266800.0</td>\n",
       "      <td>NEAR OCEAN</td>\n",
       "    </tr>\n",
       "    <tr>\n",
       "      <th>18086</th>\n",
       "      <td>-122.05</td>\n",
       "      <td>37.31</td>\n",
       "      <td>25.0</td>\n",
       "      <td>4111.0</td>\n",
       "      <td>538.0</td>\n",
       "      <td>1585.0</td>\n",
       "      <td>568.0</td>\n",
       "      <td>9.2298</td>\n",
       "      <td>500001.0</td>\n",
       "      <td>&lt;1H OCEAN</td>\n",
       "    </tr>\n",
       "    <tr>\n",
       "      <th>2144</th>\n",
       "      <td>-119.76</td>\n",
       "      <td>36.77</td>\n",
       "      <td>36.0</td>\n",
       "      <td>2507.0</td>\n",
       "      <td>466.0</td>\n",
       "      <td>1227.0</td>\n",
       "      <td>474.0</td>\n",
       "      <td>2.7850</td>\n",
       "      <td>72300.0</td>\n",
       "      <td>INLAND</td>\n",
       "    </tr>\n",
       "    <tr>\n",
       "      <th>3665</th>\n",
       "      <td>-118.37</td>\n",
       "      <td>34.22</td>\n",
       "      <td>17.0</td>\n",
       "      <td>1787.0</td>\n",
       "      <td>463.0</td>\n",
       "      <td>1671.0</td>\n",
       "      <td>448.0</td>\n",
       "      <td>3.5521</td>\n",
       "      <td>151500.0</td>\n",
       "      <td>&lt;1H OCEAN</td>\n",
       "    </tr>\n",
       "  </tbody>\n",
       "</table>\n",
       "<p>4128 rows × 10 columns</p>\n",
       "</div>"
      ],
      "text/plain": [
       "       longitude  latitude  housing_median_age  total_rooms  total_bedrooms  \\\n",
       "20046    -119.01     36.06                25.0       1505.0             NaN   \n",
       "3024     -119.46     35.14                30.0       2943.0             NaN   \n",
       "15663    -122.44     37.80                52.0       3830.0             NaN   \n",
       "20484    -118.72     34.28                17.0       3051.0             NaN   \n",
       "9814     -121.93     36.62                34.0       2351.0             NaN   \n",
       "...          ...       ...                 ...          ...             ...   \n",
       "15362    -117.22     33.36                16.0       3165.0           482.0   \n",
       "16623    -120.83     35.36                28.0       4323.0           886.0   \n",
       "18086    -122.05     37.31                25.0       4111.0           538.0   \n",
       "2144     -119.76     36.77                36.0       2507.0           466.0   \n",
       "3665     -118.37     34.22                17.0       1787.0           463.0   \n",
       "\n",
       "       population  households  median_income  median_house_value  \\\n",
       "20046      1392.0       359.0         1.6812             47700.0   \n",
       "3024       1565.0       584.0         2.5313             45800.0   \n",
       "15663      1310.0       963.0         3.4801            500001.0   \n",
       "20484      1705.0       495.0         5.7376            218600.0   \n",
       "9814       1063.0       428.0         3.7250            278000.0   \n",
       "...           ...         ...            ...                 ...   \n",
       "15362      1351.0       452.0         4.6050            263300.0   \n",
       "16623      1650.0       705.0         2.7266            266800.0   \n",
       "18086      1585.0       568.0         9.2298            500001.0   \n",
       "2144       1227.0       474.0         2.7850             72300.0   \n",
       "3665       1671.0       448.0         3.5521            151500.0   \n",
       "\n",
       "      ocean_proximity  \n",
       "20046          INLAND  \n",
       "3024           INLAND  \n",
       "15663        NEAR BAY  \n",
       "20484       <1H OCEAN  \n",
       "9814       NEAR OCEAN  \n",
       "...               ...  \n",
       "15362       <1H OCEAN  \n",
       "16623      NEAR OCEAN  \n",
       "18086       <1H OCEAN  \n",
       "2144           INLAND  \n",
       "3665        <1H OCEAN  \n",
       "\n",
       "[4128 rows x 10 columns]"
      ]
     },
     "execution_count": 38,
     "metadata": {},
     "output_type": "execute_result"
    }
   ],
   "source": [
    "test_set"
   ]
  },
  {
   "cell_type": "code",
   "execution_count": 39,
   "id": "cb016f75",
   "metadata": {},
   "outputs": [
    {
     "data": {
      "text/html": [
       "<div>\n",
       "<style scoped>\n",
       "    .dataframe tbody tr th:only-of-type {\n",
       "        vertical-align: middle;\n",
       "    }\n",
       "\n",
       "    .dataframe tbody tr th {\n",
       "        vertical-align: top;\n",
       "    }\n",
       "\n",
       "    .dataframe thead th {\n",
       "        text-align: right;\n",
       "    }\n",
       "</style>\n",
       "<table border=\"1\" class=\"dataframe\">\n",
       "  <thead>\n",
       "    <tr style=\"text-align: right;\">\n",
       "      <th></th>\n",
       "      <th>longitude</th>\n",
       "      <th>latitude</th>\n",
       "      <th>housing_median_age</th>\n",
       "      <th>total_rooms</th>\n",
       "      <th>total_bedrooms</th>\n",
       "      <th>population</th>\n",
       "      <th>households</th>\n",
       "      <th>median_income</th>\n",
       "      <th>ocean_proximity</th>\n",
       "    </tr>\n",
       "  </thead>\n",
       "  <tbody>\n",
       "    <tr>\n",
       "      <th>20046</th>\n",
       "      <td>-119.01</td>\n",
       "      <td>36.06</td>\n",
       "      <td>25.0</td>\n",
       "      <td>1505.0</td>\n",
       "      <td>NaN</td>\n",
       "      <td>1392.0</td>\n",
       "      <td>359.0</td>\n",
       "      <td>1.6812</td>\n",
       "      <td>INLAND</td>\n",
       "    </tr>\n",
       "    <tr>\n",
       "      <th>3024</th>\n",
       "      <td>-119.46</td>\n",
       "      <td>35.14</td>\n",
       "      <td>30.0</td>\n",
       "      <td>2943.0</td>\n",
       "      <td>NaN</td>\n",
       "      <td>1565.0</td>\n",
       "      <td>584.0</td>\n",
       "      <td>2.5313</td>\n",
       "      <td>INLAND</td>\n",
       "    </tr>\n",
       "    <tr>\n",
       "      <th>15663</th>\n",
       "      <td>-122.44</td>\n",
       "      <td>37.80</td>\n",
       "      <td>52.0</td>\n",
       "      <td>3830.0</td>\n",
       "      <td>NaN</td>\n",
       "      <td>1310.0</td>\n",
       "      <td>963.0</td>\n",
       "      <td>3.4801</td>\n",
       "      <td>NEAR BAY</td>\n",
       "    </tr>\n",
       "    <tr>\n",
       "      <th>20484</th>\n",
       "      <td>-118.72</td>\n",
       "      <td>34.28</td>\n",
       "      <td>17.0</td>\n",
       "      <td>3051.0</td>\n",
       "      <td>NaN</td>\n",
       "      <td>1705.0</td>\n",
       "      <td>495.0</td>\n",
       "      <td>5.7376</td>\n",
       "      <td>&lt;1H OCEAN</td>\n",
       "    </tr>\n",
       "    <tr>\n",
       "      <th>9814</th>\n",
       "      <td>-121.93</td>\n",
       "      <td>36.62</td>\n",
       "      <td>34.0</td>\n",
       "      <td>2351.0</td>\n",
       "      <td>NaN</td>\n",
       "      <td>1063.0</td>\n",
       "      <td>428.0</td>\n",
       "      <td>3.7250</td>\n",
       "      <td>NEAR OCEAN</td>\n",
       "    </tr>\n",
       "    <tr>\n",
       "      <th>...</th>\n",
       "      <td>...</td>\n",
       "      <td>...</td>\n",
       "      <td>...</td>\n",
       "      <td>...</td>\n",
       "      <td>...</td>\n",
       "      <td>...</td>\n",
       "      <td>...</td>\n",
       "      <td>...</td>\n",
       "      <td>...</td>\n",
       "    </tr>\n",
       "    <tr>\n",
       "      <th>15362</th>\n",
       "      <td>-117.22</td>\n",
       "      <td>33.36</td>\n",
       "      <td>16.0</td>\n",
       "      <td>3165.0</td>\n",
       "      <td>482.0</td>\n",
       "      <td>1351.0</td>\n",
       "      <td>452.0</td>\n",
       "      <td>4.6050</td>\n",
       "      <td>&lt;1H OCEAN</td>\n",
       "    </tr>\n",
       "    <tr>\n",
       "      <th>16623</th>\n",
       "      <td>-120.83</td>\n",
       "      <td>35.36</td>\n",
       "      <td>28.0</td>\n",
       "      <td>4323.0</td>\n",
       "      <td>886.0</td>\n",
       "      <td>1650.0</td>\n",
       "      <td>705.0</td>\n",
       "      <td>2.7266</td>\n",
       "      <td>NEAR OCEAN</td>\n",
       "    </tr>\n",
       "    <tr>\n",
       "      <th>18086</th>\n",
       "      <td>-122.05</td>\n",
       "      <td>37.31</td>\n",
       "      <td>25.0</td>\n",
       "      <td>4111.0</td>\n",
       "      <td>538.0</td>\n",
       "      <td>1585.0</td>\n",
       "      <td>568.0</td>\n",
       "      <td>9.2298</td>\n",
       "      <td>&lt;1H OCEAN</td>\n",
       "    </tr>\n",
       "    <tr>\n",
       "      <th>2144</th>\n",
       "      <td>-119.76</td>\n",
       "      <td>36.77</td>\n",
       "      <td>36.0</td>\n",
       "      <td>2507.0</td>\n",
       "      <td>466.0</td>\n",
       "      <td>1227.0</td>\n",
       "      <td>474.0</td>\n",
       "      <td>2.7850</td>\n",
       "      <td>INLAND</td>\n",
       "    </tr>\n",
       "    <tr>\n",
       "      <th>3665</th>\n",
       "      <td>-118.37</td>\n",
       "      <td>34.22</td>\n",
       "      <td>17.0</td>\n",
       "      <td>1787.0</td>\n",
       "      <td>463.0</td>\n",
       "      <td>1671.0</td>\n",
       "      <td>448.0</td>\n",
       "      <td>3.5521</td>\n",
       "      <td>&lt;1H OCEAN</td>\n",
       "    </tr>\n",
       "  </tbody>\n",
       "</table>\n",
       "<p>4128 rows × 9 columns</p>\n",
       "</div>"
      ],
      "text/plain": [
       "       longitude  latitude  housing_median_age  total_rooms  total_bedrooms  \\\n",
       "20046    -119.01     36.06                25.0       1505.0             NaN   \n",
       "3024     -119.46     35.14                30.0       2943.0             NaN   \n",
       "15663    -122.44     37.80                52.0       3830.0             NaN   \n",
       "20484    -118.72     34.28                17.0       3051.0             NaN   \n",
       "9814     -121.93     36.62                34.0       2351.0             NaN   \n",
       "...          ...       ...                 ...          ...             ...   \n",
       "15362    -117.22     33.36                16.0       3165.0           482.0   \n",
       "16623    -120.83     35.36                28.0       4323.0           886.0   \n",
       "18086    -122.05     37.31                25.0       4111.0           538.0   \n",
       "2144     -119.76     36.77                36.0       2507.0           466.0   \n",
       "3665     -118.37     34.22                17.0       1787.0           463.0   \n",
       "\n",
       "       population  households  median_income ocean_proximity  \n",
       "20046      1392.0       359.0         1.6812          INLAND  \n",
       "3024       1565.0       584.0         2.5313          INLAND  \n",
       "15663      1310.0       963.0         3.4801        NEAR BAY  \n",
       "20484      1705.0       495.0         5.7376       <1H OCEAN  \n",
       "9814       1063.0       428.0         3.7250      NEAR OCEAN  \n",
       "...           ...         ...            ...             ...  \n",
       "15362      1351.0       452.0         4.6050       <1H OCEAN  \n",
       "16623      1650.0       705.0         2.7266      NEAR OCEAN  \n",
       "18086      1585.0       568.0         9.2298       <1H OCEAN  \n",
       "2144       1227.0       474.0         2.7850          INLAND  \n",
       "3665       1671.0       448.0         3.5521       <1H OCEAN  \n",
       "\n",
       "[4128 rows x 9 columns]"
      ]
     },
     "execution_count": 39,
     "metadata": {},
     "output_type": "execute_result"
    }
   ],
   "source": [
    "X_test=test_set.drop('median_house_value',axis=1)\n",
    "X_test"
   ]
  },
  {
   "cell_type": "code",
   "execution_count": 40,
   "id": "979c0ccb",
   "metadata": {},
   "outputs": [
    {
     "data": {
      "text/plain": [
       "20046     47700.0\n",
       "3024      45800.0\n",
       "15663    500001.0\n",
       "20484    218600.0\n",
       "9814     278000.0\n",
       "           ...   \n",
       "15362    263300.0\n",
       "16623    266800.0\n",
       "18086    500001.0\n",
       "2144      72300.0\n",
       "3665     151500.0\n",
       "Name: median_house_value, Length: 4128, dtype: float64"
      ]
     },
     "execution_count": 40,
     "metadata": {},
     "output_type": "execute_result"
    }
   ],
   "source": [
    "y_test=test_set['median_house_value']\n",
    "y_test"
   ]
  },
  {
   "cell_type": "code",
   "execution_count": 41,
   "id": "6e8de29b",
   "metadata": {},
   "outputs": [],
   "source": [
    "X_test_prepared=full_pipeline.transform(X_test)"
   ]
  },
  {
   "cell_type": "code",
   "execution_count": 42,
   "id": "92209286",
   "metadata": {},
   "outputs": [],
   "source": [
    "y_predicted=LR_model.predict(X_test_prepared)"
   ]
  },
  {
   "cell_type": "code",
   "execution_count": 43,
   "id": "d025edd3",
   "metadata": {},
   "outputs": [
    {
     "name": "stdout",
     "output_type": "stream",
     "text": [
      "72701.32600762135\n"
     ]
    }
   ],
   "source": [
    "from sklearn.metrics import mean_squared_error\n",
    "lin_mse=mean_squared_error(y_test,y_predicted)\n",
    "lin_rmse=np.sqrt(lin_mse)\n",
    "print(lin_rmse)"
   ]
  },
  {
   "cell_type": "code",
   "execution_count": 44,
   "id": "72a852a2",
   "metadata": {},
   "outputs": [],
   "source": [
    "from sklearn.tree import DecisionTreeRegressor\n",
    "Tree_model=DecisionTreeRegressor()\n",
    "Tree_model.fit(housing_prepared,housing_labels)\n",
    "predicted_y=Tree_model.predict(X_test_prepared)"
   ]
  },
  {
   "cell_type": "code",
   "execution_count": 45,
   "id": "7f948776",
   "metadata": {},
   "outputs": [
    {
     "name": "stdout",
     "output_type": "stream",
     "text": [
      "72052.44291475488\n"
     ]
    }
   ],
   "source": [
    "lin_mse = mean_squared_error(y_test,predicted_y)\n",
    "lin_rmse = np.sqrt(lin_mse)\n",
    "print(lin_rmse)"
   ]
  },
  {
   "cell_type": "code",
   "execution_count": 46,
   "id": "ee67161a",
   "metadata": {},
   "outputs": [
    {
     "data": {
      "text/plain": [
       "array([ 48381.  , 104396.  , 461875.38, ..., 499103.99,  71252.  ,\n",
       "       173877.  ])"
      ]
     },
     "execution_count": 46,
     "metadata": {},
     "output_type": "execute_result"
    }
   ],
   "source": [
    "from sklearn.ensemble import RandomForestRegressor\n",
    "RF_model=RandomForestRegressor()\n",
    "RF_model.fit(housing_prepared,housing_labels)\n",
    "y_predicted=RF_model.predict(X_test_prepared)\n",
    "y_predicted"
   ]
  },
  {
   "cell_type": "code",
   "execution_count": 47,
   "id": "e1898ff5",
   "metadata": {},
   "outputs": [
    {
     "data": {
      "text/plain": [
       "50204.77091097301"
      ]
     },
     "execution_count": 47,
     "metadata": {},
     "output_type": "execute_result"
    }
   ],
   "source": [
    "forest_mse=mean_squared_error(y_test,y_predicted)\n",
    "forest_mse=np.sqrt(forest_mse)\n",
    "forest_mse"
   ]
  },
  {
   "cell_type": "code",
   "execution_count": 53,
   "id": "e7925de1",
   "metadata": {},
   "outputs": [],
   "source": [
    "from sklearn.model_selection import cross_val_score"
   ]
  },
  {
   "cell_type": "code",
   "execution_count": 60,
   "id": "d70c2405",
   "metadata": {},
   "outputs": [],
   "source": [
    "scores=cross_val_score(LR_model,housing_prepared,housing_labels, scoring='neg_mean_squared_error',cv=10)\n",
    "LR_rmse_score=np.sqrt(-scores)\n"
   ]
  },
  {
   "cell_type": "code",
   "execution_count": 64,
   "id": "e36c9360",
   "metadata": {},
   "outputs": [],
   "source": [
    "import pickle\n",
    "filename='RF_model.pkl'\n",
    "with open(filename,'wb') as file:\n",
    "        pickle.dump(RF_model,file)\n"
   ]
  },
  {
   "cell_type": "code",
   "execution_count": 66,
   "id": "b17bd277",
   "metadata": {},
   "outputs": [
    {
     "data": {
      "text/plain": [
       "['LR_model.jbl']"
      ]
     },
     "execution_count": 66,
     "metadata": {},
     "output_type": "execute_result"
    }
   ],
   "source": [
    "import joblib\n",
    "filename='LR_model.jbl'\n",
    "joblib.dump(LR_model,filename)"
   ]
  },
  {
   "cell_type": "code",
   "execution_count": 67,
   "id": "fef2ea0e",
   "metadata": {},
   "outputs": [
    {
     "data": {
      "text/plain": [
       "['pipeline.jbl']"
      ]
     },
     "execution_count": 67,
     "metadata": {},
     "output_type": "execute_result"
    }
   ],
   "source": [
    "filename='pipeline.jbl'\n",
    "joblib.dump(full_pipeline,filename)"
   ]
  },
  {
   "cell_type": "code",
   "execution_count": null,
   "id": "8bda9a08",
   "metadata": {},
   "outputs": [],
   "source": []
  }
 ],
 "metadata": {
  "kernelspec": {
   "display_name": "Python 3 (ipykernel)",
   "language": "python",
   "name": "python3"
  },
  "language_info": {
   "codemirror_mode": {
    "name": "ipython",
    "version": 3
   },
   "file_extension": ".py",
   "mimetype": "text/x-python",
   "name": "python",
   "nbconvert_exporter": "python",
   "pygments_lexer": "ipython3",
   "version": "3.9.7"
  }
 },
 "nbformat": 4,
 "nbformat_minor": 5
}
