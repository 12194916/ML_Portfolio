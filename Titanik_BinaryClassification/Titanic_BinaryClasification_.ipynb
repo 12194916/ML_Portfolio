{
  "metadata": {
    "kernelspec": {
      "language": "python",
      "display_name": "Python 3",
      "name": "python3"
    },
    "language_info": {
      "name": "python",
      "version": "3.7.12",
      "mimetype": "text/x-python",
      "codemirror_mode": {
        "name": "ipython",
        "version": 3
      },
      "pygments_lexer": "ipython3",
      "nbconvert_exporter": "python",
      "file_extension": ".py"
    },
    "colab": {
      "provenance": []
    }
  },
  "nbformat_minor": 0,
  "nbformat": 4,
  "cells": [
    {
      "cell_type": "code",
      "source": [
        "import pandas as pd\n",
        "import numpy as np"
      ],
      "metadata": {
        "execution": {
          "iopub.status.busy": "2022-09-16T05:13:16.881186Z",
          "iopub.execute_input": "2022-09-16T05:13:16.881599Z",
          "iopub.status.idle": "2022-09-16T05:13:16.964875Z",
          "shell.execute_reply.started": "2022-09-16T05:13:16.881564Z",
          "shell.execute_reply": "2022-09-16T05:13:16.963548Z"
        },
        "trusted": true,
        "id": "-DQSHcb-uHHn"
      },
      "execution_count": 138,
      "outputs": []
    },
    {
      "cell_type": "code",
      "source": [
        "df=pd.read_csv('/content/train.csv')\n",
        "df.head()"
      ],
      "metadata": {
        "colab": {
          "base_uri": "https://localhost:8080/",
          "height": 206
        },
        "id": "6UvT-dphubpI",
        "outputId": "bb17750a-904c-41b1-d52c-8e8904518726"
      },
      "execution_count": 139,
      "outputs": [
        {
          "output_type": "execute_result",
          "data": {
            "text/plain": [
              "  PassengerId HomePlanet CryoSleep  Cabin  Destination   Age    VIP  \\\n",
              "0     0001_01     Europa     False  B/0/P  TRAPPIST-1e  39.0  False   \n",
              "1     0002_01      Earth     False  F/0/S  TRAPPIST-1e  24.0  False   \n",
              "2     0003_01     Europa     False  A/0/S  TRAPPIST-1e  58.0   True   \n",
              "3     0003_02     Europa     False  A/0/S  TRAPPIST-1e  33.0  False   \n",
              "4     0004_01      Earth     False  F/1/S  TRAPPIST-1e  16.0  False   \n",
              "\n",
              "   RoomService  FoodCourt  ShoppingMall     Spa  VRDeck               Name  \\\n",
              "0          0.0        0.0           0.0     0.0     0.0    Maham Ofracculy   \n",
              "1        109.0        9.0          25.0   549.0    44.0       Juanna Vines   \n",
              "2         43.0     3576.0           0.0  6715.0    49.0      Altark Susent   \n",
              "3          0.0     1283.0         371.0  3329.0   193.0       Solam Susent   \n",
              "4        303.0       70.0         151.0   565.0     2.0  Willy Santantines   \n",
              "\n",
              "   Transported  \n",
              "0        False  \n",
              "1         True  \n",
              "2        False  \n",
              "3        False  \n",
              "4         True  "
            ],
            "text/html": [
              "\n",
              "  <div id=\"df-fcdbf706-66f4-48b1-b8ec-a8dcd21b7de6\">\n",
              "    <div class=\"colab-df-container\">\n",
              "      <div>\n",
              "<style scoped>\n",
              "    .dataframe tbody tr th:only-of-type {\n",
              "        vertical-align: middle;\n",
              "    }\n",
              "\n",
              "    .dataframe tbody tr th {\n",
              "        vertical-align: top;\n",
              "    }\n",
              "\n",
              "    .dataframe thead th {\n",
              "        text-align: right;\n",
              "    }\n",
              "</style>\n",
              "<table border=\"1\" class=\"dataframe\">\n",
              "  <thead>\n",
              "    <tr style=\"text-align: right;\">\n",
              "      <th></th>\n",
              "      <th>PassengerId</th>\n",
              "      <th>HomePlanet</th>\n",
              "      <th>CryoSleep</th>\n",
              "      <th>Cabin</th>\n",
              "      <th>Destination</th>\n",
              "      <th>Age</th>\n",
              "      <th>VIP</th>\n",
              "      <th>RoomService</th>\n",
              "      <th>FoodCourt</th>\n",
              "      <th>ShoppingMall</th>\n",
              "      <th>Spa</th>\n",
              "      <th>VRDeck</th>\n",
              "      <th>Name</th>\n",
              "      <th>Transported</th>\n",
              "    </tr>\n",
              "  </thead>\n",
              "  <tbody>\n",
              "    <tr>\n",
              "      <th>0</th>\n",
              "      <td>0001_01</td>\n",
              "      <td>Europa</td>\n",
              "      <td>False</td>\n",
              "      <td>B/0/P</td>\n",
              "      <td>TRAPPIST-1e</td>\n",
              "      <td>39.0</td>\n",
              "      <td>False</td>\n",
              "      <td>0.0</td>\n",
              "      <td>0.0</td>\n",
              "      <td>0.0</td>\n",
              "      <td>0.0</td>\n",
              "      <td>0.0</td>\n",
              "      <td>Maham Ofracculy</td>\n",
              "      <td>False</td>\n",
              "    </tr>\n",
              "    <tr>\n",
              "      <th>1</th>\n",
              "      <td>0002_01</td>\n",
              "      <td>Earth</td>\n",
              "      <td>False</td>\n",
              "      <td>F/0/S</td>\n",
              "      <td>TRAPPIST-1e</td>\n",
              "      <td>24.0</td>\n",
              "      <td>False</td>\n",
              "      <td>109.0</td>\n",
              "      <td>9.0</td>\n",
              "      <td>25.0</td>\n",
              "      <td>549.0</td>\n",
              "      <td>44.0</td>\n",
              "      <td>Juanna Vines</td>\n",
              "      <td>True</td>\n",
              "    </tr>\n",
              "    <tr>\n",
              "      <th>2</th>\n",
              "      <td>0003_01</td>\n",
              "      <td>Europa</td>\n",
              "      <td>False</td>\n",
              "      <td>A/0/S</td>\n",
              "      <td>TRAPPIST-1e</td>\n",
              "      <td>58.0</td>\n",
              "      <td>True</td>\n",
              "      <td>43.0</td>\n",
              "      <td>3576.0</td>\n",
              "      <td>0.0</td>\n",
              "      <td>6715.0</td>\n",
              "      <td>49.0</td>\n",
              "      <td>Altark Susent</td>\n",
              "      <td>False</td>\n",
              "    </tr>\n",
              "    <tr>\n",
              "      <th>3</th>\n",
              "      <td>0003_02</td>\n",
              "      <td>Europa</td>\n",
              "      <td>False</td>\n",
              "      <td>A/0/S</td>\n",
              "      <td>TRAPPIST-1e</td>\n",
              "      <td>33.0</td>\n",
              "      <td>False</td>\n",
              "      <td>0.0</td>\n",
              "      <td>1283.0</td>\n",
              "      <td>371.0</td>\n",
              "      <td>3329.0</td>\n",
              "      <td>193.0</td>\n",
              "      <td>Solam Susent</td>\n",
              "      <td>False</td>\n",
              "    </tr>\n",
              "    <tr>\n",
              "      <th>4</th>\n",
              "      <td>0004_01</td>\n",
              "      <td>Earth</td>\n",
              "      <td>False</td>\n",
              "      <td>F/1/S</td>\n",
              "      <td>TRAPPIST-1e</td>\n",
              "      <td>16.0</td>\n",
              "      <td>False</td>\n",
              "      <td>303.0</td>\n",
              "      <td>70.0</td>\n",
              "      <td>151.0</td>\n",
              "      <td>565.0</td>\n",
              "      <td>2.0</td>\n",
              "      <td>Willy Santantines</td>\n",
              "      <td>True</td>\n",
              "    </tr>\n",
              "  </tbody>\n",
              "</table>\n",
              "</div>\n",
              "      <button class=\"colab-df-convert\" onclick=\"convertToInteractive('df-fcdbf706-66f4-48b1-b8ec-a8dcd21b7de6')\"\n",
              "              title=\"Convert this dataframe to an interactive table.\"\n",
              "              style=\"display:none;\">\n",
              "        \n",
              "  <svg xmlns=\"http://www.w3.org/2000/svg\" height=\"24px\"viewBox=\"0 0 24 24\"\n",
              "       width=\"24px\">\n",
              "    <path d=\"M0 0h24v24H0V0z\" fill=\"none\"/>\n",
              "    <path d=\"M18.56 5.44l.94 2.06.94-2.06 2.06-.94-2.06-.94-.94-2.06-.94 2.06-2.06.94zm-11 1L8.5 8.5l.94-2.06 2.06-.94-2.06-.94L8.5 2.5l-.94 2.06-2.06.94zm10 10l.94 2.06.94-2.06 2.06-.94-2.06-.94-.94-2.06-.94 2.06-2.06.94z\"/><path d=\"M17.41 7.96l-1.37-1.37c-.4-.4-.92-.59-1.43-.59-.52 0-1.04.2-1.43.59L10.3 9.45l-7.72 7.72c-.78.78-.78 2.05 0 2.83L4 21.41c.39.39.9.59 1.41.59.51 0 1.02-.2 1.41-.59l7.78-7.78 2.81-2.81c.8-.78.8-2.07 0-2.86zM5.41 20L4 18.59l7.72-7.72 1.47 1.35L5.41 20z\"/>\n",
              "  </svg>\n",
              "      </button>\n",
              "      \n",
              "  <style>\n",
              "    .colab-df-container {\n",
              "      display:flex;\n",
              "      flex-wrap:wrap;\n",
              "      gap: 12px;\n",
              "    }\n",
              "\n",
              "    .colab-df-convert {\n",
              "      background-color: #E8F0FE;\n",
              "      border: none;\n",
              "      border-radius: 50%;\n",
              "      cursor: pointer;\n",
              "      display: none;\n",
              "      fill: #1967D2;\n",
              "      height: 32px;\n",
              "      padding: 0 0 0 0;\n",
              "      width: 32px;\n",
              "    }\n",
              "\n",
              "    .colab-df-convert:hover {\n",
              "      background-color: #E2EBFA;\n",
              "      box-shadow: 0px 1px 2px rgba(60, 64, 67, 0.3), 0px 1px 3px 1px rgba(60, 64, 67, 0.15);\n",
              "      fill: #174EA6;\n",
              "    }\n",
              "\n",
              "    [theme=dark] .colab-df-convert {\n",
              "      background-color: #3B4455;\n",
              "      fill: #D2E3FC;\n",
              "    }\n",
              "\n",
              "    [theme=dark] .colab-df-convert:hover {\n",
              "      background-color: #434B5C;\n",
              "      box-shadow: 0px 1px 3px 1px rgba(0, 0, 0, 0.15);\n",
              "      filter: drop-shadow(0px 1px 2px rgba(0, 0, 0, 0.3));\n",
              "      fill: #FFFFFF;\n",
              "    }\n",
              "  </style>\n",
              "\n",
              "      <script>\n",
              "        const buttonEl =\n",
              "          document.querySelector('#df-fcdbf706-66f4-48b1-b8ec-a8dcd21b7de6 button.colab-df-convert');\n",
              "        buttonEl.style.display =\n",
              "          google.colab.kernel.accessAllowed ? 'block' : 'none';\n",
              "\n",
              "        async function convertToInteractive(key) {\n",
              "          const element = document.querySelector('#df-fcdbf706-66f4-48b1-b8ec-a8dcd21b7de6');\n",
              "          const dataTable =\n",
              "            await google.colab.kernel.invokeFunction('convertToInteractive',\n",
              "                                                     [key], {});\n",
              "          if (!dataTable) return;\n",
              "\n",
              "          const docLinkHtml = 'Like what you see? Visit the ' +\n",
              "            '<a target=\"_blank\" href=https://colab.research.google.com/notebooks/data_table.ipynb>data table notebook</a>'\n",
              "            + ' to learn more about interactive tables.';\n",
              "          element.innerHTML = '';\n",
              "          dataTable['output_type'] = 'display_data';\n",
              "          await google.colab.output.renderOutput(dataTable, element);\n",
              "          const docLink = document.createElement('div');\n",
              "          docLink.innerHTML = docLinkHtml;\n",
              "          element.appendChild(docLink);\n",
              "        }\n",
              "      </script>\n",
              "    </div>\n",
              "  </div>\n",
              "  "
            ]
          },
          "metadata": {},
          "execution_count": 139
        }
      ]
    },
    {
      "cell_type": "code",
      "source": [
        "df['Destination'].value_counts()"
      ],
      "metadata": {
        "execution": {
          "iopub.status.busy": "2022-09-15T11:47:02.422460Z",
          "iopub.execute_input": "2022-09-15T11:47:02.422873Z",
          "iopub.status.idle": "2022-09-15T11:47:02.432458Z",
          "shell.execute_reply.started": "2022-09-15T11:47:02.422838Z",
          "shell.execute_reply": "2022-09-15T11:47:02.431469Z"
        },
        "trusted": true,
        "colab": {
          "base_uri": "https://localhost:8080/"
        },
        "id": "e_SOCwosuHHn",
        "outputId": "93955b3c-27a7-4d90-d0da-e863e647bb31"
      },
      "execution_count": 140,
      "outputs": [
        {
          "output_type": "execute_result",
          "data": {
            "text/plain": [
              "TRAPPIST-1e      5915\n",
              "55 Cancri e      1800\n",
              "PSO J318.5-22     796\n",
              "Name: Destination, dtype: int64"
            ]
          },
          "metadata": {},
          "execution_count": 140
        }
      ]
    },
    {
      "cell_type": "code",
      "source": [
        "df.drop(['PassengerId','Name'],axis=1,inplace=True)"
      ],
      "metadata": {
        "execution": {
          "iopub.status.busy": "2022-09-15T11:47:06.174322Z",
          "iopub.execute_input": "2022-09-15T11:47:06.174747Z",
          "iopub.status.idle": "2022-09-15T11:47:06.181739Z",
          "shell.execute_reply.started": "2022-09-15T11:47:06.174710Z",
          "shell.execute_reply": "2022-09-15T11:47:06.180744Z"
        },
        "trusted": true,
        "id": "XohPYGKouHHn"
      },
      "execution_count": 141,
      "outputs": []
    },
    {
      "cell_type": "code",
      "source": [
        "df.isnull().sum()"
      ],
      "metadata": {
        "execution": {
          "iopub.status.busy": "2022-09-15T11:47:08.633220Z",
          "iopub.execute_input": "2022-09-15T11:47:08.633711Z",
          "iopub.status.idle": "2022-09-15T11:47:08.645541Z",
          "shell.execute_reply.started": "2022-09-15T11:47:08.633672Z",
          "shell.execute_reply": "2022-09-15T11:47:08.644490Z"
        },
        "trusted": true,
        "colab": {
          "base_uri": "https://localhost:8080/"
        },
        "id": "wN1C-pS8uHHo",
        "outputId": "ba920639-f303-48e7-fe74-3ecfd3c8a2a5"
      },
      "execution_count": 142,
      "outputs": [
        {
          "output_type": "execute_result",
          "data": {
            "text/plain": [
              "HomePlanet      201\n",
              "CryoSleep       217\n",
              "Cabin           199\n",
              "Destination     182\n",
              "Age             179\n",
              "VIP             203\n",
              "RoomService     181\n",
              "FoodCourt       183\n",
              "ShoppingMall    208\n",
              "Spa             183\n",
              "VRDeck          188\n",
              "Transported       0\n",
              "dtype: int64"
            ]
          },
          "metadata": {},
          "execution_count": 142
        }
      ]
    },
    {
      "cell_type": "code",
      "source": [
        "df.shape"
      ],
      "metadata": {
        "execution": {
          "iopub.status.busy": "2022-09-15T11:47:11.665027Z",
          "iopub.execute_input": "2022-09-15T11:47:11.665639Z",
          "iopub.status.idle": "2022-09-15T11:47:11.673361Z",
          "shell.execute_reply.started": "2022-09-15T11:47:11.665589Z",
          "shell.execute_reply": "2022-09-15T11:47:11.672229Z"
        },
        "trusted": true,
        "colab": {
          "base_uri": "https://localhost:8080/"
        },
        "id": "Jtx4qdUYuHHo",
        "outputId": "a8bee8a9-6c8c-4105-cb8e-079b0656214a"
      },
      "execution_count": 143,
      "outputs": [
        {
          "output_type": "execute_result",
          "data": {
            "text/plain": [
              "(8693, 12)"
            ]
          },
          "metadata": {},
          "execution_count": 143
        }
      ]
    },
    {
      "cell_type": "code",
      "source": [
        "df=df.dropna()"
      ],
      "metadata": {
        "execution": {
          "iopub.status.busy": "2022-09-15T11:47:13.458742Z",
          "iopub.execute_input": "2022-09-15T11:47:13.459529Z",
          "iopub.status.idle": "2022-09-15T11:47:13.475122Z",
          "shell.execute_reply.started": "2022-09-15T11:47:13.459489Z",
          "shell.execute_reply": "2022-09-15T11:47:13.473793Z"
        },
        "trusted": true,
        "id": "_KvGsvBWuHHo"
      },
      "execution_count": 144,
      "outputs": []
    },
    {
      "cell_type": "code",
      "source": [
        "df.head()"
      ],
      "metadata": {
        "execution": {
          "iopub.status.busy": "2022-09-15T11:47:15.952363Z",
          "iopub.execute_input": "2022-09-15T11:47:15.952855Z",
          "iopub.status.idle": "2022-09-15T11:47:15.975622Z",
          "shell.execute_reply.started": "2022-09-15T11:47:15.952814Z",
          "shell.execute_reply": "2022-09-15T11:47:15.974580Z"
        },
        "trusted": true,
        "colab": {
          "base_uri": "https://localhost:8080/",
          "height": 206
        },
        "id": "mb5FAMx3uHHo",
        "outputId": "a0ddf0e3-0035-4ccf-cee8-5f4e63cb8f10"
      },
      "execution_count": 145,
      "outputs": [
        {
          "output_type": "execute_result",
          "data": {
            "text/plain": [
              "  HomePlanet CryoSleep  Cabin  Destination   Age    VIP  RoomService  \\\n",
              "0     Europa     False  B/0/P  TRAPPIST-1e  39.0  False          0.0   \n",
              "1      Earth     False  F/0/S  TRAPPIST-1e  24.0  False        109.0   \n",
              "2     Europa     False  A/0/S  TRAPPIST-1e  58.0   True         43.0   \n",
              "3     Europa     False  A/0/S  TRAPPIST-1e  33.0  False          0.0   \n",
              "4      Earth     False  F/1/S  TRAPPIST-1e  16.0  False        303.0   \n",
              "\n",
              "   FoodCourt  ShoppingMall     Spa  VRDeck  Transported  \n",
              "0        0.0           0.0     0.0     0.0        False  \n",
              "1        9.0          25.0   549.0    44.0         True  \n",
              "2     3576.0           0.0  6715.0    49.0        False  \n",
              "3     1283.0         371.0  3329.0   193.0        False  \n",
              "4       70.0         151.0   565.0     2.0         True  "
            ],
            "text/html": [
              "\n",
              "  <div id=\"df-e7699639-aef6-4326-87e2-41579fce5875\">\n",
              "    <div class=\"colab-df-container\">\n",
              "      <div>\n",
              "<style scoped>\n",
              "    .dataframe tbody tr th:only-of-type {\n",
              "        vertical-align: middle;\n",
              "    }\n",
              "\n",
              "    .dataframe tbody tr th {\n",
              "        vertical-align: top;\n",
              "    }\n",
              "\n",
              "    .dataframe thead th {\n",
              "        text-align: right;\n",
              "    }\n",
              "</style>\n",
              "<table border=\"1\" class=\"dataframe\">\n",
              "  <thead>\n",
              "    <tr style=\"text-align: right;\">\n",
              "      <th></th>\n",
              "      <th>HomePlanet</th>\n",
              "      <th>CryoSleep</th>\n",
              "      <th>Cabin</th>\n",
              "      <th>Destination</th>\n",
              "      <th>Age</th>\n",
              "      <th>VIP</th>\n",
              "      <th>RoomService</th>\n",
              "      <th>FoodCourt</th>\n",
              "      <th>ShoppingMall</th>\n",
              "      <th>Spa</th>\n",
              "      <th>VRDeck</th>\n",
              "      <th>Transported</th>\n",
              "    </tr>\n",
              "  </thead>\n",
              "  <tbody>\n",
              "    <tr>\n",
              "      <th>0</th>\n",
              "      <td>Europa</td>\n",
              "      <td>False</td>\n",
              "      <td>B/0/P</td>\n",
              "      <td>TRAPPIST-1e</td>\n",
              "      <td>39.0</td>\n",
              "      <td>False</td>\n",
              "      <td>0.0</td>\n",
              "      <td>0.0</td>\n",
              "      <td>0.0</td>\n",
              "      <td>0.0</td>\n",
              "      <td>0.0</td>\n",
              "      <td>False</td>\n",
              "    </tr>\n",
              "    <tr>\n",
              "      <th>1</th>\n",
              "      <td>Earth</td>\n",
              "      <td>False</td>\n",
              "      <td>F/0/S</td>\n",
              "      <td>TRAPPIST-1e</td>\n",
              "      <td>24.0</td>\n",
              "      <td>False</td>\n",
              "      <td>109.0</td>\n",
              "      <td>9.0</td>\n",
              "      <td>25.0</td>\n",
              "      <td>549.0</td>\n",
              "      <td>44.0</td>\n",
              "      <td>True</td>\n",
              "    </tr>\n",
              "    <tr>\n",
              "      <th>2</th>\n",
              "      <td>Europa</td>\n",
              "      <td>False</td>\n",
              "      <td>A/0/S</td>\n",
              "      <td>TRAPPIST-1e</td>\n",
              "      <td>58.0</td>\n",
              "      <td>True</td>\n",
              "      <td>43.0</td>\n",
              "      <td>3576.0</td>\n",
              "      <td>0.0</td>\n",
              "      <td>6715.0</td>\n",
              "      <td>49.0</td>\n",
              "      <td>False</td>\n",
              "    </tr>\n",
              "    <tr>\n",
              "      <th>3</th>\n",
              "      <td>Europa</td>\n",
              "      <td>False</td>\n",
              "      <td>A/0/S</td>\n",
              "      <td>TRAPPIST-1e</td>\n",
              "      <td>33.0</td>\n",
              "      <td>False</td>\n",
              "      <td>0.0</td>\n",
              "      <td>1283.0</td>\n",
              "      <td>371.0</td>\n",
              "      <td>3329.0</td>\n",
              "      <td>193.0</td>\n",
              "      <td>False</td>\n",
              "    </tr>\n",
              "    <tr>\n",
              "      <th>4</th>\n",
              "      <td>Earth</td>\n",
              "      <td>False</td>\n",
              "      <td>F/1/S</td>\n",
              "      <td>TRAPPIST-1e</td>\n",
              "      <td>16.0</td>\n",
              "      <td>False</td>\n",
              "      <td>303.0</td>\n",
              "      <td>70.0</td>\n",
              "      <td>151.0</td>\n",
              "      <td>565.0</td>\n",
              "      <td>2.0</td>\n",
              "      <td>True</td>\n",
              "    </tr>\n",
              "  </tbody>\n",
              "</table>\n",
              "</div>\n",
              "      <button class=\"colab-df-convert\" onclick=\"convertToInteractive('df-e7699639-aef6-4326-87e2-41579fce5875')\"\n",
              "              title=\"Convert this dataframe to an interactive table.\"\n",
              "              style=\"display:none;\">\n",
              "        \n",
              "  <svg xmlns=\"http://www.w3.org/2000/svg\" height=\"24px\"viewBox=\"0 0 24 24\"\n",
              "       width=\"24px\">\n",
              "    <path d=\"M0 0h24v24H0V0z\" fill=\"none\"/>\n",
              "    <path d=\"M18.56 5.44l.94 2.06.94-2.06 2.06-.94-2.06-.94-.94-2.06-.94 2.06-2.06.94zm-11 1L8.5 8.5l.94-2.06 2.06-.94-2.06-.94L8.5 2.5l-.94 2.06-2.06.94zm10 10l.94 2.06.94-2.06 2.06-.94-2.06-.94-.94-2.06-.94 2.06-2.06.94z\"/><path d=\"M17.41 7.96l-1.37-1.37c-.4-.4-.92-.59-1.43-.59-.52 0-1.04.2-1.43.59L10.3 9.45l-7.72 7.72c-.78.78-.78 2.05 0 2.83L4 21.41c.39.39.9.59 1.41.59.51 0 1.02-.2 1.41-.59l7.78-7.78 2.81-2.81c.8-.78.8-2.07 0-2.86zM5.41 20L4 18.59l7.72-7.72 1.47 1.35L5.41 20z\"/>\n",
              "  </svg>\n",
              "      </button>\n",
              "      \n",
              "  <style>\n",
              "    .colab-df-container {\n",
              "      display:flex;\n",
              "      flex-wrap:wrap;\n",
              "      gap: 12px;\n",
              "    }\n",
              "\n",
              "    .colab-df-convert {\n",
              "      background-color: #E8F0FE;\n",
              "      border: none;\n",
              "      border-radius: 50%;\n",
              "      cursor: pointer;\n",
              "      display: none;\n",
              "      fill: #1967D2;\n",
              "      height: 32px;\n",
              "      padding: 0 0 0 0;\n",
              "      width: 32px;\n",
              "    }\n",
              "\n",
              "    .colab-df-convert:hover {\n",
              "      background-color: #E2EBFA;\n",
              "      box-shadow: 0px 1px 2px rgba(60, 64, 67, 0.3), 0px 1px 3px 1px rgba(60, 64, 67, 0.15);\n",
              "      fill: #174EA6;\n",
              "    }\n",
              "\n",
              "    [theme=dark] .colab-df-convert {\n",
              "      background-color: #3B4455;\n",
              "      fill: #D2E3FC;\n",
              "    }\n",
              "\n",
              "    [theme=dark] .colab-df-convert:hover {\n",
              "      background-color: #434B5C;\n",
              "      box-shadow: 0px 1px 3px 1px rgba(0, 0, 0, 0.15);\n",
              "      filter: drop-shadow(0px 1px 2px rgba(0, 0, 0, 0.3));\n",
              "      fill: #FFFFFF;\n",
              "    }\n",
              "  </style>\n",
              "\n",
              "      <script>\n",
              "        const buttonEl =\n",
              "          document.querySelector('#df-e7699639-aef6-4326-87e2-41579fce5875 button.colab-df-convert');\n",
              "        buttonEl.style.display =\n",
              "          google.colab.kernel.accessAllowed ? 'block' : 'none';\n",
              "\n",
              "        async function convertToInteractive(key) {\n",
              "          const element = document.querySelector('#df-e7699639-aef6-4326-87e2-41579fce5875');\n",
              "          const dataTable =\n",
              "            await google.colab.kernel.invokeFunction('convertToInteractive',\n",
              "                                                     [key], {});\n",
              "          if (!dataTable) return;\n",
              "\n",
              "          const docLinkHtml = 'Like what you see? Visit the ' +\n",
              "            '<a target=\"_blank\" href=https://colab.research.google.com/notebooks/data_table.ipynb>data table notebook</a>'\n",
              "            + ' to learn more about interactive tables.';\n",
              "          element.innerHTML = '';\n",
              "          dataTable['output_type'] = 'display_data';\n",
              "          await google.colab.output.renderOutput(dataTable, element);\n",
              "          const docLink = document.createElement('div');\n",
              "          docLink.innerHTML = docLinkHtml;\n",
              "          element.appendChild(docLink);\n",
              "        }\n",
              "      </script>\n",
              "    </div>\n",
              "  </div>\n",
              "  "
            ]
          },
          "metadata": {},
          "execution_count": 145
        }
      ]
    },
    {
      "cell_type": "code",
      "source": [
        "import matplotlib.pyplot as plt\n",
        "import seaborn as sns"
      ],
      "metadata": {
        "execution": {
          "iopub.status.busy": "2022-09-15T11:47:22.172875Z",
          "iopub.execute_input": "2022-09-15T11:47:22.173302Z",
          "iopub.status.idle": "2022-09-15T11:47:22.800868Z",
          "shell.execute_reply.started": "2022-09-15T11:47:22.173263Z",
          "shell.execute_reply": "2022-09-15T11:47:22.799738Z"
        },
        "trusted": true,
        "id": "ueqPs5IkuHHp"
      },
      "execution_count": 146,
      "outputs": []
    },
    {
      "cell_type": "code",
      "source": [
        "plt.figure(figsize=(5,5))\n",
        "plt.pie(df['CryoSleep'].value_counts()/len(df)*100,labels=['Not sleeping','Sleeping'])\n",
        "plt.show()"
      ],
      "metadata": {
        "execution": {
          "iopub.status.busy": "2022-09-15T11:47:23.890334Z",
          "iopub.execute_input": "2022-09-15T11:47:23.891097Z",
          "iopub.status.idle": "2022-09-15T11:47:24.023151Z",
          "shell.execute_reply.started": "2022-09-15T11:47:23.891060Z",
          "shell.execute_reply": "2022-09-15T11:47:24.021832Z"
        },
        "trusted": true,
        "colab": {
          "base_uri": "https://localhost:8080/",
          "height": 303
        },
        "id": "s0zfKsmsuHHp",
        "outputId": "44ef90c8-2d06-4c30-b95a-45f22e5ef95c"
      },
      "execution_count": 147,
      "outputs": [
        {
          "output_type": "display_data",
          "data": {
            "text/plain": [
              "<Figure size 360x360 with 1 Axes>"
            ],
            "image/png": "[encoded data removed]"
          },
          "metadata": {}
        }
      ]
    },
    {
      "cell_type": "code",
      "source": [
        "fig,ax=plt.subplots(2,2,figsize=(15,10))\n",
        "ax[0,0].set_title('The number of passengers per Destination.')\n",
        "sns.countplot(ax=ax[0,0],x=df['Destination'])\n",
        "ax[0,1].set_title('The number of passengers according to the Home Planets.')\n",
        "sns.countplot(ax=ax[0,1],x=df['HomePlanet'])\n",
        "ax[1,0].set_title('The number of passengers according to VIP.')\n",
        "sns.countplot(ax=ax[1,0], x=df['VIP'])\n",
        "ax[1,1].set_title('The number of transported and untransported passengers.')\n",
        "sns.countplot(ax=ax[1,1], x=df['Transported'])\n",
        "ax[1,1].grid(color='k',linestyle=\"--\")\n",
        "plt.show()"
      ],
      "metadata": {
        "execution": {
          "iopub.status.busy": "2022-09-15T11:47:26.232323Z",
          "iopub.execute_input": "2022-09-15T11:47:26.233081Z",
          "iopub.status.idle": "2022-09-15T11:47:26.775624Z",
          "shell.execute_reply.started": "2022-09-15T11:47:26.233041Z",
          "shell.execute_reply": "2022-09-15T11:47:26.774307Z"
        },
        "trusted": true,
        "colab": {
          "base_uri": "https://localhost:8080/",
          "height": 621
        },
        "id": "RieWHobPuHHp",
        "outputId": "474a55e2-addd-4243-b0da-0850bc8acf90"
      },
      "execution_count": 148,
      "outputs": [
        {
          "output_type": "display_data",
          "data": {
            "text/plain": [
              "<Figure size 1080x720 with 4 Axes>"
            ],
            "image/png": "[encoded data removed]"
          },
          "metadata": {
            "needs_background": "light"
          }
        }
      ]
    },
    {
      "cell_type": "code",
      "source": [
        "df"
      ],
      "metadata": {
        "execution": {
          "iopub.status.busy": "2022-09-12T02:28:52.082771Z",
          "iopub.execute_input": "2022-09-12T02:28:52.083156Z",
          "iopub.status.idle": "2022-09-12T02:28:52.112465Z",
          "shell.execute_reply.started": "2022-09-12T02:28:52.083125Z",
          "shell.execute_reply": "2022-09-12T02:28:52.111226Z"
        },
        "trusted": true,
        "colab": {
          "base_uri": "https://localhost:8080/",
          "height": 424
        },
        "id": "TEzKwzawuHHp",
        "outputId": "2396e6cb-1979-4949-e749-7739d05a4788"
      },
      "execution_count": 149,
      "outputs": [
        {
          "output_type": "execute_result",
          "data": {
            "text/plain": [
              "     HomePlanet CryoSleep     Cabin    Destination   Age    VIP  RoomService  \\\n",
              "0        Europa     False     B/0/P    TRAPPIST-1e  39.0  False          0.0   \n",
              "1         Earth     False     F/0/S    TRAPPIST-1e  24.0  False        109.0   \n",
              "2        Europa     False     A/0/S    TRAPPIST-1e  58.0   True         43.0   \n",
              "3        Europa     False     A/0/S    TRAPPIST-1e  33.0  False          0.0   \n",
              "4         Earth     False     F/1/S    TRAPPIST-1e  16.0  False        303.0   \n",
              "...         ...       ...       ...            ...   ...    ...          ...   \n",
              "8688     Europa     False    A/98/P    55 Cancri e  41.0   True          0.0   \n",
              "8689      Earth      True  G/1499/S  PSO J318.5-22  18.0  False          0.0   \n",
              "8690      Earth     False  G/1500/S    TRAPPIST-1e  26.0  False          0.0   \n",
              "8691     Europa     False   E/608/S    55 Cancri e  32.0  False          0.0   \n",
              "8692     Europa     False   E/608/S    TRAPPIST-1e  44.0  False        126.0   \n",
              "\n",
              "      FoodCourt  ShoppingMall     Spa  VRDeck  Transported  \n",
              "0           0.0           0.0     0.0     0.0        False  \n",
              "1           9.0          25.0   549.0    44.0         True  \n",
              "2        3576.0           0.0  6715.0    49.0        False  \n",
              "3        1283.0         371.0  3329.0   193.0        False  \n",
              "4          70.0         151.0   565.0     2.0         True  \n",
              "...         ...           ...     ...     ...          ...  \n",
              "8688     6819.0           0.0  1643.0    74.0        False  \n",
              "8689        0.0           0.0     0.0     0.0        False  \n",
              "8690        0.0        1872.0     1.0     0.0         True  \n",
              "8691     1049.0           0.0   353.0  3235.0        False  \n",
              "8692     4688.0           0.0     0.0    12.0         True  \n",
              "\n",
              "[6764 rows x 12 columns]"
            ],
            "text/html": [
              "\n",
              "  <div id=\"df-54e11b06-3869-471a-92e6-ba712c699445\">\n",
              "    <div class=\"colab-df-container\">\n",
              "      <div>\n",
              "<style scoped>\n",
              "    .dataframe tbody tr th:only-of-type {\n",
              "        vertical-align: middle;\n",
              "    }\n",
              "\n",
              "    .dataframe tbody tr th {\n",
              "        vertical-align: top;\n",
              "    }\n",
              "\n",
              "    .dataframe thead th {\n",
              "        text-align: right;\n",
              "    }\n",
              "</style>\n",
              "<table border=\"1\" class=\"dataframe\">\n",
              "  <thead>\n",
              "    <tr style=\"text-align: right;\">\n",
              "      <th></th>\n",
              "      <th>HomePlanet</th>\n",
              "      <th>CryoSleep</th>\n",
              "      <th>Cabin</th>\n",
              "      <th>Destination</th>\n",
              "      <th>Age</th>\n",
              "      <th>VIP</th>\n",
              "      <th>RoomService</th>\n",
              "      <th>FoodCourt</th>\n",
              "      <th>ShoppingMall</th>\n",
              "      <th>Spa</th>\n",
              "      <th>VRDeck</th>\n",
              "      <th>Transported</th>\n",
              "    </tr>\n",
              "  </thead>\n",
              "  <tbody>\n",
              "    <tr>\n",
              "      <th>0</th>\n",
              "      <td>Europa</td>\n",
              "      <td>False</td>\n",
              "      <td>B/0/P</td>\n",
              "      <td>TRAPPIST-1e</td>\n",
              "      <td>39.0</td>\n",
              "      <td>False</td>\n",
              "      <td>0.0</td>\n",
              "      <td>0.0</td>\n",
              "      <td>0.0</td>\n",
              "      <td>0.0</td>\n",
              "      <td>0.0</td>\n",
              "      <td>False</td>\n",
              "    </tr>\n",
              "    <tr>\n",
              "      <th>1</th>\n",
              "      <td>Earth</td>\n",
              "      <td>False</td>\n",
              "      <td>F/0/S</td>\n",
              "      <td>TRAPPIST-1e</td>\n",
              "      <td>24.0</td>\n",
              "      <td>False</td>\n",
              "      <td>109.0</td>\n",
              "      <td>9.0</td>\n",
              "      <td>25.0</td>\n",
              "      <td>549.0</td>\n",
              "      <td>44.0</td>\n",
              "      <td>True</td>\n",
              "    </tr>\n",
              "    <tr>\n",
              "      <th>2</th>\n",
              "      <td>Europa</td>\n",
              "      <td>False</td>\n",
              "      <td>A/0/S</td>\n",
              "      <td>TRAPPIST-1e</td>\n",
              "      <td>58.0</td>\n",
              "      <td>True</td>\n",
              "      <td>43.0</td>\n",
              "      <td>3576.0</td>\n",
              "      <td>0.0</td>\n",
              "      <td>6715.0</td>\n",
              "      <td>49.0</td>\n",
              "      <td>False</td>\n",
              "    </tr>\n",
              "    <tr>\n",
              "      <th>3</th>\n",
              "      <td>Europa</td>\n",
              "      <td>False</td>\n",
              "      <td>A/0/S</td>\n",
              "      <td>TRAPPIST-1e</td>\n",
              "      <td>33.0</td>\n",
              "      <td>False</td>\n",
              "      <td>0.0</td>\n",
              "      <td>1283.0</td>\n",
              "      <td>371.0</td>\n",
              "      <td>3329.0</td>\n",
              "      <td>193.0</td>\n",
              "      <td>False</td>\n",
              "    </tr>\n",
              "    <tr>\n",
              "      <th>4</th>\n",
              "      <td>Earth</td>\n",
              "      <td>False</td>\n",
              "      <td>F/1/S</td>\n",
              "      <td>TRAPPIST-1e</td>\n",
              "      <td>16.0</td>\n",
              "      <td>False</td>\n",
              "      <td>303.0</td>\n",
              "      <td>70.0</td>\n",
              "      <td>151.0</td>\n",
              "      <td>565.0</td>\n",
              "      <td>2.0</td>\n",
              "      <td>True</td>\n",
              "    </tr>\n",
              "    <tr>\n",
              "      <th>...</th>\n",
              "      <td>...</td>\n",
              "      <td>...</td>\n",
              "      <td>...</td>\n",
              "      <td>...</td>\n",
              "      <td>...</td>\n",
              "      <td>...</td>\n",
              "      <td>...</td>\n",
              "      <td>...</td>\n",
              "      <td>...</td>\n",
              "      <td>...</td>\n",
              "      <td>...</td>\n",
              "      <td>...</td>\n",
              "    </tr>\n",
              "    <tr>\n",
              "      <th>8688</th>\n",
              "      <td>Europa</td>\n",
              "      <td>False</td>\n",
              "      <td>A/98/P</td>\n",
              "      <td>55 Cancri e</td>\n",
              "      <td>41.0</td>\n",
              "      <td>True</td>\n",
              "      <td>0.0</td>\n",
              "      <td>6819.0</td>\n",
              "      <td>0.0</td>\n",
              "      <td>1643.0</td>\n",
              "      <td>74.0</td>\n",
              "      <td>False</td>\n",
              "    </tr>\n",
              "    <tr>\n",
              "      <th>8689</th>\n",
              "      <td>Earth</td>\n",
              "      <td>True</td>\n",
              "      <td>G/1499/S</td>\n",
              "      <td>PSO J318.5-22</td>\n",
              "      <td>18.0</td>\n",
              "      <td>False</td>\n",
              "      <td>0.0</td>\n",
              "      <td>0.0</td>\n",
              "      <td>0.0</td>\n",
              "      <td>0.0</td>\n",
              "      <td>0.0</td>\n",
              "      <td>False</td>\n",
              "    </tr>\n",
              "    <tr>\n",
              "      <th>8690</th>\n",
              "      <td>Earth</td>\n",
              "      <td>False</td>\n",
              "      <td>G/1500/S</td>\n",
              "      <td>TRAPPIST-1e</td>\n",
              "      <td>26.0</td>\n",
              "      <td>False</td>\n",
              "      <td>0.0</td>\n",
              "      <td>0.0</td>\n",
              "      <td>1872.0</td>\n",
              "      <td>1.0</td>\n",
              "      <td>0.0</td>\n",
              "      <td>True</td>\n",
              "    </tr>\n",
              "    <tr>\n",
              "      <th>8691</th>\n",
              "      <td>Europa</td>\n",
              "      <td>False</td>\n",
              "      <td>E/608/S</td>\n",
              "      <td>55 Cancri e</td>\n",
              "      <td>32.0</td>\n",
              "      <td>False</td>\n",
              "      <td>0.0</td>\n",
              "      <td>1049.0</td>\n",
              "      <td>0.0</td>\n",
              "      <td>353.0</td>\n",
              "      <td>3235.0</td>\n",
              "      <td>False</td>\n",
              "    </tr>\n",
              "    <tr>\n",
              "      <th>8692</th>\n",
              "      <td>Europa</td>\n",
              "      <td>False</td>\n",
              "      <td>E/608/S</td>\n",
              "      <td>TRAPPIST-1e</td>\n",
              "      <td>44.0</td>\n",
              "      <td>False</td>\n",
              "      <td>126.0</td>\n",
              "      <td>4688.0</td>\n",
              "      <td>0.0</td>\n",
              "      <td>0.0</td>\n",
              "      <td>12.0</td>\n",
              "      <td>True</td>\n",
              "    </tr>\n",
              "  </tbody>\n",
              "</table>\n",
              "<p>6764 rows × 12 columns</p>\n",
              "</div>\n",
              "      <button class=\"colab-df-convert\" onclick=\"convertToInteractive('df-54e11b06-3869-471a-92e6-ba712c699445')\"\n",
              "              title=\"Convert this dataframe to an interactive table.\"\n",
              "              style=\"display:none;\">\n",
              "        \n",
              "  <svg xmlns=\"http://www.w3.org/2000/svg\" height=\"24px\"viewBox=\"0 0 24 24\"\n",
              "       width=\"24px\">\n",
              "    <path d=\"M0 0h24v24H0V0z\" fill=\"none\"/>\n",
              "    <path d=\"M18.56 5.44l.94 2.06.94-2.06 2.06-.94-2.06-.94-.94-2.06-.94 2.06-2.06.94zm-11 1L8.5 8.5l.94-2.06 2.06-.94-2.06-.94L8.5 2.5l-.94 2.06-2.06.94zm10 10l.94 2.06.94-2.06 2.06-.94-2.06-.94-.94-2.06-.94 2.06-2.06.94z\"/><path d=\"M17.41 7.96l-1.37-1.37c-.4-.4-.92-.59-1.43-.59-.52 0-1.04.2-1.43.59L10.3 9.45l-7.72 7.72c-.78.78-.78 2.05 0 2.83L4 21.41c.39.39.9.59 1.41.59.51 0 1.02-.2 1.41-.59l7.78-7.78 2.81-2.81c.8-.78.8-2.07 0-2.86zM5.41 20L4 18.59l7.72-7.72 1.47 1.35L5.41 20z\"/>\n",
              "  </svg>\n",
              "      </button>\n",
              "      \n",
              "  <style>\n",
              "    .colab-df-container {\n",
              "      display:flex;\n",
              "      flex-wrap:wrap;\n",
              "      gap: 12px;\n",
              "    }\n",
              "\n",
              "    .colab-df-convert {\n",
              "      background-color: #E8F0FE;\n",
              "      border: none;\n",
              "      border-radius: 50%;\n",
              "      cursor: pointer;\n",
              "      display: none;\n",
              "      fill: #1967D2;\n",
              "      height: 32px;\n",
              "      padding: 0 0 0 0;\n",
              "      width: 32px;\n",
              "    }\n",
              "\n",
              "    .colab-df-convert:hover {\n",
              "      background-color: #E2EBFA;\n",
              "      box-shadow: 0px 1px 2px rgba(60, 64, 67, 0.3), 0px 1px 3px 1px rgba(60, 64, 67, 0.15);\n",
              "      fill: #174EA6;\n",
              "    }\n",
              "\n",
              "    [theme=dark] .colab-df-convert {\n",
              "      background-color: #3B4455;\n",
              "      fill: #D2E3FC;\n",
              "    }\n",
              "\n",
              "    [theme=dark] .colab-df-convert:hover {\n",
              "      background-color: #434B5C;\n",
              "      box-shadow: 0px 1px 3px 1px rgba(0, 0, 0, 0.15);\n",
              "      filter: drop-shadow(0px 1px 2px rgba(0, 0, 0, 0.3));\n",
              "      fill: #FFFFFF;\n",
              "    }\n",
              "  </style>\n",
              "\n",
              "      <script>\n",
              "        const buttonEl =\n",
              "          document.querySelector('#df-54e11b06-3869-471a-92e6-ba712c699445 button.colab-df-convert');\n",
              "        buttonEl.style.display =\n",
              "          google.colab.kernel.accessAllowed ? 'block' : 'none';\n",
              "\n",
              "        async function convertToInteractive(key) {\n",
              "          const element = document.querySelector('#df-54e11b06-3869-471a-92e6-ba712c699445');\n",
              "          const dataTable =\n",
              "            await google.colab.kernel.invokeFunction('convertToInteractive',\n",
              "                                                     [key], {});\n",
              "          if (!dataTable) return;\n",
              "\n",
              "          const docLinkHtml = 'Like what you see? Visit the ' +\n",
              "            '<a target=\"_blank\" href=https://colab.research.google.com/notebooks/data_table.ipynb>data table notebook</a>'\n",
              "            + ' to learn more about interactive tables.';\n",
              "          element.innerHTML = '';\n",
              "          dataTable['output_type'] = 'display_data';\n",
              "          await google.colab.output.renderOutput(dataTable, element);\n",
              "          const docLink = document.createElement('div');\n",
              "          docLink.innerHTML = docLinkHtml;\n",
              "          element.appendChild(docLink);\n",
              "        }\n",
              "      </script>\n",
              "    </div>\n",
              "  </div>\n",
              "  "
            ]
          },
          "metadata": {},
          "execution_count": 149
        }
      ]
    },
    {
      "cell_type": "code",
      "source": [
        "df[df['Age']==70].value_counts().sum()"
      ],
      "metadata": {
        "execution": {
          "iopub.status.busy": "2022-09-15T11:47:33.271131Z",
          "iopub.execute_input": "2022-09-15T11:47:33.271536Z",
          "iopub.status.idle": "2022-09-15T11:47:33.288397Z",
          "shell.execute_reply.started": "2022-09-15T11:47:33.271502Z",
          "shell.execute_reply": "2022-09-15T11:47:33.287524Z"
        },
        "trusted": true,
        "colab": {
          "base_uri": "https://localhost:8080/"
        },
        "id": "0cYatk14uHHq",
        "outputId": "5cf64164-bf99-4104-c82d-d122c0ab7a3c"
      },
      "execution_count": 150,
      "outputs": [
        {
          "output_type": "execute_result",
          "data": {
            "text/plain": [
              "8"
            ]
          },
          "metadata": {},
          "execution_count": 150
        }
      ]
    },
    {
      "cell_type": "code",
      "source": [
        "values=[]\n",
        "for i in df['Age'].values:\n",
        "    values.append(i)\n",
        "value=np.unique(values)\n",
        "intervals=[0,5,15,25,40,60,80]\n",
        "labels=['0 to 5', '5 to 15','15 to 25','25 to 40','40 to 60','60 to 80']\n",
        "df['Age_categories']=pd.cut(df['Age'],intervals,labels=labels)\n",
        "df"
      ],
      "metadata": {
        "execution": {
          "iopub.status.busy": "2022-09-15T11:47:35.680510Z",
          "iopub.execute_input": "2022-09-15T11:47:35.680990Z",
          "iopub.status.idle": "2022-09-15T11:47:35.718449Z",
          "shell.execute_reply.started": "2022-09-15T11:47:35.680956Z",
          "shell.execute_reply": "2022-09-15T11:47:35.717461Z"
        },
        "trusted": true,
        "colab": {
          "base_uri": "https://localhost:8080/",
          "height": 424
        },
        "id": "CreB_AMsuHHq",
        "outputId": "3438b344-fbbb-4e48-c3c2-cfefd9fc785a"
      },
      "execution_count": 151,
      "outputs": [
        {
          "output_type": "execute_result",
          "data": {
            "text/plain": [
              "     HomePlanet CryoSleep     Cabin    Destination   Age    VIP  RoomService  \\\n",
              "0        Europa     False     B/0/P    TRAPPIST-1e  39.0  False          0.0   \n",
              "1         Earth     False     F/0/S    TRAPPIST-1e  24.0  False        109.0   \n",
              "2        Europa     False     A/0/S    TRAPPIST-1e  58.0   True         43.0   \n",
              "3        Europa     False     A/0/S    TRAPPIST-1e  33.0  False          0.0   \n",
              "4         Earth     False     F/1/S    TRAPPIST-1e  16.0  False        303.0   \n",
              "...         ...       ...       ...            ...   ...    ...          ...   \n",
              "8688     Europa     False    A/98/P    55 Cancri e  41.0   True          0.0   \n",
              "8689      Earth      True  G/1499/S  PSO J318.5-22  18.0  False          0.0   \n",
              "8690      Earth     False  G/1500/S    TRAPPIST-1e  26.0  False          0.0   \n",
              "8691     Europa     False   E/608/S    55 Cancri e  32.0  False          0.0   \n",
              "8692     Europa     False   E/608/S    TRAPPIST-1e  44.0  False        126.0   \n",
              "\n",
              "      FoodCourt  ShoppingMall     Spa  VRDeck  Transported Age_categories  \n",
              "0           0.0           0.0     0.0     0.0        False       25 to 40  \n",
              "1           9.0          25.0   549.0    44.0         True       15 to 25  \n",
              "2        3576.0           0.0  6715.0    49.0        False       40 to 60  \n",
              "3        1283.0         371.0  3329.0   193.0        False       25 to 40  \n",
              "4          70.0         151.0   565.0     2.0         True       15 to 25  \n",
              "...         ...           ...     ...     ...          ...            ...  \n",
              "8688     6819.0           0.0  1643.0    74.0        False       40 to 60  \n",
              "8689        0.0           0.0     0.0     0.0        False       15 to 25  \n",
              "8690        0.0        1872.0     1.0     0.0         True       25 to 40  \n",
              "8691     1049.0           0.0   353.0  3235.0        False       25 to 40  \n",
              "8692     4688.0           0.0     0.0    12.0         True       40 to 60  \n",
              "\n",
              "[6764 rows x 13 columns]"
            ],
            "text/html": [
              "\n",
              "  <div id=\"df-ec9170be-1875-4c88-aeca-4a9c5deaaf49\">\n",
              "    <div class=\"colab-df-container\">\n",
              "      <div>\n",
              "<style scoped>\n",
              "    .dataframe tbody tr th:only-of-type {\n",
              "        vertical-align: middle;\n",
              "    }\n",
              "\n",
              "    .dataframe tbody tr th {\n",
              "        vertical-align: top;\n",
              "    }\n",
              "\n",
              "    .dataframe thead th {\n",
              "        text-align: right;\n",
              "    }\n",
              "</style>\n",
              "<table border=\"1\" class=\"dataframe\">\n",
              "  <thead>\n",
              "    <tr style=\"text-align: right;\">\n",
              "      <th></th>\n",
              "      <th>HomePlanet</th>\n",
              "      <th>CryoSleep</th>\n",
              "      <th>Cabin</th>\n",
              "      <th>Destination</th>\n",
              "      <th>Age</th>\n",
              "      <th>VIP</th>\n",
              "      <th>RoomService</th>\n",
              "      <th>FoodCourt</th>\n",
              "      <th>ShoppingMall</th>\n",
              "      <th>Spa</th>\n",
              "      <th>VRDeck</th>\n",
              "      <th>Transported</th>\n",
              "      <th>Age_categories</th>\n",
              "    </tr>\n",
              "  </thead>\n",
              "  <tbody>\n",
              "    <tr>\n",
              "      <th>0</th>\n",
              "      <td>Europa</td>\n",
              "      <td>False</td>\n",
              "      <td>B/0/P</td>\n",
              "      <td>TRAPPIST-1e</td>\n",
              "      <td>39.0</td>\n",
              "      <td>False</td>\n",
              "      <td>0.0</td>\n",
              "      <td>0.0</td>\n",
              "      <td>0.0</td>\n",
              "      <td>0.0</td>\n",
              "      <td>0.0</td>\n",
              "      <td>False</td>\n",
              "      <td>25 to 40</td>\n",
              "    </tr>\n",
              "    <tr>\n",
              "      <th>1</th>\n",
              "      <td>Earth</td>\n",
              "      <td>False</td>\n",
              "      <td>F/0/S</td>\n",
              "      <td>TRAPPIST-1e</td>\n",
              "      <td>24.0</td>\n",
              "      <td>False</td>\n",
              "      <td>109.0</td>\n",
              "      <td>9.0</td>\n",
              "      <td>25.0</td>\n",
              "      <td>549.0</td>\n",
              "      <td>44.0</td>\n",
              "      <td>True</td>\n",
              "      <td>15 to 25</td>\n",
              "    </tr>\n",
              "    <tr>\n",
              "      <th>2</th>\n",
              "      <td>Europa</td>\n",
              "      <td>False</td>\n",
              "      <td>A/0/S</td>\n",
              "      <td>TRAPPIST-1e</td>\n",
              "      <td>58.0</td>\n",
              "      <td>True</td>\n",
              "      <td>43.0</td>\n",
              "      <td>3576.0</td>\n",
              "      <td>0.0</td>\n",
              "      <td>6715.0</td>\n",
              "      <td>49.0</td>\n",
              "      <td>False</td>\n",
              "      <td>40 to 60</td>\n",
              "    </tr>\n",
              "    <tr>\n",
              "      <th>3</th>\n",
              "      <td>Europa</td>\n",
              "      <td>False</td>\n",
              "      <td>A/0/S</td>\n",
              "      <td>TRAPPIST-1e</td>\n",
              "      <td>33.0</td>\n",
              "      <td>False</td>\n",
              "      <td>0.0</td>\n",
              "      <td>1283.0</td>\n",
              "      <td>371.0</td>\n",
              "      <td>3329.0</td>\n",
              "      <td>193.0</td>\n",
              "      <td>False</td>\n",
              "      <td>25 to 40</td>\n",
              "    </tr>\n",
              "    <tr>\n",
              "      <th>4</th>\n",
              "      <td>Earth</td>\n",
              "      <td>False</td>\n",
              "      <td>F/1/S</td>\n",
              "      <td>TRAPPIST-1e</td>\n",
              "      <td>16.0</td>\n",
              "      <td>False</td>\n",
              "      <td>303.0</td>\n",
              "      <td>70.0</td>\n",
              "      <td>151.0</td>\n",
              "      <td>565.0</td>\n",
              "      <td>2.0</td>\n",
              "      <td>True</td>\n",
              "      <td>15 to 25</td>\n",
              "    </tr>\n",
              "    <tr>\n",
              "      <th>...</th>\n",
              "      <td>...</td>\n",
              "      <td>...</td>\n",
              "      <td>...</td>\n",
              "      <td>...</td>\n",
              "      <td>...</td>\n",
              "      <td>...</td>\n",
              "      <td>...</td>\n",
              "      <td>...</td>\n",
              "      <td>...</td>\n",
              "      <td>...</td>\n",
              "      <td>...</td>\n",
              "      <td>...</td>\n",
              "      <td>...</td>\n",
              "    </tr>\n",
              "    <tr>\n",
              "      <th>8688</th>\n",
              "      <td>Europa</td>\n",
              "      <td>False</td>\n",
              "      <td>A/98/P</td>\n",
              "      <td>55 Cancri e</td>\n",
              "      <td>41.0</td>\n",
              "      <td>True</td>\n",
              "      <td>0.0</td>\n",
              "      <td>6819.0</td>\n",
              "      <td>0.0</td>\n",
              "      <td>1643.0</td>\n",
              "      <td>74.0</td>\n",
              "      <td>False</td>\n",
              "      <td>40 to 60</td>\n",
              "    </tr>\n",
              "    <tr>\n",
              "      <th>8689</th>\n",
              "      <td>Earth</td>\n",
              "      <td>True</td>\n",
              "      <td>G/1499/S</td>\n",
              "      <td>PSO J318.5-22</td>\n",
              "      <td>18.0</td>\n",
              "      <td>False</td>\n",
              "      <td>0.0</td>\n",
              "      <td>0.0</td>\n",
              "      <td>0.0</td>\n",
              "      <td>0.0</td>\n",
              "      <td>0.0</td>\n",
              "      <td>False</td>\n",
              "      <td>15 to 25</td>\n",
              "    </tr>\n",
              "    <tr>\n",
              "      <th>8690</th>\n",
              "      <td>Earth</td>\n",
              "      <td>False</td>\n",
              "      <td>G/1500/S</td>\n",
              "      <td>TRAPPIST-1e</td>\n",
              "      <td>26.0</td>\n",
              "      <td>False</td>\n",
              "      <td>0.0</td>\n",
              "      <td>0.0</td>\n",
              "      <td>1872.0</td>\n",
              "      <td>1.0</td>\n",
              "      <td>0.0</td>\n",
              "      <td>True</td>\n",
              "      <td>25 to 40</td>\n",
              "    </tr>\n",
              "    <tr>\n",
              "      <th>8691</th>\n",
              "      <td>Europa</td>\n",
              "      <td>False</td>\n",
              "      <td>E/608/S</td>\n",
              "      <td>55 Cancri e</td>\n",
              "      <td>32.0</td>\n",
              "      <td>False</td>\n",
              "      <td>0.0</td>\n",
              "      <td>1049.0</td>\n",
              "      <td>0.0</td>\n",
              "      <td>353.0</td>\n",
              "      <td>3235.0</td>\n",
              "      <td>False</td>\n",
              "      <td>25 to 40</td>\n",
              "    </tr>\n",
              "    <tr>\n",
              "      <th>8692</th>\n",
              "      <td>Europa</td>\n",
              "      <td>False</td>\n",
              "      <td>E/608/S</td>\n",
              "      <td>TRAPPIST-1e</td>\n",
              "      <td>44.0</td>\n",
              "      <td>False</td>\n",
              "      <td>126.0</td>\n",
              "      <td>4688.0</td>\n",
              "      <td>0.0</td>\n",
              "      <td>0.0</td>\n",
              "      <td>12.0</td>\n",
              "      <td>True</td>\n",
              "      <td>40 to 60</td>\n",
              "    </tr>\n",
              "  </tbody>\n",
              "</table>\n",
              "<p>6764 rows × 13 columns</p>\n",
              "</div>\n",
              "      <button class=\"colab-df-convert\" onclick=\"convertToInteractive('df-ec9170be-1875-4c88-aeca-4a9c5deaaf49')\"\n",
              "              title=\"Convert this dataframe to an interactive table.\"\n",
              "              style=\"display:none;\">\n",
              "        \n",
              "  <svg xmlns=\"http://www.w3.org/2000/svg\" height=\"24px\"viewBox=\"0 0 24 24\"\n",
              "       width=\"24px\">\n",
              "    <path d=\"M0 0h24v24H0V0z\" fill=\"none\"/>\n",
              "    <path d=\"M18.56 5.44l.94 2.06.94-2.06 2.06-.94-2.06-.94-.94-2.06-.94 2.06-2.06.94zm-11 1L8.5 8.5l.94-2.06 2.06-.94-2.06-.94L8.5 2.5l-.94 2.06-2.06.94zm10 10l.94 2.06.94-2.06 2.06-.94-2.06-.94-.94-2.06-.94 2.06-2.06.94z\"/><path d=\"M17.41 7.96l-1.37-1.37c-.4-.4-.92-.59-1.43-.59-.52 0-1.04.2-1.43.59L10.3 9.45l-7.72 7.72c-.78.78-.78 2.05 0 2.83L4 21.41c.39.39.9.59 1.41.59.51 0 1.02-.2 1.41-.59l7.78-7.78 2.81-2.81c.8-.78.8-2.07 0-2.86zM5.41 20L4 18.59l7.72-7.72 1.47 1.35L5.41 20z\"/>\n",
              "  </svg>\n",
              "      </button>\n",
              "      \n",
              "  <style>\n",
              "    .colab-df-container {\n",
              "      display:flex;\n",
              "      flex-wrap:wrap;\n",
              "      gap: 12px;\n",
              "    }\n",
              "\n",
              "    .colab-df-convert {\n",
              "      background-color: #E8F0FE;\n",
              "      border: none;\n",
              "      border-radius: 50%;\n",
              "      cursor: pointer;\n",
              "      display: none;\n",
              "      fill: #1967D2;\n",
              "      height: 32px;\n",
              "      padding: 0 0 0 0;\n",
              "      width: 32px;\n",
              "    }\n",
              "\n",
              "    .colab-df-convert:hover {\n",
              "      background-color: #E2EBFA;\n",
              "      box-shadow: 0px 1px 2px rgba(60, 64, 67, 0.3), 0px 1px 3px 1px rgba(60, 64, 67, 0.15);\n",
              "      fill: #174EA6;\n",
              "    }\n",
              "\n",
              "    [theme=dark] .colab-df-convert {\n",
              "      background-color: #3B4455;\n",
              "      fill: #D2E3FC;\n",
              "    }\n",
              "\n",
              "    [theme=dark] .colab-df-convert:hover {\n",
              "      background-color: #434B5C;\n",
              "      box-shadow: 0px 1px 3px 1px rgba(0, 0, 0, 0.15);\n",
              "      filter: drop-shadow(0px 1px 2px rgba(0, 0, 0, 0.3));\n",
              "      fill: #FFFFFF;\n",
              "    }\n",
              "  </style>\n",
              "\n",
              "      <script>\n",
              "        const buttonEl =\n",
              "          document.querySelector('#df-ec9170be-1875-4c88-aeca-4a9c5deaaf49 button.colab-df-convert');\n",
              "        buttonEl.style.display =\n",
              "          google.colab.kernel.accessAllowed ? 'block' : 'none';\n",
              "\n",
              "        async function convertToInteractive(key) {\n",
              "          const element = document.querySelector('#df-ec9170be-1875-4c88-aeca-4a9c5deaaf49');\n",
              "          const dataTable =\n",
              "            await google.colab.kernel.invokeFunction('convertToInteractive',\n",
              "                                                     [key], {});\n",
              "          if (!dataTable) return;\n",
              "\n",
              "          const docLinkHtml = 'Like what you see? Visit the ' +\n",
              "            '<a target=\"_blank\" href=https://colab.research.google.com/notebooks/data_table.ipynb>data table notebook</a>'\n",
              "            + ' to learn more about interactive tables.';\n",
              "          element.innerHTML = '';\n",
              "          dataTable['output_type'] = 'display_data';\n",
              "          await google.colab.output.renderOutput(dataTable, element);\n",
              "          const docLink = document.createElement('div');\n",
              "          docLink.innerHTML = docLinkHtml;\n",
              "          element.appendChild(docLink);\n",
              "        }\n",
              "      </script>\n",
              "    </div>\n",
              "  </div>\n",
              "  "
            ]
          },
          "metadata": {},
          "execution_count": 151
        }
      ]
    },
    {
      "cell_type": "code",
      "source": [
        "sns.countplot(x=df['Age_categories'])\n",
        "plt.show()"
      ],
      "metadata": {
        "execution": {
          "iopub.status.busy": "2022-09-15T11:47:40.645415Z",
          "iopub.execute_input": "2022-09-15T11:47:40.645822Z",
          "iopub.status.idle": "2022-09-15T11:47:40.804515Z",
          "shell.execute_reply.started": "2022-09-15T11:47:40.645788Z",
          "shell.execute_reply": "2022-09-15T11:47:40.803325Z"
        },
        "trusted": true,
        "colab": {
          "base_uri": "https://localhost:8080/",
          "height": 280
        },
        "id": "4yzq6O7IuHHq",
        "outputId": "e020672f-e94c-4f70-ee2e-6451f2bc478b"
      },
      "execution_count": 152,
      "outputs": [
        {
          "output_type": "display_data",
          "data": {
            "text/plain": [
              "<Figure size 432x288 with 1 Axes>"
            ],
            "image/png": "[encoded data removed]"
          },
          "metadata": {
            "needs_background": "light"
          }
        }
      ]
    },
    {
      "cell_type": "code",
      "source": [
        "sns.histplot(data=df,x='Age_categories',hue='Transported')\n",
        "plt.show()"
      ],
      "metadata": {
        "execution": {
          "iopub.status.busy": "2022-09-15T11:47:43.352993Z",
          "iopub.execute_input": "2022-09-15T11:47:43.353430Z",
          "iopub.status.idle": "2022-09-15T11:47:43.562636Z",
          "shell.execute_reply.started": "2022-09-15T11:47:43.353391Z",
          "shell.execute_reply": "2022-09-15T11:47:43.561324Z"
        },
        "trusted": true,
        "colab": {
          "base_uri": "https://localhost:8080/",
          "height": 280
        },
        "id": "puhZ-yYouHHq",
        "outputId": "1122d30c-059d-4ac4-aa86-e9aa24818597"
      },
      "execution_count": 153,
      "outputs": [
        {
          "output_type": "display_data",
          "data": {
            "text/plain": [
              "<Figure size 432x288 with 1 Axes>"
            ],
            "image/png": "[encoded data removed]"
          },
          "metadata": {
            "needs_background": "light"
          }
        }
      ]
    },
    {
      "cell_type": "code",
      "source": [
        "fig,ax=plt.subplots(2,1,figsize=(15,10))\n",
        "sns.scatterplot(ax=ax[1],data=df,x='FoodCourt',y='ShoppingMall',hue='Transported',s=100)\n",
        "sns.scatterplot(ax=ax[0],data=df,x='Spa',y='VRDeck',hue='Transported',s=100)\n",
        "plt.show()"
      ],
      "metadata": {
        "execution": {
          "iopub.status.busy": "2022-09-15T11:47:50.945024Z",
          "iopub.execute_input": "2022-09-15T11:47:50.945787Z",
          "iopub.status.idle": "2022-09-15T11:47:51.743658Z",
          "shell.execute_reply.started": "2022-09-15T11:47:50.945743Z",
          "shell.execute_reply": "2022-09-15T11:47:51.742484Z"
        },
        "trusted": true,
        "colab": {
          "base_uri": "https://localhost:8080/",
          "height": 606
        },
        "id": "TLFdSSQsuHHr",
        "outputId": "3736f294-5158-447f-8ded-eb0e6ff1aa67"
      },
      "execution_count": 154,
      "outputs": [
        {
          "output_type": "display_data",
          "data": {
            "text/plain": [
              "<Figure size 1080x720 with 2 Axes>"
            ],
            "image/png": "[encoded data removed]"
          },
          "metadata": {
            "needs_background": "light"
          }
        }
      ]
    },
    {
      "cell_type": "code",
      "source": [
        "from sklearn.preprocessing import LabelEncoder\n",
        "df=df.apply(LabelEncoder().fit_transform)"
      ],
      "metadata": {
        "execution": {
          "iopub.status.busy": "2022-09-15T11:47:55.699009Z",
          "iopub.execute_input": "2022-09-15T11:47:55.699457Z",
          "iopub.status.idle": "2022-09-15T11:47:55.800555Z",
          "shell.execute_reply.started": "2022-09-15T11:47:55.699413Z",
          "shell.execute_reply": "2022-09-15T11:47:55.799348Z"
        },
        "trusted": true,
        "id": "9wehEzHeuHHr"
      },
      "execution_count": 155,
      "outputs": []
    },
    {
      "cell_type": "code",
      "source": [
        "df=df.drop('Age_categories',axis=1)\n",
        "df"
      ],
      "metadata": {
        "execution": {
          "iopub.status.busy": "2022-09-12T03:05:31.094887Z",
          "iopub.execute_input": "2022-09-12T03:05:31.095352Z",
          "iopub.status.idle": "2022-09-12T03:05:31.113550Z",
          "shell.execute_reply.started": "2022-09-12T03:05:31.095315Z",
          "shell.execute_reply": "2022-09-12T03:05:31.112397Z"
        },
        "trusted": true,
        "colab": {
          "base_uri": "https://localhost:8080/",
          "height": 424
        },
        "id": "mVEGX4ZguHHr",
        "outputId": "c4fa98eb-16f9-4993-b4f9-0cdd61b9f6d1"
      },
      "execution_count": 156,
      "outputs": [
        {
          "output_type": "execute_result",
          "data": {
            "text/plain": [
              "      HomePlanet  CryoSleep  Cabin  Destination  Age  VIP  RoomService  \\\n",
              "0              1          0    138            2   39    0            0   \n",
              "1              0          0   1854            2   24    0          107   \n",
              "2              1          0      1            2   58    1           43   \n",
              "3              1          0      1            2   33    0            0   \n",
              "4              0          0   1856            2   16    0          259   \n",
              "...          ...        ...    ...          ...  ...  ...          ...   \n",
              "8688           1          0    135            0   41    1            0   \n",
              "8689           0          1   4381            1   18    0            0   \n",
              "8690           0          0   4386            2   26    0            0   \n",
              "8691           1          0   1809            0   32    0            0   \n",
              "8692           1          0   1809            2   44    0          122   \n",
              "\n",
              "      FoodCourt  ShoppingMall   Spa  VRDeck  Transported  \n",
              "0             0             0     0       0            0  \n",
              "1             9            25   427      44            1  \n",
              "2          1063             0  1119      49            0  \n",
              "3           733           315  1012     181            0  \n",
              "4            69           145   441       2            1  \n",
              "...         ...           ...   ...     ...          ...  \n",
              "8688       1216             0   835      74            0  \n",
              "8689          0             0     0       0            0  \n",
              "8690          0           879     1       0            1  \n",
              "8691        672             0   307     972            0  \n",
              "8692       1147             0     0      12            1  \n",
              "\n",
              "[6764 rows x 12 columns]"
            ],
            "text/html": [
              "\n",
              "  <div id=\"df-f3794009-3fcb-4bbf-9856-8ac552526af1\">\n",
              "    <div class=\"colab-df-container\">\n",
              "      <div>\n",
              "<style scoped>\n",
              "    .dataframe tbody tr th:only-of-type {\n",
              "        vertical-align: middle;\n",
              "    }\n",
              "\n",
              "    .dataframe tbody tr th {\n",
              "        vertical-align: top;\n",
              "    }\n",
              "\n",
              "    .dataframe thead th {\n",
              "        text-align: right;\n",
              "    }\n",
              "</style>\n",
              "<table border=\"1\" class=\"dataframe\">\n",
              "  <thead>\n",
              "    <tr style=\"text-align: right;\">\n",
              "      <th></th>\n",
              "      <th>HomePlanet</th>\n",
              "      <th>CryoSleep</th>\n",
              "      <th>Cabin</th>\n",
              "      <th>Destination</th>\n",
              "      <th>Age</th>\n",
              "      <th>VIP</th>\n",
              "      <th>RoomService</th>\n",
              "      <th>FoodCourt</th>\n",
              "      <th>ShoppingMall</th>\n",
              "      <th>Spa</th>\n",
              "      <th>VRDeck</th>\n",
              "      <th>Transported</th>\n",
              "    </tr>\n",
              "  </thead>\n",
              "  <tbody>\n",
              "    <tr>\n",
              "      <th>0</th>\n",
              "      <td>1</td>\n",
              "      <td>0</td>\n",
              "      <td>138</td>\n",
              "      <td>2</td>\n",
              "      <td>39</td>\n",
              "      <td>0</td>\n",
              "      <td>0</td>\n",
              "      <td>0</td>\n",
              "      <td>0</td>\n",
              "      <td>0</td>\n",
              "      <td>0</td>\n",
              "      <td>0</td>\n",
              "    </tr>\n",
              "    <tr>\n",
              "      <th>1</th>\n",
              "      <td>0</td>\n",
              "      <td>0</td>\n",
              "      <td>1854</td>\n",
              "      <td>2</td>\n",
              "      <td>24</td>\n",
              "      <td>0</td>\n",
              "      <td>107</td>\n",
              "      <td>9</td>\n",
              "      <td>25</td>\n",
              "      <td>427</td>\n",
              "      <td>44</td>\n",
              "      <td>1</td>\n",
              "    </tr>\n",
              "    <tr>\n",
              "      <th>2</th>\n",
              "      <td>1</td>\n",
              "      <td>0</td>\n",
              "      <td>1</td>\n",
              "      <td>2</td>\n",
              "      <td>58</td>\n",
              "      <td>1</td>\n",
              "      <td>43</td>\n",
              "      <td>1063</td>\n",
              "      <td>0</td>\n",
              "      <td>1119</td>\n",
              "      <td>49</td>\n",
              "      <td>0</td>\n",
              "    </tr>\n",
              "    <tr>\n",
              "      <th>3</th>\n",
              "      <td>1</td>\n",
              "      <td>0</td>\n",
              "      <td>1</td>\n",
              "      <td>2</td>\n",
              "      <td>33</td>\n",
              "      <td>0</td>\n",
              "      <td>0</td>\n",
              "      <td>733</td>\n",
              "      <td>315</td>\n",
              "      <td>1012</td>\n",
              "      <td>181</td>\n",
              "      <td>0</td>\n",
              "    </tr>\n",
              "    <tr>\n",
              "      <th>4</th>\n",
              "      <td>0</td>\n",
              "      <td>0</td>\n",
              "      <td>1856</td>\n",
              "      <td>2</td>\n",
              "      <td>16</td>\n",
              "      <td>0</td>\n",
              "      <td>259</td>\n",
              "      <td>69</td>\n",
              "      <td>145</td>\n",
              "      <td>441</td>\n",
              "      <td>2</td>\n",
              "      <td>1</td>\n",
              "    </tr>\n",
              "    <tr>\n",
              "      <th>...</th>\n",
              "      <td>...</td>\n",
              "      <td>...</td>\n",
              "      <td>...</td>\n",
              "      <td>...</td>\n",
              "      <td>...</td>\n",
              "      <td>...</td>\n",
              "      <td>...</td>\n",
              "      <td>...</td>\n",
              "      <td>...</td>\n",
              "      <td>...</td>\n",
              "      <td>...</td>\n",
              "      <td>...</td>\n",
              "    </tr>\n",
              "    <tr>\n",
              "      <th>8688</th>\n",
              "      <td>1</td>\n",
              "      <td>0</td>\n",
              "      <td>135</td>\n",
              "      <td>0</td>\n",
              "      <td>41</td>\n",
              "      <td>1</td>\n",
              "      <td>0</td>\n",
              "      <td>1216</td>\n",
              "      <td>0</td>\n",
              "      <td>835</td>\n",
              "      <td>74</td>\n",
              "      <td>0</td>\n",
              "    </tr>\n",
              "    <tr>\n",
              "      <th>8689</th>\n",
              "      <td>0</td>\n",
              "      <td>1</td>\n",
              "      <td>4381</td>\n",
              "      <td>1</td>\n",
              "      <td>18</td>\n",
              "      <td>0</td>\n",
              "      <td>0</td>\n",
              "      <td>0</td>\n",
              "      <td>0</td>\n",
              "      <td>0</td>\n",
              "      <td>0</td>\n",
              "      <td>0</td>\n",
              "    </tr>\n",
              "    <tr>\n",
              "      <th>8690</th>\n",
              "      <td>0</td>\n",
              "      <td>0</td>\n",
              "      <td>4386</td>\n",
              "      <td>2</td>\n",
              "      <td>26</td>\n",
              "      <td>0</td>\n",
              "      <td>0</td>\n",
              "      <td>0</td>\n",
              "      <td>879</td>\n",
              "      <td>1</td>\n",
              "      <td>0</td>\n",
              "      <td>1</td>\n",
              "    </tr>\n",
              "    <tr>\n",
              "      <th>8691</th>\n",
              "      <td>1</td>\n",
              "      <td>0</td>\n",
              "      <td>1809</td>\n",
              "      <td>0</td>\n",
              "      <td>32</td>\n",
              "      <td>0</td>\n",
              "      <td>0</td>\n",
              "      <td>672</td>\n",
              "      <td>0</td>\n",
              "      <td>307</td>\n",
              "      <td>972</td>\n",
              "      <td>0</td>\n",
              "    </tr>\n",
              "    <tr>\n",
              "      <th>8692</th>\n",
              "      <td>1</td>\n",
              "      <td>0</td>\n",
              "      <td>1809</td>\n",
              "      <td>2</td>\n",
              "      <td>44</td>\n",
              "      <td>0</td>\n",
              "      <td>122</td>\n",
              "      <td>1147</td>\n",
              "      <td>0</td>\n",
              "      <td>0</td>\n",
              "      <td>12</td>\n",
              "      <td>1</td>\n",
              "    </tr>\n",
              "  </tbody>\n",
              "</table>\n",
              "<p>6764 rows × 12 columns</p>\n",
              "</div>\n",
              "      <button class=\"colab-df-convert\" onclick=\"convertToInteractive('df-f3794009-3fcb-4bbf-9856-8ac552526af1')\"\n",
              "              title=\"Convert this dataframe to an interactive table.\"\n",
              "              style=\"display:none;\">\n",
              "        \n",
              "  <svg xmlns=\"http://www.w3.org/2000/svg\" height=\"24px\"viewBox=\"0 0 24 24\"\n",
              "       width=\"24px\">\n",
              "    <path d=\"M0 0h24v24H0V0z\" fill=\"none\"/>\n",
              "    <path d=\"M18.56 5.44l.94 2.06.94-2.06 2.06-.94-2.06-.94-.94-2.06-.94 2.06-2.06.94zm-11 1L8.5 8.5l.94-2.06 2.06-.94-2.06-.94L8.5 2.5l-.94 2.06-2.06.94zm10 10l.94 2.06.94-2.06 2.06-.94-2.06-.94-.94-2.06-.94 2.06-2.06.94z\"/><path d=\"M17.41 7.96l-1.37-1.37c-.4-.4-.92-.59-1.43-.59-.52 0-1.04.2-1.43.59L10.3 9.45l-7.72 7.72c-.78.78-.78 2.05 0 2.83L4 21.41c.39.39.9.59 1.41.59.51 0 1.02-.2 1.41-.59l7.78-7.78 2.81-2.81c.8-.78.8-2.07 0-2.86zM5.41 20L4 18.59l7.72-7.72 1.47 1.35L5.41 20z\"/>\n",
              "  </svg>\n",
              "      </button>\n",
              "      \n",
              "  <style>\n",
              "    .colab-df-container {\n",
              "      display:flex;\n",
              "      flex-wrap:wrap;\n",
              "      gap: 12px;\n",
              "    }\n",
              "\n",
              "    .colab-df-convert {\n",
              "      background-color: #E8F0FE;\n",
              "      border: none;\n",
              "      border-radius: 50%;\n",
              "      cursor: pointer;\n",
              "      display: none;\n",
              "      fill: #1967D2;\n",
              "      height: 32px;\n",
              "      padding: 0 0 0 0;\n",
              "      width: 32px;\n",
              "    }\n",
              "\n",
              "    .colab-df-convert:hover {\n",
              "      background-color: #E2EBFA;\n",
              "      box-shadow: 0px 1px 2px rgba(60, 64, 67, 0.3), 0px 1px 3px 1px rgba(60, 64, 67, 0.15);\n",
              "      fill: #174EA6;\n",
              "    }\n",
              "\n",
              "    [theme=dark] .colab-df-convert {\n",
              "      background-color: #3B4455;\n",
              "      fill: #D2E3FC;\n",
              "    }\n",
              "\n",
              "    [theme=dark] .colab-df-convert:hover {\n",
              "      background-color: #434B5C;\n",
              "      box-shadow: 0px 1px 3px 1px rgba(0, 0, 0, 0.15);\n",
              "      filter: drop-shadow(0px 1px 2px rgba(0, 0, 0, 0.3));\n",
              "      fill: #FFFFFF;\n",
              "    }\n",
              "  </style>\n",
              "\n",
              "      <script>\n",
              "        const buttonEl =\n",
              "          document.querySelector('#df-f3794009-3fcb-4bbf-9856-8ac552526af1 button.colab-df-convert');\n",
              "        buttonEl.style.display =\n",
              "          google.colab.kernel.accessAllowed ? 'block' : 'none';\n",
              "\n",
              "        async function convertToInteractive(key) {\n",
              "          const element = document.querySelector('#df-f3794009-3fcb-4bbf-9856-8ac552526af1');\n",
              "          const dataTable =\n",
              "            await google.colab.kernel.invokeFunction('convertToInteractive',\n",
              "                                                     [key], {});\n",
              "          if (!dataTable) return;\n",
              "\n",
              "          const docLinkHtml = 'Like what you see? Visit the ' +\n",
              "            '<a target=\"_blank\" href=https://colab.research.google.com/notebooks/data_table.ipynb>data table notebook</a>'\n",
              "            + ' to learn more about interactive tables.';\n",
              "          element.innerHTML = '';\n",
              "          dataTable['output_type'] = 'display_data';\n",
              "          await google.colab.output.renderOutput(dataTable, element);\n",
              "          const docLink = document.createElement('div');\n",
              "          docLink.innerHTML = docLinkHtml;\n",
              "          element.appendChild(docLink);\n",
              "        }\n",
              "      </script>\n",
              "    </div>\n",
              "  </div>\n",
              "  "
            ]
          },
          "metadata": {},
          "execution_count": 156
        }
      ]
    },
    {
      "cell_type": "code",
      "source": [
        "df.corrwith(df['Transported']).abs().sort_values(ascending=False)"
      ],
      "metadata": {
        "colab": {
          "base_uri": "https://localhost:8080/"
        },
        "id": "SLoPD5QVvtMd",
        "outputId": "2614a053-6c69-4b9e-84bd-a6cdbf36f7b5"
      },
      "execution_count": 157,
      "outputs": [
        {
          "output_type": "execute_result",
          "data": {
            "text/plain": [
              "Transported     1.000000\n",
              "CryoSleep       0.461480\n",
              "Spa             0.321987\n",
              "RoomService     0.314389\n",
              "VRDeck          0.293508\n",
              "Destination     0.119800\n",
              "HomePlanet      0.111588\n",
              "Age             0.080535\n",
              "Cabin           0.051891\n",
              "ShoppingMall    0.043789\n",
              "VIP             0.039334\n",
              "FoodCourt       0.011106\n",
              "dtype: float64"
            ]
          },
          "metadata": {},
          "execution_count": 157
        }
      ]
    },
    {
      "cell_type": "code",
      "source": [
        "x=df.drop('Transported',axis=1)\n",
        "y=df['Transported'].copy()"
      ],
      "metadata": {
        "execution": {
          "iopub.status.busy": "2022-09-15T11:48:13.868972Z",
          "iopub.execute_input": "2022-09-15T11:48:13.869413Z",
          "iopub.status.idle": "2022-09-15T11:48:13.879551Z",
          "shell.execute_reply.started": "2022-09-15T11:48:13.869374Z",
          "shell.execute_reply": "2022-09-15T11:48:13.878428Z"
        },
        "trusted": true,
        "id": "zNW-E_1YuHHr"
      },
      "execution_count": 158,
      "outputs": []
    },
    {
      "cell_type": "code",
      "source": [
        "from sklearn.feature_selection import mutual_info_classif\n",
        "mutual_info=mutual_info_classif(x,y)\n",
        "mutual_info"
      ],
      "metadata": {
        "colab": {
          "base_uri": "https://localhost:8080/"
        },
        "id": "R2O4HqFLwxMG",
        "outputId": "0c517239-851f-4ad1-e3d7-a7890cd941bf"
      },
      "execution_count": 159,
      "outputs": [
        {
          "output_type": "execute_result",
          "data": {
            "text/plain": [
              "array([0.02319505, 0.11389493, 0.02668811, 0.00636817, 0.01306566,\n",
              "       0.        , 0.07311463, 0.04469938, 0.04139164, 0.06751534,\n",
              "       0.06604918])"
            ]
          },
          "metadata": {},
          "execution_count": 159
        }
      ]
    },
    {
      "cell_type": "code",
      "source": [
        "mutual_info=pd.Series(mutual_info)\n",
        "mutual_info.index=x.columns\n",
        "milist=mutual_info.sort_values(ascending=False)\n",
        "milist"
      ],
      "metadata": {
        "colab": {
          "base_uri": "https://localhost:8080/"
        },
        "id": "CXK-Ud1pw2fV",
        "outputId": "591e75ec-b828-4e85-af46-53f36236d513"
      },
      "execution_count": 160,
      "outputs": [
        {
          "output_type": "execute_result",
          "data": {
            "text/plain": [
              "CryoSleep       0.113895\n",
              "RoomService     0.073115\n",
              "Spa             0.067515\n",
              "VRDeck          0.066049\n",
              "FoodCourt       0.044699\n",
              "ShoppingMall    0.041392\n",
              "Cabin           0.026688\n",
              "HomePlanet      0.023195\n",
              "Age             0.013066\n",
              "Destination     0.006368\n",
              "VIP             0.000000\n",
              "dtype: float64"
            ]
          },
          "metadata": {},
          "execution_count": 160
        }
      ]
    },
    {
      "cell_type": "code",
      "source": [
        "mutual_info.sort_values(ascending=False).plot.bar(figsize=(20,8))"
      ],
      "metadata": {
        "colab": {
          "base_uri": "https://localhost:8080/",
          "height": 557
        },
        "id": "pHQWeNOLxqQ_",
        "outputId": "4b6b99f0-4e0c-46ee-ff58-734c5f755768"
      },
      "execution_count": 161,
      "outputs": [
        {
          "output_type": "execute_result",
          "data": {
            "text/plain": [
              "<matplotlib.axes._subplots.AxesSubplot at 0x7f9198069ad0>"
            ]
          },
          "metadata": {},
          "execution_count": 161
        },
        {
          "output_type": "display_data",
          "data": {
            "text/plain": [
              "<Figure size 1440x576 with 1 Axes>"
            ],
            "image/png": "[encoded data removed]"
          },
          "metadata": {
            "needs_background": "light"
          }
        }
      ]
    },
    {
      "cell_type": "code",
      "source": [
        "x.drop('VIP',axis=1,inplace=True)"
      ],
      "metadata": {
        "id": "i498rbpGx-xM"
      },
      "execution_count": 162,
      "outputs": []
    },
    {
      "cell_type": "code",
      "source": [
        "from sklearn.preprocessing import StandardScaler\n",
        "scaler=StandardScaler()\n",
        "x_train=scaler.fit_transform(x)"
      ],
      "metadata": {
        "id": "TJ87ZoePyumv"
      },
      "execution_count": 163,
      "outputs": []
    },
    {
      "cell_type": "code",
      "source": [
        "from sklearn.model_selection import train_test_split\n",
        "x_train,x_test,y_train,y_test=train_test_split(x,y,random_state=42, test_size=0.2)"
      ],
      "metadata": {
        "id": "V3CKr3imXC43"
      },
      "execution_count": 164,
      "outputs": []
    },
    {
      "cell_type": "code",
      "source": [
        "from sklearn.linear_model import LogisticRegression\n",
        "model=LogisticRegression()"
      ],
      "metadata": {
        "execution": {
          "iopub.status.busy": "2022-09-15T11:51:33.193137Z",
          "iopub.execute_input": "2022-09-15T11:51:33.193575Z",
          "iopub.status.idle": "2022-09-15T11:51:34.069409Z",
          "shell.execute_reply.started": "2022-09-15T11:51:33.193537Z",
          "shell.execute_reply": "2022-09-15T11:51:34.068099Z"
        },
        "trusted": true,
        "id": "5PYE6sg-uHHs"
      },
      "execution_count": 165,
      "outputs": []
    },
    {
      "cell_type": "code",
      "source": [
        "grid = [    \n",
        "    {\n",
        "    'C' : np.logspace(-4, 4, 20),\n",
        "    'max_iter' : [500, 1000,2500]\n",
        "    }\n",
        "]"
      ],
      "metadata": {
        "id": "V9FTdyPXzOEB"
      },
      "execution_count": 166,
      "outputs": []
    },
    {
      "cell_type": "code",
      "source": [
        "from sklearn.model_selection import GridSearchCV\n",
        "clf=GridSearchCV(model,param_grid=grid,cv=3, verbose=True, n_jobs=-1)"
      ],
      "metadata": {
        "id": "zx9RLL1-zfpg"
      },
      "execution_count": 167,
      "outputs": []
    },
    {
      "cell_type": "code",
      "source": [
        "best_clf=clf.fit(x_train,y_train)"
      ],
      "metadata": {
        "colab": {
          "base_uri": "https://localhost:8080/"
        },
        "id": "qFCVRfz10Egq",
        "outputId": "a8444f34-f12c-4465-b78e-d397431f09cd"
      },
      "execution_count": 168,
      "outputs": [
        {
          "output_type": "stream",
          "name": "stdout",
          "text": [
            "Fitting 3 folds for each of 60 candidates, totalling 180 fits\n"
          ]
        }
      ]
    },
    {
      "cell_type": "code",
      "source": [
        "best_clf.best_estimator_"
      ],
      "metadata": {
        "colab": {
          "base_uri": "https://localhost:8080/"
        },
        "id": "p5IQGQNA0Ney",
        "outputId": "5d6b80e9-65de-42c0-ae24-cad43904c163"
      },
      "execution_count": 169,
      "outputs": [
        {
          "output_type": "execute_result",
          "data": {
            "text/plain": [
              "LogisticRegression(C=0.004832930238571752, max_iter=1000)"
            ]
          },
          "metadata": {},
          "execution_count": 169
        }
      ]
    },
    {
      "cell_type": "code",
      "source": [
        "best_clf.score(x_train,y_train)"
      ],
      "metadata": {
        "colab": {
          "base_uri": "https://localhost:8080/"
        },
        "id": "tJbIlQJf0XDr",
        "outputId": "c7f86bfa-49d8-4424-b22d-55bc0cdb8638"
      },
      "execution_count": 170,
      "outputs": [
        {
          "output_type": "execute_result",
          "data": {
            "text/plain": [
              "0.7865459249676585"
            ]
          },
          "metadata": {},
          "execution_count": 170
        }
      ]
    },
    {
      "cell_type": "code",
      "source": [
        "model_r=LogisticRegression(solver='liblinear',C=0.004832930238571752, max_iter=1000)\n",
        "model_r.fit(x_train,y_train)"
      ],
      "metadata": {
        "colab": {
          "base_uri": "https://localhost:8080/"
        },
        "id": "7LG5JQMY13IX",
        "outputId": "d8457e2d-05cb-47db-f7a1-eb7e8ad07bb5"
      },
      "execution_count": 171,
      "outputs": [
        {
          "output_type": "execute_result",
          "data": {
            "text/plain": [
              "LogisticRegression(C=0.004832930238571752, max_iter=1000, solver='liblinear')"
            ]
          },
          "metadata": {},
          "execution_count": 171
        }
      ]
    },
    {
      "cell_type": "code",
      "source": [
        "y_predicted=model_r.predict(x_test)"
      ],
      "metadata": {
        "execution": {
          "iopub.status.busy": "2022-09-15T11:52:04.368473Z",
          "iopub.execute_input": "2022-09-15T11:52:04.368879Z",
          "iopub.status.idle": "2022-09-15T11:52:04.379433Z",
          "shell.execute_reply.started": "2022-09-15T11:52:04.368847Z",
          "shell.execute_reply": "2022-09-15T11:52:04.377585Z"
        },
        "trusted": true,
        "id": "VC8oRvW_uHHw"
      },
      "execution_count": 172,
      "outputs": []
    },
    {
      "cell_type": "code",
      "source": [
        "from sklearn.metrics import confusion_matrix\n",
        "plt.figure(figsize=(10,6))\n",
        "sns.heatmap(confusion_matrix(y_test,y_predicted))\n",
        "sns.heatmap(confusion_matrix(y_test,y_predicted),annot=True,fmt='g')\n",
        "plt.show()"
      ],
      "metadata": {
        "execution": {
          "iopub.status.busy": "2022-09-15T11:52:31.547278Z",
          "iopub.execute_input": "2022-09-15T11:52:31.547787Z",
          "iopub.status.idle": "2022-09-15T11:52:31.860433Z",
          "shell.execute_reply.started": "2022-09-15T11:52:31.547750Z",
          "shell.execute_reply": "2022-09-15T11:52:31.858925Z"
        },
        "trusted": true,
        "colab": {
          "base_uri": "https://localhost:8080/",
          "height": 374
        },
        "id": "IleVYbcduHHw",
        "outputId": "925605b3-8ba7-4286-84f2-884983a6bc56"
      },
      "execution_count": 173,
      "outputs": [
        {
          "output_type": "display_data",
          "data": {
            "text/plain": [
              "<Figure size 720x432 with 3 Axes>"
            ],
            "image/png": "[encoded data removed]"
          },
          "metadata": {
            "needs_background": "light"
          }
        }
      ]
    },
    {
      "cell_type": "code",
      "source": [
        "from sklearn.metrics import classification_report,accuracy_score\n",
        "print(classification_report(y_test,y_predicted))\n",
        "print(\"Accuracy: \",accuracy_score(y_test,y_predicted))"
      ],
      "metadata": {
        "colab": {
          "base_uri": "https://localhost:8080/"
        },
        "id": "qWFO8FPBuHHw",
        "outputId": "8d2fdfec-af50-4e5e-cc3f-6afdb71bf363"
      },
      "execution_count": 174,
      "outputs": [
        {
          "output_type": "stream",
          "name": "stdout",
          "text": [
            "              precision    recall  f1-score   support\n",
            "\n",
            "           0       0.83      0.74      0.78       699\n",
            "           1       0.75      0.83      0.79       654\n",
            "\n",
            "    accuracy                           0.79      1353\n",
            "   macro avg       0.79      0.79      0.79      1353\n",
            "weighted avg       0.79      0.79      0.79      1353\n",
            "\n",
            "Accuracy:  0.7856614929785661\n"
          ]
        }
      ]
    },
    {
      "cell_type": "code",
      "source": [
        "from sklearn.tree import DecisionTreeClassifier\n",
        "dt_model=DecisionTreeClassifier(max_depth=7,max_leaf_nodes=15)\n",
        "dt_model.fit(x_train,y_train)"
      ],
      "metadata": {
        "colab": {
          "base_uri": "https://localhost:8080/"
        },
        "id": "HI60vyLs2knk",
        "outputId": "360a9daa-ce1d-45fc-963c-be5243dca718"
      },
      "execution_count": 175,
      "outputs": [
        {
          "output_type": "execute_result",
          "data": {
            "text/plain": [
              "DecisionTreeClassifier(max_depth=7, max_leaf_nodes=15)"
            ]
          },
          "metadata": {},
          "execution_count": 175
        }
      ]
    },
    {
      "cell_type": "code",
      "source": [
        "y_predicted=dt_model.predict(x_test)"
      ],
      "metadata": {
        "id": "kT5e4ocn3bw3"
      },
      "execution_count": 176,
      "outputs": []
    },
    {
      "cell_type": "code",
      "source": [
        "from sklearn import metrics\n",
        "print('OVERALL RESULT, USING DecisionTreeClassifier')\n",
        "print(classification_report(y_test,y_predicted))\n",
        "print(\"Accuracy: \",accuracy_score(y_test,y_predicted))\n",
        "plt.show()\n",
        "\n",
        "sns.heatmap(confusion_matrix(y_test,y_predicted),annot=True,fmt='g')\n",
        "plt.show()\n",
        "\n",
        "fpr,tpr,thresholds=metrics.roc_curve(y_test,y_predicted)\n",
        "roc_auc=metrics.auc(fpr,tpr)\n",
        "display=metrics.RocCurveDisplay(fpr=fpr,tpr=tpr,roc_auc=roc_auc,estimator_name='ROC curve')\n",
        "display.plot()\n",
        "plt.show()"
      ],
      "metadata": {
        "colab": {
          "base_uri": "https://localhost:8080/",
          "height": 718
        },
        "id": "HtojWzyU3iXQ",
        "outputId": "c9a99d71-f473-4f50-f927-4a69f24abbfd"
      },
      "execution_count": 177,
      "outputs": [
        {
          "output_type": "stream",
          "name": "stdout",
          "text": [
            "OVERALL RESULT, USING DecisionTreeClassifier\n",
            "              precision    recall  f1-score   support\n",
            "\n",
            "           0       0.84      0.73      0.78       699\n",
            "           1       0.75      0.85      0.79       654\n",
            "\n",
            "    accuracy                           0.79      1353\n",
            "   macro avg       0.79      0.79      0.79      1353\n",
            "weighted avg       0.79      0.79      0.79      1353\n",
            "\n",
            "Accuracy:  0.7878787878787878\n"
          ]
        },
        {
          "output_type": "display_data",
          "data": {
            "text/plain": [
              "<Figure size 432x288 with 2 Axes>"
            ],
            "image/png": "[encoded data removed]"
          },
          "metadata": {
            "needs_background": "light"
          }
        },
        {
          "output_type": "display_data",
          "data": {
            "text/plain": [
              "<Figure size 432x288 with 1 Axes>"
            ],
            "image/png": "[encoded data removed]"
          },
          "metadata": {
            "needs_background": "light"
          }
        }
      ]
    },
    {
      "cell_type": "code",
      "source": [
        "f1 = []\n",
        "for k in range(1,25):\n",
        "    dt = DecisionTreeClassifier(max_depth=k)\n",
        "    dt.fit(x_train, y_train)\n",
        "    y_predict = dt.predict(x_test)\n",
        "    f1.append(metrics.f1_score(y_test, y_predict))\n",
        "\n",
        "plt.figure(figsize=(10,6))\n",
        "plt.plot(range(1,25),f1)\n",
        "plt.xticks(range(1,25))\n",
        "plt.grid()\n",
        "plt.show()"
      ],
      "metadata": {
        "colab": {
          "base_uri": "https://localhost:8080/",
          "height": 374
        },
        "id": "TtT-QAqH31ju",
        "outputId": "ffc5eb0f-a0e7-497f-aa05-eb3975bb1f96"
      },
      "execution_count": 178,
      "outputs": [
        {
          "output_type": "display_data",
          "data": {
            "text/plain": [
              "<Figure size 720x432 with 1 Axes>"
            ],
            "image/png": "[encoded data removed]"
          },
          "metadata": {
            "needs_background": "light"
          }
        }
      ]
    },
    {
      "cell_type": "code",
      "source": [
        "f1 = []\n",
        "for k in range(2,25):\n",
        "    dt = DecisionTreeClassifier(max_leaf_nodes=k)\n",
        "    dt.fit(x_train, y_train)\n",
        "    y_predict = dt.predict(x_test)\n",
        "    f1.append(metrics.f1_score(y_test, y_predict))\n",
        "\n",
        "plt.figure(figsize=(10,6))\n",
        "plt.plot(range(2,25),f1)\n",
        "plt.xticks(range(2,25))\n",
        "plt.grid()\n",
        "plt.show()"
      ],
      "metadata": {
        "colab": {
          "base_uri": "https://localhost:8080/",
          "height": 378
        },
        "id": "2t9yQGBr4Fex",
        "outputId": "545d6fa8-d89e-4837-b85c-4bd37bc0c755"
      },
      "execution_count": 179,
      "outputs": [
        {
          "output_type": "display_data",
          "data": {
            "text/plain": [
              "<Figure size 720x432 with 1 Axes>"
            ],
            "image/png": "[encoded data removed]"
          },
          "metadata": {
            "needs_background": "light"
          }
        }
      ]
    },
    {
      "cell_type": "code",
      "source": [
        "from sklearn.neighbors import KNeighborsClassifier\n",
        "f1 = []\n",
        "for k in range(1,25):\n",
        "    knn_model =KNeighborsClassifier(n_neighbors=k)\n",
        "    knn_model.fit(x_train, y_train)\n",
        "    y_predict = knn_model.predict(x_test)\n",
        "    f1.append(metrics.f1_score(y_test, y_predict))\n",
        "\n",
        "plt.figure(figsize=(10,6))\n",
        "plt.plot(range(1,25),f1)\n",
        "plt.xticks(range(1,25))\n",
        "plt.grid()\n",
        "plt.show()"
      ],
      "metadata": {
        "colab": {
          "base_uri": "https://localhost:8080/",
          "height": 374
        },
        "id": "98k81iy84kMK",
        "outputId": "1d16e48b-6650-4986-c99a-9bb7dc9f9b6b"
      },
      "execution_count": 180,
      "outputs": [
        {
          "output_type": "display_data",
          "data": {
            "text/plain": [
              "<Figure size 720x432 with 1 Axes>"
            ],
            "image/png": "[encoded data removed]"
          },
          "metadata": {
            "needs_background": "light"
          }
        }
      ]
    },
    {
      "cell_type": "code",
      "source": [
        "kn_model=KNeighborsClassifier(n_neighbors=19)\n",
        "kn_model.fit(x_train,y_train)"
      ],
      "metadata": {
        "colab": {
          "base_uri": "https://localhost:8080/"
        },
        "id": "Yy9TVkRb4q-_",
        "outputId": "21ee6c52-2c5a-4e0c-85aa-89ce3dcc0bea"
      },
      "execution_count": 181,
      "outputs": [
        {
          "output_type": "execute_result",
          "data": {
            "text/plain": [
              "KNeighborsClassifier(n_neighbors=19)"
            ]
          },
          "metadata": {},
          "execution_count": 181
        }
      ]
    },
    {
      "cell_type": "code",
      "source": [
        "y_predicted=kn_model.predict(x_test)"
      ],
      "metadata": {
        "id": "dpo8lkrY45y3"
      },
      "execution_count": 182,
      "outputs": []
    },
    {
      "cell_type": "code",
      "source": [
        "plt.figure(figsize=(10,6))\n",
        "sns.heatmap(confusion_matrix(y_test,y_predicted))\n",
        "sns.heatmap(confusion_matrix(y_test,y_predicted),annot=True,fmt='g')\n",
        "plt.show()\n",
        "print('Accuracy: ', accuracy_score(y_test,y_predicted))"
      ],
      "metadata": {
        "colab": {
          "base_uri": "https://localhost:8080/",
          "height": 391
        },
        "id": "Y9hnz5B15Dsn",
        "outputId": "b9f5bc02-c906-4476-f428-2923048acc1f"
      },
      "execution_count": 183,
      "outputs": [
        {
          "output_type": "display_data",
          "data": {
            "text/plain": [
              "<Figure size 720x432 with 3 Axes>"
            ],
            "image/png": "[encoded data removed]"
          },
          "metadata": {
            "needs_background": "light"
          }
        },
        {
          "output_type": "stream",
          "name": "stdout",
          "text": [
            "Accuracy:  0.7967479674796748\n"
          ]
        }
      ]
    },
    {
      "cell_type": "code",
      "source": [
        "df_test=pd.read_csv('/content/test.csv')\n",
        "df_test"
      ],
      "metadata": {
        "colab": {
          "base_uri": "https://localhost:8080/",
          "height": 424
        },
        "id": "zsq8vs3-WmoI",
        "outputId": "546c2a3d-b2a5-4d52-ec8f-a69802183130"
      },
      "execution_count": 184,
      "outputs": [
        {
          "output_type": "execute_result",
          "data": {
            "text/plain": [
              "     PassengerId HomePlanet CryoSleep     Cabin    Destination   Age    VIP  \\\n",
              "0        0013_01      Earth      True     G/3/S    TRAPPIST-1e  27.0  False   \n",
              "1        0018_01      Earth     False     F/4/S    TRAPPIST-1e  19.0  False   \n",
              "2        0019_01     Europa      True     C/0/S    55 Cancri e  31.0  False   \n",
              "3        0021_01     Europa     False     C/1/S    TRAPPIST-1e  38.0  False   \n",
              "4        0023_01      Earth     False     F/5/S    TRAPPIST-1e  20.0  False   \n",
              "...          ...        ...       ...       ...            ...   ...    ...   \n",
              "4272     9266_02      Earth      True  G/1496/S    TRAPPIST-1e  34.0  False   \n",
              "4273     9269_01      Earth     False       NaN    TRAPPIST-1e  42.0  False   \n",
              "4274     9271_01       Mars      True   D/296/P    55 Cancri e   NaN  False   \n",
              "4275     9273_01     Europa     False   D/297/P            NaN   NaN  False   \n",
              "4276     9277_01      Earth      True  G/1498/S  PSO J318.5-22  43.0  False   \n",
              "\n",
              "      RoomService  FoodCourt  ShoppingMall     Spa  VRDeck              Name  \n",
              "0             0.0        0.0           0.0     0.0     0.0   Nelly Carsoning  \n",
              "1             0.0        9.0           0.0  2823.0     0.0    Lerome Peckers  \n",
              "2             0.0        0.0           0.0     0.0     0.0   Sabih Unhearfus  \n",
              "3             0.0     6652.0           0.0   181.0   585.0  Meratz Caltilter  \n",
              "4            10.0        0.0         635.0     0.0     0.0   Brence Harperez  \n",
              "...           ...        ...           ...     ...     ...               ...  \n",
              "4272          0.0        0.0           0.0     0.0     0.0       Jeron Peter  \n",
              "4273          0.0      847.0          17.0    10.0   144.0     Matty Scheron  \n",
              "4274          0.0        0.0           0.0     0.0     0.0       Jayrin Pore  \n",
              "4275          0.0     2680.0           0.0     0.0   523.0    Kitakan Conale  \n",
              "4276          0.0        0.0           0.0     0.0     0.0  Lilace Leonzaley  \n",
              "\n",
              "[4277 rows x 13 columns]"
            ],
            "text/html": [
              "\n",
              "  <div id=\"df-2c0f575a-8837-4ca7-bcc3-9ab21b21fffe\">\n",
              "    <div class=\"colab-df-container\">\n",
              "      <div>\n",
              "<style scoped>\n",
              "    .dataframe tbody tr th:only-of-type {\n",
              "        vertical-align: middle;\n",
              "    }\n",
              "\n",
              "    .dataframe tbody tr th {\n",
              "        vertical-align: top;\n",
              "    }\n",
              "\n",
              "    .dataframe thead th {\n",
              "        text-align: right;\n",
              "    }\n",
              "</style>\n",
              "<table border=\"1\" class=\"dataframe\">\n",
              "  <thead>\n",
              "    <tr style=\"text-align: right;\">\n",
              "      <th></th>\n",
              "      <th>PassengerId</th>\n",
              "      <th>HomePlanet</th>\n",
              "      <th>CryoSleep</th>\n",
              "      <th>Cabin</th>\n",
              "      <th>Destination</th>\n",
              "      <th>Age</th>\n",
              "      <th>VIP</th>\n",
              "      <th>RoomService</th>\n",
              "      <th>FoodCourt</th>\n",
              "      <th>ShoppingMall</th>\n",
              "      <th>Spa</th>\n",
              "      <th>VRDeck</th>\n",
              "      <th>Name</th>\n",
              "    </tr>\n",
              "  </thead>\n",
              "  <tbody>\n",
              "    <tr>\n",
              "      <th>0</th>\n",
              "      <td>0013_01</td>\n",
              "      <td>Earth</td>\n",
              "      <td>True</td>\n",
              "      <td>G/3/S</td>\n",
              "      <td>TRAPPIST-1e</td>\n",
              "      <td>27.0</td>\n",
              "      <td>False</td>\n",
              "      <td>0.0</td>\n",
              "      <td>0.0</td>\n",
              "      <td>0.0</td>\n",
              "      <td>0.0</td>\n",
              "      <td>0.0</td>\n",
              "      <td>Nelly Carsoning</td>\n",
              "    </tr>\n",
              "    <tr>\n",
              "      <th>1</th>\n",
              "      <td>0018_01</td>\n",
              "      <td>Earth</td>\n",
              "      <td>False</td>\n",
              "      <td>F/4/S</td>\n",
              "      <td>TRAPPIST-1e</td>\n",
              "      <td>19.0</td>\n",
              "      <td>False</td>\n",
              "      <td>0.0</td>\n",
              "      <td>9.0</td>\n",
              "      <td>0.0</td>\n",
              "      <td>2823.0</td>\n",
              "      <td>0.0</td>\n",
              "      <td>Lerome Peckers</td>\n",
              "    </tr>\n",
              "    <tr>\n",
              "      <th>2</th>\n",
              "      <td>0019_01</td>\n",
              "      <td>Europa</td>\n",
              "      <td>True</td>\n",
              "      <td>C/0/S</td>\n",
              "      <td>55 Cancri e</td>\n",
              "      <td>31.0</td>\n",
              "      <td>False</td>\n",
              "      <td>0.0</td>\n",
              "      <td>0.0</td>\n",
              "      <td>0.0</td>\n",
              "      <td>0.0</td>\n",
              "      <td>0.0</td>\n",
              "      <td>Sabih Unhearfus</td>\n",
              "    </tr>\n",
              "    <tr>\n",
              "      <th>3</th>\n",
              "      <td>0021_01</td>\n",
              "      <td>Europa</td>\n",
              "      <td>False</td>\n",
              "      <td>C/1/S</td>\n",
              "      <td>TRAPPIST-1e</td>\n",
              "      <td>38.0</td>\n",
              "      <td>False</td>\n",
              "      <td>0.0</td>\n",
              "      <td>6652.0</td>\n",
              "      <td>0.0</td>\n",
              "      <td>181.0</td>\n",
              "      <td>585.0</td>\n",
              "      <td>Meratz Caltilter</td>\n",
              "    </tr>\n",
              "    <tr>\n",
              "      <th>4</th>\n",
              "      <td>0023_01</td>\n",
              "      <td>Earth</td>\n",
              "      <td>False</td>\n",
              "      <td>F/5/S</td>\n",
              "      <td>TRAPPIST-1e</td>\n",
              "      <td>20.0</td>\n",
              "      <td>False</td>\n",
              "      <td>10.0</td>\n",
              "      <td>0.0</td>\n",
              "      <td>635.0</td>\n",
              "      <td>0.0</td>\n",
              "      <td>0.0</td>\n",
              "      <td>Brence Harperez</td>\n",
              "    </tr>\n",
              "    <tr>\n",
              "      <th>...</th>\n",
              "      <td>...</td>\n",
              "      <td>...</td>\n",
              "      <td>...</td>\n",
              "      <td>...</td>\n",
              "      <td>...</td>\n",
              "      <td>...</td>\n",
              "      <td>...</td>\n",
              "      <td>...</td>\n",
              "      <td>...</td>\n",
              "      <td>...</td>\n",
              "      <td>...</td>\n",
              "      <td>...</td>\n",
              "      <td>...</td>\n",
              "    </tr>\n",
              "    <tr>\n",
              "      <th>4272</th>\n",
              "      <td>9266_02</td>\n",
              "      <td>Earth</td>\n",
              "      <td>True</td>\n",
              "      <td>G/1496/S</td>\n",
              "      <td>TRAPPIST-1e</td>\n",
              "      <td>34.0</td>\n",
              "      <td>False</td>\n",
              "      <td>0.0</td>\n",
              "      <td>0.0</td>\n",
              "      <td>0.0</td>\n",
              "      <td>0.0</td>\n",
              "      <td>0.0</td>\n",
              "      <td>Jeron Peter</td>\n",
              "    </tr>\n",
              "    <tr>\n",
              "      <th>4273</th>\n",
              "      <td>9269_01</td>\n",
              "      <td>Earth</td>\n",
              "      <td>False</td>\n",
              "      <td>NaN</td>\n",
              "      <td>TRAPPIST-1e</td>\n",
              "      <td>42.0</td>\n",
              "      <td>False</td>\n",
              "      <td>0.0</td>\n",
              "      <td>847.0</td>\n",
              "      <td>17.0</td>\n",
              "      <td>10.0</td>\n",
              "      <td>144.0</td>\n",
              "      <td>Matty Scheron</td>\n",
              "    </tr>\n",
              "    <tr>\n",
              "      <th>4274</th>\n",
              "      <td>9271_01</td>\n",
              "      <td>Mars</td>\n",
              "      <td>True</td>\n",
              "      <td>D/296/P</td>\n",
              "      <td>55 Cancri e</td>\n",
              "      <td>NaN</td>\n",
              "      <td>False</td>\n",
              "      <td>0.0</td>\n",
              "      <td>0.0</td>\n",
              "      <td>0.0</td>\n",
              "      <td>0.0</td>\n",
              "      <td>0.0</td>\n",
              "      <td>Jayrin Pore</td>\n",
              "    </tr>\n",
              "    <tr>\n",
              "      <th>4275</th>\n",
              "      <td>9273_01</td>\n",
              "      <td>Europa</td>\n",
              "      <td>False</td>\n",
              "      <td>D/297/P</td>\n",
              "      <td>NaN</td>\n",
              "      <td>NaN</td>\n",
              "      <td>False</td>\n",
              "      <td>0.0</td>\n",
              "      <td>2680.0</td>\n",
              "      <td>0.0</td>\n",
              "      <td>0.0</td>\n",
              "      <td>523.0</td>\n",
              "      <td>Kitakan Conale</td>\n",
              "    </tr>\n",
              "    <tr>\n",
              "      <th>4276</th>\n",
              "      <td>9277_01</td>\n",
              "      <td>Earth</td>\n",
              "      <td>True</td>\n",
              "      <td>G/1498/S</td>\n",
              "      <td>PSO J318.5-22</td>\n",
              "      <td>43.0</td>\n",
              "      <td>False</td>\n",
              "      <td>0.0</td>\n",
              "      <td>0.0</td>\n",
              "      <td>0.0</td>\n",
              "      <td>0.0</td>\n",
              "      <td>0.0</td>\n",
              "      <td>Lilace Leonzaley</td>\n",
              "    </tr>\n",
              "  </tbody>\n",
              "</table>\n",
              "<p>4277 rows × 13 columns</p>\n",
              "</div>\n",
              "      <button class=\"colab-df-convert\" onclick=\"convertToInteractive('df-2c0f575a-8837-4ca7-bcc3-9ab21b21fffe')\"\n",
              "              title=\"Convert this dataframe to an interactive table.\"\n",
              "              style=\"display:none;\">\n",
              "        \n",
              "  <svg xmlns=\"http://www.w3.org/2000/svg\" height=\"24px\"viewBox=\"0 0 24 24\"\n",
              "       width=\"24px\">\n",
              "    <path d=\"M0 0h24v24H0V0z\" fill=\"none\"/>\n",
              "    <path d=\"M18.56 5.44l.94 2.06.94-2.06 2.06-.94-2.06-.94-.94-2.06-.94 2.06-2.06.94zm-11 1L8.5 8.5l.94-2.06 2.06-.94-2.06-.94L8.5 2.5l-.94 2.06-2.06.94zm10 10l.94 2.06.94-2.06 2.06-.94-2.06-.94-.94-2.06-.94 2.06-2.06.94z\"/><path d=\"M17.41 7.96l-1.37-1.37c-.4-.4-.92-.59-1.43-.59-.52 0-1.04.2-1.43.59L10.3 9.45l-7.72 7.72c-.78.78-.78 2.05 0 2.83L4 21.41c.39.39.9.59 1.41.59.51 0 1.02-.2 1.41-.59l7.78-7.78 2.81-2.81c.8-.78.8-2.07 0-2.86zM5.41 20L4 18.59l7.72-7.72 1.47 1.35L5.41 20z\"/>\n",
              "  </svg>\n",
              "      </button>\n",
              "      \n",
              "  <style>\n",
              "    .colab-df-container {\n",
              "      display:flex;\n",
              "      flex-wrap:wrap;\n",
              "      gap: 12px;\n",
              "    }\n",
              "\n",
              "    .colab-df-convert {\n",
              "      background-color: #E8F0FE;\n",
              "      border: none;\n",
              "      border-radius: 50%;\n",
              "      cursor: pointer;\n",
              "      display: none;\n",
              "      fill: #1967D2;\n",
              "      height: 32px;\n",
              "      padding: 0 0 0 0;\n",
              "      width: 32px;\n",
              "    }\n",
              "\n",
              "    .colab-df-convert:hover {\n",
              "      background-color: #E2EBFA;\n",
              "      box-shadow: 0px 1px 2px rgba(60, 64, 67, 0.3), 0px 1px 3px 1px rgba(60, 64, 67, 0.15);\n",
              "      fill: #174EA6;\n",
              "    }\n",
              "\n",
              "    [theme=dark] .colab-df-convert {\n",
              "      background-color: #3B4455;\n",
              "      fill: #D2E3FC;\n",
              "    }\n",
              "\n",
              "    [theme=dark] .colab-df-convert:hover {\n",
              "      background-color: #434B5C;\n",
              "      box-shadow: 0px 1px 3px 1px rgba(0, 0, 0, 0.15);\n",
              "      filter: drop-shadow(0px 1px 2px rgba(0, 0, 0, 0.3));\n",
              "      fill: #FFFFFF;\n",
              "    }\n",
              "  </style>\n",
              "\n",
              "      <script>\n",
              "        const buttonEl =\n",
              "          document.querySelector('#df-2c0f575a-8837-4ca7-bcc3-9ab21b21fffe button.colab-df-convert');\n",
              "        buttonEl.style.display =\n",
              "          google.colab.kernel.accessAllowed ? 'block' : 'none';\n",
              "\n",
              "        async function convertToInteractive(key) {\n",
              "          const element = document.querySelector('#df-2c0f575a-8837-4ca7-bcc3-9ab21b21fffe');\n",
              "          const dataTable =\n",
              "            await google.colab.kernel.invokeFunction('convertToInteractive',\n",
              "                                                     [key], {});\n",
              "          if (!dataTable) return;\n",
              "\n",
              "          const docLinkHtml = 'Like what you see? Visit the ' +\n",
              "            '<a target=\"_blank\" href=https://colab.research.google.com/notebooks/data_table.ipynb>data table notebook</a>'\n",
              "            + ' to learn more about interactive tables.';\n",
              "          element.innerHTML = '';\n",
              "          dataTable['output_type'] = 'display_data';\n",
              "          await google.colab.output.renderOutput(dataTable, element);\n",
              "          const docLink = document.createElement('div');\n",
              "          docLink.innerHTML = docLinkHtml;\n",
              "          element.appendChild(docLink);\n",
              "        }\n",
              "      </script>\n",
              "    </div>\n",
              "  </div>\n",
              "  "
            ]
          },
          "metadata": {},
          "execution_count": 184
        }
      ]
    },
    {
      "cell_type": "code",
      "source": [
        "names_df=pd.DataFrame(df_test['Name'])\n",
        "names_df"
      ],
      "metadata": {
        "colab": {
          "base_uri": "https://localhost:8080/",
          "height": 424
        },
        "id": "WjMsb43vYqgn",
        "outputId": "b8be1e5a-ce8c-48a5-fe47-c3fa514f58f6"
      },
      "execution_count": 185,
      "outputs": [
        {
          "output_type": "execute_result",
          "data": {
            "text/plain": [
              "                  Name\n",
              "0      Nelly Carsoning\n",
              "1       Lerome Peckers\n",
              "2      Sabih Unhearfus\n",
              "3     Meratz Caltilter\n",
              "4      Brence Harperez\n",
              "...                ...\n",
              "4272       Jeron Peter\n",
              "4273     Matty Scheron\n",
              "4274       Jayrin Pore\n",
              "4275    Kitakan Conale\n",
              "4276  Lilace Leonzaley\n",
              "\n",
              "[4277 rows x 1 columns]"
            ],
            "text/html": [
              "\n",
              "  <div id=\"df-fe5a3db7-3ace-4b8a-92c5-f64a7052ecd7\">\n",
              "    <div class=\"colab-df-container\">\n",
              "      <div>\n",
              "<style scoped>\n",
              "    .dataframe tbody tr th:only-of-type {\n",
              "        vertical-align: middle;\n",
              "    }\n",
              "\n",
              "    .dataframe tbody tr th {\n",
              "        vertical-align: top;\n",
              "    }\n",
              "\n",
              "    .dataframe thead th {\n",
              "        text-align: right;\n",
              "    }\n",
              "</style>\n",
              "<table border=\"1\" class=\"dataframe\">\n",
              "  <thead>\n",
              "    <tr style=\"text-align: right;\">\n",
              "      <th></th>\n",
              "      <th>Name</th>\n",
              "    </tr>\n",
              "  </thead>\n",
              "  <tbody>\n",
              "    <tr>\n",
              "      <th>0</th>\n",
              "      <td>Nelly Carsoning</td>\n",
              "    </tr>\n",
              "    <tr>\n",
              "      <th>1</th>\n",
              "      <td>Lerome Peckers</td>\n",
              "    </tr>\n",
              "    <tr>\n",
              "      <th>2</th>\n",
              "      <td>Sabih Unhearfus</td>\n",
              "    </tr>\n",
              "    <tr>\n",
              "      <th>3</th>\n",
              "      <td>Meratz Caltilter</td>\n",
              "    </tr>\n",
              "    <tr>\n",
              "      <th>4</th>\n",
              "      <td>Brence Harperez</td>\n",
              "    </tr>\n",
              "    <tr>\n",
              "      <th>...</th>\n",
              "      <td>...</td>\n",
              "    </tr>\n",
              "    <tr>\n",
              "      <th>4272</th>\n",
              "      <td>Jeron Peter</td>\n",
              "    </tr>\n",
              "    <tr>\n",
              "      <th>4273</th>\n",
              "      <td>Matty Scheron</td>\n",
              "    </tr>\n",
              "    <tr>\n",
              "      <th>4274</th>\n",
              "      <td>Jayrin Pore</td>\n",
              "    </tr>\n",
              "    <tr>\n",
              "      <th>4275</th>\n",
              "      <td>Kitakan Conale</td>\n",
              "    </tr>\n",
              "    <tr>\n",
              "      <th>4276</th>\n",
              "      <td>Lilace Leonzaley</td>\n",
              "    </tr>\n",
              "  </tbody>\n",
              "</table>\n",
              "<p>4277 rows × 1 columns</p>\n",
              "</div>\n",
              "      <button class=\"colab-df-convert\" onclick=\"convertToInteractive('df-fe5a3db7-3ace-4b8a-92c5-f64a7052ecd7')\"\n",
              "              title=\"Convert this dataframe to an interactive table.\"\n",
              "              style=\"display:none;\">\n",
              "        \n",
              "  <svg xmlns=\"http://www.w3.org/2000/svg\" height=\"24px\"viewBox=\"0 0 24 24\"\n",
              "       width=\"24px\">\n",
              "    <path d=\"M0 0h24v24H0V0z\" fill=\"none\"/>\n",
              "    <path d=\"M18.56 5.44l.94 2.06.94-2.06 2.06-.94-2.06-.94-.94-2.06-.94 2.06-2.06.94zm-11 1L8.5 8.5l.94-2.06 2.06-.94-2.06-.94L8.5 2.5l-.94 2.06-2.06.94zm10 10l.94 2.06.94-2.06 2.06-.94-2.06-.94-.94-2.06-.94 2.06-2.06.94z\"/><path d=\"M17.41 7.96l-1.37-1.37c-.4-.4-.92-.59-1.43-.59-.52 0-1.04.2-1.43.59L10.3 9.45l-7.72 7.72c-.78.78-.78 2.05 0 2.83L4 21.41c.39.39.9.59 1.41.59.51 0 1.02-.2 1.41-.59l7.78-7.78 2.81-2.81c.8-.78.8-2.07 0-2.86zM5.41 20L4 18.59l7.72-7.72 1.47 1.35L5.41 20z\"/>\n",
              "  </svg>\n",
              "      </button>\n",
              "      \n",
              "  <style>\n",
              "    .colab-df-container {\n",
              "      display:flex;\n",
              "      flex-wrap:wrap;\n",
              "      gap: 12px;\n",
              "    }\n",
              "\n",
              "    .colab-df-convert {\n",
              "      background-color: #E8F0FE;\n",
              "      border: none;\n",
              "      border-radius: 50%;\n",
              "      cursor: pointer;\n",
              "      display: none;\n",
              "      fill: #1967D2;\n",
              "      height: 32px;\n",
              "      padding: 0 0 0 0;\n",
              "      width: 32px;\n",
              "    }\n",
              "\n",
              "    .colab-df-convert:hover {\n",
              "      background-color: #E2EBFA;\n",
              "      box-shadow: 0px 1px 2px rgba(60, 64, 67, 0.3), 0px 1px 3px 1px rgba(60, 64, 67, 0.15);\n",
              "      fill: #174EA6;\n",
              "    }\n",
              "\n",
              "    [theme=dark] .colab-df-convert {\n",
              "      background-color: #3B4455;\n",
              "      fill: #D2E3FC;\n",
              "    }\n",
              "\n",
              "    [theme=dark] .colab-df-convert:hover {\n",
              "      background-color: #434B5C;\n",
              "      box-shadow: 0px 1px 3px 1px rgba(0, 0, 0, 0.15);\n",
              "      filter: drop-shadow(0px 1px 2px rgba(0, 0, 0, 0.3));\n",
              "      fill: #FFFFFF;\n",
              "    }\n",
              "  </style>\n",
              "\n",
              "      <script>\n",
              "        const buttonEl =\n",
              "          document.querySelector('#df-fe5a3db7-3ace-4b8a-92c5-f64a7052ecd7 button.colab-df-convert');\n",
              "        buttonEl.style.display =\n",
              "          google.colab.kernel.accessAllowed ? 'block' : 'none';\n",
              "\n",
              "        async function convertToInteractive(key) {\n",
              "          const element = document.querySelector('#df-fe5a3db7-3ace-4b8a-92c5-f64a7052ecd7');\n",
              "          const dataTable =\n",
              "            await google.colab.kernel.invokeFunction('convertToInteractive',\n",
              "                                                     [key], {});\n",
              "          if (!dataTable) return;\n",
              "\n",
              "          const docLinkHtml = 'Like what you see? Visit the ' +\n",
              "            '<a target=\"_blank\" href=https://colab.research.google.com/notebooks/data_table.ipynb>data table notebook</a>'\n",
              "            + ' to learn more about interactive tables.';\n",
              "          element.innerHTML = '';\n",
              "          dataTable['output_type'] = 'display_data';\n",
              "          await google.colab.output.renderOutput(dataTable, element);\n",
              "          const docLink = document.createElement('div');\n",
              "          docLink.innerHTML = docLinkHtml;\n",
              "          element.appendChild(docLink);\n",
              "        }\n",
              "      </script>\n",
              "    </div>\n",
              "  </div>\n",
              "  "
            ]
          },
          "metadata": {},
          "execution_count": 185
        }
      ]
    },
    {
      "cell_type": "code",
      "source": [
        "def clean(df):\n",
        "  df=df.drop(['PassengerId','VIP','Name'],axis=1)\n",
        "  df=df.apply(LabelEncoder().fit_transform)\n",
        "  df=scaler.fit_transform(df)\n",
        "  return df"
      ],
      "metadata": {
        "id": "opEXhefOWrIo"
      },
      "execution_count": 186,
      "outputs": []
    },
    {
      "cell_type": "code",
      "source": [
        "df_test=clean(df_test)"
      ],
      "metadata": {
        "id": "zULouFdNYavP"
      },
      "execution_count": 187,
      "outputs": []
    },
    {
      "cell_type": "code",
      "source": [
        "Prediction=kn_model.predict(df_test)"
      ],
      "metadata": {
        "colab": {
          "base_uri": "https://localhost:8080/"
        },
        "id": "50IdUJ0QZA2I",
        "outputId": "338f727c-cf04-4533-b970-90d4db5097e3"
      },
      "execution_count": 188,
      "outputs": [
        {
          "output_type": "stream",
          "name": "stderr",
          "text": [
            "/usr/local/lib/python3.7/dist-packages/sklearn/base.py:451: UserWarning: X does not have valid feature names, but KNeighborsClassifier was fitted with feature names\n",
            "  \"X does not have valid feature names, but\"\n"
          ]
        }
      ]
    },
    {
      "cell_type": "code",
      "source": [
        "names_df['Prediction']=pd.DataFrame(Prediction)"
      ],
      "metadata": {
        "id": "EXORruy9ZIPQ"
      },
      "execution_count": 189,
      "outputs": []
    },
    {
      "cell_type": "code",
      "source": [
        "names_df"
      ],
      "metadata": {
        "colab": {
          "base_uri": "https://localhost:8080/",
          "height": 424
        },
        "id": "MlDSvW8za3fz",
        "outputId": "ba401241-f4ca-4e4b-9380-b026a5a7ee8b"
      },
      "execution_count": 190,
      "outputs": [
        {
          "output_type": "execute_result",
          "data": {
            "text/plain": [
              "                  Name  Prediction\n",
              "0      Nelly Carsoning           1\n",
              "1       Lerome Peckers           1\n",
              "2      Sabih Unhearfus           1\n",
              "3     Meratz Caltilter           1\n",
              "4      Brence Harperez           1\n",
              "...                ...         ...\n",
              "4272       Jeron Peter           1\n",
              "4273     Matty Scheron           1\n",
              "4274       Jayrin Pore           1\n",
              "4275    Kitakan Conale           1\n",
              "4276  Lilace Leonzaley           1\n",
              "\n",
              "[4277 rows x 2 columns]"
            ],
            "text/html": [
              "\n",
              "  <div id=\"df-4edbfde1-4fb3-4897-aa99-26a283ad6ec0\">\n",
              "    <div class=\"colab-df-container\">\n",
              "      <div>\n",
              "<style scoped>\n",
              "    .dataframe tbody tr th:only-of-type {\n",
              "        vertical-align: middle;\n",
              "    }\n",
              "\n",
              "    .dataframe tbody tr th {\n",
              "        vertical-align: top;\n",
              "    }\n",
              "\n",
              "    .dataframe thead th {\n",
              "        text-align: right;\n",
              "    }\n",
              "</style>\n",
              "<table border=\"1\" class=\"dataframe\">\n",
              "  <thead>\n",
              "    <tr style=\"text-align: right;\">\n",
              "      <th></th>\n",
              "      <th>Name</th>\n",
              "      <th>Prediction</th>\n",
              "    </tr>\n",
              "  </thead>\n",
              "  <tbody>\n",
              "    <tr>\n",
              "      <th>0</th>\n",
              "      <td>Nelly Carsoning</td>\n",
              "      <td>1</td>\n",
              "    </tr>\n",
              "    <tr>\n",
              "      <th>1</th>\n",
              "      <td>Lerome Peckers</td>\n",
              "      <td>1</td>\n",
              "    </tr>\n",
              "    <tr>\n",
              "      <th>2</th>\n",
              "      <td>Sabih Unhearfus</td>\n",
              "      <td>1</td>\n",
              "    </tr>\n",
              "    <tr>\n",
              "      <th>3</th>\n",
              "      <td>Meratz Caltilter</td>\n",
              "      <td>1</td>\n",
              "    </tr>\n",
              "    <tr>\n",
              "      <th>4</th>\n",
              "      <td>Brence Harperez</td>\n",
              "      <td>1</td>\n",
              "    </tr>\n",
              "    <tr>\n",
              "      <th>...</th>\n",
              "      <td>...</td>\n",
              "      <td>...</td>\n",
              "    </tr>\n",
              "    <tr>\n",
              "      <th>4272</th>\n",
              "      <td>Jeron Peter</td>\n",
              "      <td>1</td>\n",
              "    </tr>\n",
              "    <tr>\n",
              "      <th>4273</th>\n",
              "      <td>Matty Scheron</td>\n",
              "      <td>1</td>\n",
              "    </tr>\n",
              "    <tr>\n",
              "      <th>4274</th>\n",
              "      <td>Jayrin Pore</td>\n",
              "      <td>1</td>\n",
              "    </tr>\n",
              "    <tr>\n",
              "      <th>4275</th>\n",
              "      <td>Kitakan Conale</td>\n",
              "      <td>1</td>\n",
              "    </tr>\n",
              "    <tr>\n",
              "      <th>4276</th>\n",
              "      <td>Lilace Leonzaley</td>\n",
              "      <td>1</td>\n",
              "    </tr>\n",
              "  </tbody>\n",
              "</table>\n",
              "<p>4277 rows × 2 columns</p>\n",
              "</div>\n",
              "      <button class=\"colab-df-convert\" onclick=\"convertToInteractive('df-4edbfde1-4fb3-4897-aa99-26a283ad6ec0')\"\n",
              "              title=\"Convert this dataframe to an interactive table.\"\n",
              "              style=\"display:none;\">\n",
              "        \n",
              "  <svg xmlns=\"http://www.w3.org/2000/svg\" height=\"24px\"viewBox=\"0 0 24 24\"\n",
              "       width=\"24px\">\n",
              "    <path d=\"M0 0h24v24H0V0z\" fill=\"none\"/>\n",
              "    <path d=\"M18.56 5.44l.94 2.06.94-2.06 2.06-.94-2.06-.94-.94-2.06-.94 2.06-2.06.94zm-11 1L8.5 8.5l.94-2.06 2.06-.94-2.06-.94L8.5 2.5l-.94 2.06-2.06.94zm10 10l.94 2.06.94-2.06 2.06-.94-2.06-.94-.94-2.06-.94 2.06-2.06.94z\"/><path d=\"M17.41 7.96l-1.37-1.37c-.4-.4-.92-.59-1.43-.59-.52 0-1.04.2-1.43.59L10.3 9.45l-7.72 7.72c-.78.78-.78 2.05 0 2.83L4 21.41c.39.39.9.59 1.41.59.51 0 1.02-.2 1.41-.59l7.78-7.78 2.81-2.81c.8-.78.8-2.07 0-2.86zM5.41 20L4 18.59l7.72-7.72 1.47 1.35L5.41 20z\"/>\n",
              "  </svg>\n",
              "      </button>\n",
              "      \n",
              "  <style>\n",
              "    .colab-df-container {\n",
              "      display:flex;\n",
              "      flex-wrap:wrap;\n",
              "      gap: 12px;\n",
              "    }\n",
              "\n",
              "    .colab-df-convert {\n",
              "      background-color: #E8F0FE;\n",
              "      border: none;\n",
              "      border-radius: 50%;\n",
              "      cursor: pointer;\n",
              "      display: none;\n",
              "      fill: #1967D2;\n",
              "      height: 32px;\n",
              "      padding: 0 0 0 0;\n",
              "      width: 32px;\n",
              "    }\n",
              "\n",
              "    .colab-df-convert:hover {\n",
              "      background-color: #E2EBFA;\n",
              "      box-shadow: 0px 1px 2px rgba(60, 64, 67, 0.3), 0px 1px 3px 1px rgba(60, 64, 67, 0.15);\n",
              "      fill: #174EA6;\n",
              "    }\n",
              "\n",
              "    [theme=dark] .colab-df-convert {\n",
              "      background-color: #3B4455;\n",
              "      fill: #D2E3FC;\n",
              "    }\n",
              "\n",
              "    [theme=dark] .colab-df-convert:hover {\n",
              "      background-color: #434B5C;\n",
              "      box-shadow: 0px 1px 3px 1px rgba(0, 0, 0, 0.15);\n",
              "      filter: drop-shadow(0px 1px 2px rgba(0, 0, 0, 0.3));\n",
              "      fill: #FFFFFF;\n",
              "    }\n",
              "  </style>\n",
              "\n",
              "      <script>\n",
              "        const buttonEl =\n",
              "          document.querySelector('#df-4edbfde1-4fb3-4897-aa99-26a283ad6ec0 button.colab-df-convert');\n",
              "        buttonEl.style.display =\n",
              "          google.colab.kernel.accessAllowed ? 'block' : 'none';\n",
              "\n",
              "        async function convertToInteractive(key) {\n",
              "          const element = document.querySelector('#df-4edbfde1-4fb3-4897-aa99-26a283ad6ec0');\n",
              "          const dataTable =\n",
              "            await google.colab.kernel.invokeFunction('convertToInteractive',\n",
              "                                                     [key], {});\n",
              "          if (!dataTable) return;\n",
              "\n",
              "          const docLinkHtml = 'Like what you see? Visit the ' +\n",
              "            '<a target=\"_blank\" href=https://colab.research.google.com/notebooks/data_table.ipynb>data table notebook</a>'\n",
              "            + ' to learn more about interactive tables.';\n",
              "          element.innerHTML = '';\n",
              "          dataTable['output_type'] = 'display_data';\n",
              "          await google.colab.output.renderOutput(dataTable, element);\n",
              "          const docLink = document.createElement('div');\n",
              "          docLink.innerHTML = docLinkHtml;\n",
              "          element.appendChild(docLink);\n",
              "        }\n",
              "      </script>\n",
              "    </div>\n",
              "  </div>\n",
              "  "
            ]
          },
          "metadata": {},
          "execution_count": 190
        }
      ]
    }
  ]
}